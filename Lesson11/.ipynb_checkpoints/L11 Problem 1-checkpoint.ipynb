{
 "metadata": {
  "name": "",
  "signature": "sha256:89f0f57241002ca40849ef06993b241ba15fc6ddea8aba65c5261bf3570437fe"
 },
 "nbformat": 3,
 "nbformat_minor": 0,
 "worksheets": [
  {
   "cells": [
    {
     "cell_type": "raw",
     "metadata": {},
     "source": [
      "1. What method is called when an object is created? \n",
      "\n",
      "a) self \n",
      "b) obj.self \n",
      "c) init \n",
      "d) __init__ \n",
      "e) new "
     ]
    },
    {
     "cell_type": "raw",
     "metadata": {},
     "source": [
      "2. If you have an object instance, obj, and you want to call its doSomething() method (assuming it has one), how would you do this? (write the line of code you would use)\n",
      "\n",
      "Answer: obj.doSomething()"
     ]
    },
    {
     "cell_type": "raw",
     "metadata": {},
     "source": [
      "3. True or False? An object's attributes must be defined in the object's __init__ method.\n",
      "\n",
      "Answer: False"
     ]
    },
    {
     "cell_type": "raw",
     "metadata": {},
     "source": [
      "4. The following code starts the definition of a class called Address. The class needs to have two attributes: number and streetName. Please add in the two lines of code that will create these attributes from the appropriate passed in parameters. \n",
      "    \n",
      "class Address(object):\n",
      "    def __init__(self, number, streetName):\n",
      "        # Line 1: Creating a number attribute\n",
      "        # Line 2: Creating a streetName attribute"
     ]
    },
    {
     "cell_type": "markdown",
     "metadata": {},
     "source": [
      "#Answer\n",
      "class Address(object):\n",
      "    def __init__(self, number, streetName):\n",
      "        self.number = number\n",
      "        self.streetName = streetName"
     ]
    }
   ],
   "metadata": {}
  }
 ]
}
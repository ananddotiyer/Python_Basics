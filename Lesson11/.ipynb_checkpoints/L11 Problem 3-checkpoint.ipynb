{
 "metadata": {
  "name": "",
  "signature": "sha256:7018d998bf26d7cf96790d9ef4ce0f64de1b699d5a2b75883340b639b2b50454"
 },
 "nbformat": 3,
 "nbformat_minor": 0,
 "worksheets": [
  {
   "cells": [
    {
     "cell_type": "markdown",
     "metadata": {},
     "source": [
      "Below is a transcript of a session with the Python shell. Provide the type and value of the expressions being evaluated. If evaluating an expression would cause an error, select NoneType and write error in the box. If the result is a function, select function and write function in the box. As always, try to do this problem by hand before turning to your interpreter for help. Assume the following definitions have been made"
     ]
    },
    {
     "cell_type": "code",
     "collapsed": false,
     "input": [
      "class Weird(object):\n",
      "    def __init__(self, x, y): \n",
      "        self.y = y\n",
      "        self.x = x\n",
      "    def getX(self):\n",
      "        return x \n",
      "    def getY(self):\n",
      "        return y\n",
      "\n",
      "class Wild(object):\n",
      "    def __init__(self, x, y): \n",
      "        self.y = y\n",
      "        self.x = x\n",
      "    def getX(self):\n",
      "        return self.x \n",
      "    def getY(self):\n",
      "        return self.y\n",
      "\n",
      "X = 7\n",
      "Y = 8"
     ],
     "language": "python",
     "metadata": {},
     "outputs": []
    },
    {
     "cell_type": "code",
     "collapsed": false,
     "input": [
      "w1 = Weird(X, Y)\n",
      "print w1.getX()"
     ],
     "language": "python",
     "metadata": {},
     "outputs": []
    },
    {
     "cell_type": "code",
     "collapsed": false,
     "input": [
      "print w1.getY()"
     ],
     "language": "python",
     "metadata": {},
     "outputs": []
    },
    {
     "cell_type": "code",
     "collapsed": false,
     "input": [
      "w2 = Wild(X, Y)\n",
      "print w2.getX()"
     ],
     "language": "python",
     "metadata": {},
     "outputs": []
    },
    {
     "cell_type": "code",
     "collapsed": false,
     "input": [
      "print w2.getY()"
     ],
     "language": "python",
     "metadata": {},
     "outputs": []
    },
    {
     "cell_type": "code",
     "collapsed": false,
     "input": [
      "w3 = Wild(17, 18)\n",
      "print w3.getX()"
     ],
     "language": "python",
     "metadata": {},
     "outputs": []
    },
    {
     "cell_type": "code",
     "collapsed": false,
     "input": [
      "print w3.getY()"
     ],
     "language": "python",
     "metadata": {},
     "outputs": []
    },
    {
     "cell_type": "code",
     "collapsed": false,
     "input": [
      "w4 = Wild(X, 18)\n",
      "print w4.getX()"
     ],
     "language": "python",
     "metadata": {},
     "outputs": []
    },
    {
     "cell_type": "code",
     "collapsed": false,
     "input": [
      "print w4.getY()"
     ],
     "language": "python",
     "metadata": {},
     "outputs": []
    },
    {
     "cell_type": "code",
     "collapsed": false,
     "input": [
      "X = w4.getX() + w3.getX() + w2.getX()\n",
      "print X"
     ],
     "language": "python",
     "metadata": {},
     "outputs": []
    },
    {
     "cell_type": "code",
     "collapsed": false,
     "input": [
      "print w4.getX()"
     ],
     "language": "python",
     "metadata": {},
     "outputs": []
    },
    {
     "cell_type": "code",
     "collapsed": false,
     "input": [
      "Y = w4.getY() + w3.getY()\n",
      "Y = Y + w2.getY()\n",
      "print Y"
     ],
     "language": "python",
     "metadata": {},
     "outputs": []
    },
    {
     "cell_type": "code",
     "collapsed": false,
     "input": [
      "print w2.getY()"
     ],
     "language": "python",
     "metadata": {},
     "outputs": []
    }
   ],
   "metadata": {}
  }
 ]
}
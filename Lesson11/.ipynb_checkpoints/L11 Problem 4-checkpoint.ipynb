{
 "metadata": {
  "name": "",
  "signature": "sha256:4e30c9db6e9c0cf5bbb3a56b95e702e3ec40e852a330c86d52314d450d872c23"
 },
 "nbformat": 3,
 "nbformat_minor": 0,
 "worksheets": [
  {
   "cells": [
    {
     "cell_type": "markdown",
     "metadata": {},
     "source": [
      "Consider the following code"
     ]
    },
    {
     "cell_type": "code",
     "collapsed": false,
     "input": [
      "class Coordinate(object):\n",
      "    def __init__(self, x, y):\n",
      "        self.x = x\n",
      "        self.y = y\n",
      "\n",
      "    def getX(self):\n",
      "        # Getter method for a Coordinate object's x coordinate.\n",
      "        # Getter methods are better practice than just accessing an attribute directly\n",
      "        return self.x\n",
      "\n",
      "    def getY(self):\n",
      "        # Getter method for a Coordinate object's y coordinate\n",
      "        return self.y\n",
      "\n",
      "    def __str__(self):\n",
      "        return '<' + str(self.getX()) + ',' + str(self.getY()) + '>'"
     ],
     "language": "python",
     "metadata": {},
     "outputs": []
    },
    {
     "cell_type": "markdown",
     "metadata": {},
     "source": [
      "Your task is to define the following two methods for the Coordinate class:\n",
      "1. Add an __eq__ method that returns True if coordinates refer to same point in the plane (i.e., have the same x and y coordinate).\n",
      "2. Define __repr__, a special method that returns a string that looks like a valid Python expression that could be used to recreate an object with the same value. In other words, eval(repr(c)) == c given the definition of __eq__ from part 1."
     ]
    },
    {
     "cell_type": "code",
     "collapsed": false,
     "input": [
      "class Coordinate(object):\n",
      "    def __init__(self,x,y):\n",
      "        self.x = x\n",
      "        self.y = y\n",
      "\n",
      "    def getX(self):\n",
      "        # Getter method for a Coordinate object's x coordinate.\n",
      "        # Getter methods are better practice than just accessing an attribute directly\n",
      "        return self.x\n",
      "\n",
      "    def getY(self):\n",
      "        # Getter method for a Coordinate object's y coordinate\n",
      "        return self.y\n",
      "\n",
      "    def __str__(self):\n",
      "        return '<' + str(self.getX()) + ',' + str(self.getY()) + '>'\n",
      "\n",
      "    def __eq__ (self, other):\n",
      "        if (other.x == self.x) and (other.y == self.y):\n",
      "            return True\n",
      "        else:\n",
      "            return False\n",
      "            \n",
      "    def __repr__ (self):\n",
      "        return \"Coordinate(%d, %d)\" % (self.x,self.y)"
     ],
     "language": "python",
     "metadata": {},
     "outputs": []
    },
    {
     "cell_type": "code",
     "collapsed": false,
     "input": [
      "Coord_1 = Coordinate (2,3)\n",
      "Coord_2 = eval (repr (Coord_1))\n",
      "if Coord_1 == Coord_2:\n",
      "    print (\"Same objects\")"
     ],
     "language": "python",
     "metadata": {},
     "outputs": []
    }
   ],
   "metadata": {}
  }
 ]
}
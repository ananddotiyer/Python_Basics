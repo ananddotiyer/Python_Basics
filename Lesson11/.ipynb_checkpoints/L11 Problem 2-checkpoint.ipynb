{
 "metadata": {
  "name": "",
  "signature": "sha256:cf33f82721130ba42c9ad0767262793638d862a4ca4cbc17d92492988b172fc4"
 },
 "nbformat": 3,
 "nbformat_minor": 0,
 "worksheets": [
  {
   "cells": [
    {
     "cell_type": "markdown",
     "metadata": {},
     "source": [
      "Consider the following code.  What does it print?"
     ]
    },
    {
     "cell_type": "code",
     "collapsed": false,
     "input": [
      "class Clock(object):\n",
      "    def __init__(self, time):\n",
      "        self.time = time\n",
      "    \n",
      "    def print_time(self):\n",
      "        time = '6:30'\n",
      "        print self.time\n",
      "\n",
      "clock = Clock('5:30')\n",
      "clock.print_time()"
     ],
     "language": "python",
     "metadata": {},
     "outputs": []
    },
    {
     "cell_type": "markdown",
     "metadata": {},
     "source": [
      "Consider the following code. What does it print?"
     ]
    },
    {
     "cell_type": "code",
     "collapsed": false,
     "input": [
      "class Clock(object):\n",
      "    def __init__(self, time):\n",
      "        self.time = time\n",
      "    \n",
      "    def print_time(self, time):\n",
      "        print time\n",
      "\n",
      "clock = Clock('5:30')\n",
      "clock.print_time('10:30')"
     ],
     "language": "python",
     "metadata": {},
     "outputs": []
    },
    {
     "cell_type": "markdown",
     "metadata": {},
     "source": [
      "Consider the following code.  What does it print?"
     ]
    },
    {
     "cell_type": "code",
     "collapsed": false,
     "input": [
      "class Clock(object):\n",
      "    def __init__(self, time):\n",
      "        self.time = time\n",
      "    \n",
      "    def print_time(self):\n",
      "        print self.time\n",
      "\n",
      "boston_clock = Clock('5:30')\n",
      "paris_clock = boston_clock\n",
      "\n",
      "paris_clock.time = '10:30'\n",
      "boston_clock.print_time()"
     ],
     "language": "python",
     "metadata": {},
     "outputs": []
    },
    {
     "cell_type": "markdown",
     "metadata": {},
     "source": [
      "Are boston_clock and paris_clock different objects?\n",
      "\n",
      "Answer: No"
     ]
    }
   ],
   "metadata": {}
  }
 ]
}
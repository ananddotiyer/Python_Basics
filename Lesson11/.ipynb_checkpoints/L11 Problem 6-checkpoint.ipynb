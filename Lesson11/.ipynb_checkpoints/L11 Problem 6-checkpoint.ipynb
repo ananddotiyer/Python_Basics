{
 "metadata": {
  "name": "",
  "signature": "sha256:6085748826542f945d7c3cc2cb5beb301ddaf9c0a081028e527e057a647d9a4b"
 },
 "nbformat": 3,
 "nbformat_minor": 0,
 "worksheets": [
  {
   "cells": [
    {
     "cell_type": "markdown",
     "metadata": {},
     "source": [
      "For this exercise, you will be coding your very first class, a Queue class. Queues are a fundamental computer science data structure. A queue is basically like a line at Disneyland - you can add elements to a queue, and they maintain a specific order. When you want to get something off the end of a queue, you get the item that has been in there the longest (this is known as 'first-in-first-out', or FIFO). You can read up on queues at Wikipedia if you'd like to learn more.\n",
      "In your Queue class, you will need three methods:\n",
      "\n",
      "1. __init__: initialize your Queue (think: how will you store the queue's elements? You'll need to initialize an appropriate object attribute in this method)\n",
      "\n",
      "2. insert: inserts one element in your Queue\n",
      "\n",
      "3. remove: removes (or 'pops') one element from your Queue and returns it. If the queue is empty, raises a ValueError.\n",
      "When you're done, you should test your implementation. Your results should look something like this:"
     ]
    },
    {
     "cell_type": "code",
     "collapsed": false,
     "input": [
      "#Test code.  Your task is to write the Queue class\n",
      ">>> queue = Queue()\n",
      ">>> queue.insert(5)\n",
      ">>> queue.insert(6)\n",
      ">>> queue.remove() #5\n",
      ">>> queue.insert(7)\n",
      ">>> queue.remove()#6\n",
      ">>> queue.remove()#7\n",
      ">>> queue.remove() #ValueError"
     ],
     "language": "python",
     "metadata": {},
     "outputs": []
    },
    {
     "cell_type": "markdown",
     "metadata": {},
     "source": [
      "Be sure to handle that last case correctly - when popping from an empty Queue, throw the appropriate error."
     ]
    },
    {
     "cell_type": "markdown",
     "metadata": {},
     "source": [
      "#Answer\n",
      "class Queue(object):\n",
      "\n",
      "    def __init__(self):\n",
      "        \"Initializes 1 attribute: a list to keep track of the queue's elements\"\n",
      "        self.qlist = []\n",
      "\n",
      "    def insert(self, element):\n",
      "        \"Adds an element to the attribute list using append\"\n",
      "        self.qlist.append(element)\n",
      "\n",
      "    def remove(self):\n",
      "        \"Removes an element from the attribute list\"\n",
      "        # Check if the list is empty; if so then raise a ValueError\n",
      "        if self.qlist == []:\n",
      "            raise ValueError(\"This is a custom error\")\n",
      "        else:\n",
      "            # Otherwise we want to remove the first element from the list\n",
      "            # and return that to the user.\n",
      "            element = self.qlist[0]\n",
      "            self.qlist.remove(element)\n",
      "            return element\n",
      "            # Could also do this in 1 line:\n",
      "            # return self.qlist.pop(0)"
     ]
    }
   ],
   "metadata": {}
  }
 ]
}
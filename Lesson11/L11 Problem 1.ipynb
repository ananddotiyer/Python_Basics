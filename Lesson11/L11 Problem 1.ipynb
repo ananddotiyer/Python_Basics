{
 "cells": [
  {
   "cell_type": "raw",
   "metadata": {},
   "source": [
    "1. What method is called when an object is created? \n",
    "\n",
    "a) self \n",
    "b) obj.self \n",
    "c) init \n",
    "d) __init__ \n",
    "e) new "
   ]
  },
  {
   "cell_type": "raw",
   "metadata": {},
   "source": [
    "2. If you have an object instance, obj, and you want to call its doSomething() method (assuming it has one), how would you do this? (write the line of code you would use)\n",
    "\n",
    "Answer: obj.doSomething()"
   ]
  },
  {
   "cell_type": "raw",
   "metadata": {},
   "source": [
    "3. True or False? An object's attributes must be defined in the object's __init__ method.\n",
    "\n",
    "Answer: False"
   ]
  },
  {
   "cell_type": "raw",
   "metadata": {},
   "source": [
    "4. The following code starts the definition of a class called Address. The class needs to have two attributes: number and streetName. Please add in the two lines of code that will create these attributes from the appropriate passed in parameters. \n",
    "    \n",
    "class Address(object):\n",
    "    def __init__(self, number, streetName):\n",
    "        # Line 1: Creating a number attribute\n",
    "        # Line 2: Creating a streetName attribute"
   ]
  },
  {
   "cell_type": "markdown",
   "metadata": {},
   "source": [
    "#Answer\n",
    "class Address(object):\n",
    "    def __init__(self, number, streetName):\n",
    "        self.number = number\n",
    "        self.streetName = streetName"
   ]
  }
 ],
 "metadata": {
  "kernelspec": {
   "display_name": "Python 3",
   "language": "python",
   "name": "python3"
  },
  "language_info": {
   "codemirror_mode": {
    "name": "ipython",
    "version": 3
   },
   "file_extension": ".py",
   "mimetype": "text/x-python",
   "name": "python",
   "nbconvert_exporter": "python",
   "pygments_lexer": "ipython3",
   "version": "3.6.5"
  }
 },
 "nbformat": 4,
 "nbformat_minor": 1
}

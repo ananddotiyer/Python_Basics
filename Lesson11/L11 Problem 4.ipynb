{
 "cells": [
  {
   "cell_type": "markdown",
   "metadata": {},
   "source": [
    "[![Open In Colab](https://colab.research.google.com/assets/colab-badge.svg)](https://colab.research.google.com/github/ananddotiyer/Python_Basics/blob/master/Lesson11/L11%20Problem%204.ipynb)"
   ]
  },
  {
   "cell_type": "markdown",
   "metadata": {},
   "source": [
    "Consider the following code"
   ]
  },
  {
   "cell_type": "code",
   "execution_count": null,
   "metadata": {},
   "outputs": [],
   "source": [
    "class Coordinate(object):\n",
    "    def __init__(self, x, y):\n",
    "        self.x = x\n",
    "        self.y = y\n",
    "\n",
    "    def getX(self):\n",
    "        # Getter method for a Coordinate object's x coordinate.\n",
    "        # Getter methods are better practice than just accessing an attribute directly\n",
    "        return self.x\n",
    "\n",
    "    def getY(self):\n",
    "        # Getter method for a Coordinate object's y coordinate\n",
    "        return self.y\n",
    "\n",
    "    def __str__(self):\n",
    "        return '<' + str(self.getX()) + ',' + str(self.getY()) + '>'"
   ]
  },
  {
   "cell_type": "markdown",
   "metadata": {},
   "source": [
    "Your task is to define the following two methods for the Coordinate class:\n",
    "1. Add an __eq__ method that returns True if coordinates refer to same point in the plane (i.e., have the same x and y coordinate).\n",
    "2. Define __repr__, a special method that returns a string that looks like a valid Python expression that could be used to recreate an object with the same value. In other words, eval(repr(c)) == c given the definition of __eq__ from part 1."
   ]
  },
  {
   "cell_type": "code",
   "execution_count": null,
   "metadata": {},
   "outputs": [],
   "source": [
    "class Coordinate(object):\n",
    "    def __init__(self,x,y):\n",
    "        self.x = x\n",
    "        self.y = y\n",
    "\n",
    "    def getX(self):\n",
    "        # Getter method for a Coordinate object's x coordinate.\n",
    "        # Getter methods are better practice than just accessing an attribute directly\n",
    "        return self.x\n",
    "\n",
    "    def getY(self):\n",
    "        # Getter method for a Coordinate object's y coordinate\n",
    "        return self.y\n",
    "\n",
    "    def __str__(self):\n",
    "        return '<' + str(self.getX()) + ',' + str(self.getY()) + '>'\n",
    "\n",
    "    def __eq__ (self, other):\n",
    "        if (other.x == self.x) and (other.y == self.y):\n",
    "            return True\n",
    "        else:\n",
    "            return False\n",
    "            \n",
    "    def __repr__ (self):\n",
    "        return \"Coordinate(%d, %d)\" % (self.x,self.y)"
   ]
  },
  {
   "cell_type": "code",
   "execution_count": null,
   "metadata": {},
   "outputs": [],
   "source": [
    "Coord_1 = Coordinate (2,3)\n",
    "Coord_2 = eval (repr (Coord_1))\n",
    "if Coord_1 == Coord_2:\n",
    "    print (\"Same objects\")"
   ]
  }
 ],
 "metadata": {
  "kernelspec": {
   "display_name": "Python 3",
   "language": "python",
   "name": "python3"
  },
  "language_info": {
   "codemirror_mode": {
    "name": "ipython",
    "version": 3
   },
   "file_extension": ".py",
   "mimetype": "text/x-python",
   "name": "python",
   "nbconvert_exporter": "python",
   "pygments_lexer": "ipython3",
   "version": "3.7.4"
  }
 },
 "nbformat": 4,
 "nbformat_minor": 1
}

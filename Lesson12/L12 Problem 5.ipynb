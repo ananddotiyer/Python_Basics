{
 "metadata": {
  "name": "",
  "signature": "sha256:209f289bef0f02129fdca7cd3f3702ec490a8d49a71b3ce9cbcedc078034411c"
 },
 "nbformat": 3,
 "nbformat_minor": 0,
 "worksheets": [
  {
   "cells": [
    {
     "cell_type": "markdown",
     "metadata": {},
     "source": [
      "Write a generator, genPrimes, that returns the sequence of prime numbers on successive calls to its next() method: 2, 3, 5, 7, 11, ..."
     ]
    },
    {
     "cell_type": "code",
     "collapsed": false,
     "input": [
      "#Answer\n",
      "def genPrimes():\n",
      "    primes = [2]   # primes generated so far\n",
      "    last = 1      # last number tried\n",
      "    while True:\n",
      "        last += 1\n",
      "        for p in primes:\n",
      "            if last % p == 0:\n",
      "                break\n",
      "            else:\n",
      "                if last not in primes:\n",
      "                    primes.append(last)\n",
      "                    yield last"
     ],
     "language": "python",
     "metadata": {},
     "outputs": []
    },
    {
     "cell_type": "code",
     "collapsed": false,
     "input": [
      "#Test code\n",
      "Primes = genPrimes()\n",
      "print (Primes)\n",
      "Primes.next()"
     ],
     "language": "python",
     "metadata": {},
     "outputs": []
    }
   ],
   "metadata": {}
  }
 ]
}
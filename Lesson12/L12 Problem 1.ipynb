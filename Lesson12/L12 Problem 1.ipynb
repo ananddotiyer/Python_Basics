{
 "metadata": {
  "name": "",
  "signature": "sha256:892bea59981b8e0c14a99863cc9c7e531e859b8720539e5dcbce73d49b3705fa"
 },
 "nbformat": 3,
 "nbformat_minor": 0,
 "worksheets": [
  {
   "cells": [
    {
     "cell_type": "markdown",
     "metadata": {},
     "source": [
      "Consider the following code:"
     ]
    },
    {
     "cell_type": "code",
     "collapsed": false,
     "input": [
      "class Spell(object):\n",
      "    def __init__(self, incantation, name):\n",
      "        self.name = name\n",
      "        self.incantation = incantation\n",
      "\n",
      "    def __str__(self):\n",
      "        return self.name + ' ' + self.incantation + '\\n' + self.getDescription()\n",
      "              \n",
      "    def getDescription(self):\n",
      "        return 'No description'\n",
      "    \n",
      "    def execute(self):\n",
      "        print self.incantation    \n",
      "\n",
      "\n",
      "class Accio(Spell):\n",
      "    def __init__(self):\n",
      "        Spell.__init__(self, 'Accio', 'Summoning Charm')\n",
      "\n",
      "class Confundo(Spell):\n",
      "    def __init__(self):\n",
      "        Spell.__init__(self, 'Confundo', 'Confundus Charm')\n",
      "\n",
      "    def getDescription(self):\n",
      "        return 'Causes the victim to become confused and befuddled.'\n",
      "\n",
      "def studySpell(spell):\n",
      "    print spell\n",
      "\n",
      "spell = Accio()\n",
      "spell.execute()\n",
      "studySpell(spell)\n",
      "studySpell(Confundo())"
     ],
     "language": "python",
     "metadata": {},
     "outputs": []
    },
    {
     "cell_type": "raw",
     "metadata": {},
     "source": [
      "Now, answer the following questions\n",
      "\n",
      "1. What are the parent class(es)? Note that the term \"parent class\" is interchangable with the term \"superclass\".\n",
      "\n",
      "2. What are the child class(es)? Note that the term \"child class\" is interchangable with the term \"subclass\".\n",
      "\n",
      "3. What does the code print out? \n",
      "\n",
      "4. Which getDescription method is called when studySpell(Confundo()) is executed?\n",
      "\n",
      "        a) The getDescription method defined within the Spell class\n",
      "        b) The getDescription method defined within the Accio class\n",
      "        c) The getDescription method defined within the Confundo class \n",
      "    \n",
      "5. How do we need to modify Accio so that print Accio() will print the following description?\n",
      "\n",
      "    Summoning Charm Accio\n",
      "    This charm summons an object to the caster, potentially over a significant distance."
     ]
    },
    {
     "cell_type": "markdown",
     "metadata": {},
     "source": [
      "#Answer\n",
      "class Accio(Spell):\n",
      "    def __init__(self):\n",
      "        Spell.__init__(self, 'Accio', 'Summoning Charm')\n",
      "\n",
      "    def getDescription(self):\n",
      "        return 'This charm summons an object to the caster, potentially over a significant distance.'\n",
      "    \n",
      "print Accio ()"
     ]
    }
   ],
   "metadata": {}
  }
 ]
}
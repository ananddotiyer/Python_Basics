{
 "metadata": {
  "name": "",
  "signature": "sha256:b15c7d1c4c382bb1676b2105e82b03072c961d7c289f533c5d638be0a062f3ea"
 },
 "nbformat": 3,
 "nbformat_minor": 0,
 "worksheets": [
  {
   "cells": [
    {
     "cell_type": "markdown",
     "metadata": {},
     "source": [
      "Python supports a limited form of multiple inheritance, demonstrated in the following code:"
     ]
    },
    {
     "cell_type": "code",
     "collapsed": false,
     "input": [
      "class A(object):\n",
      "    def __init__(self):\n",
      "        self.a = 1\n",
      "    def x(self):\n",
      "        print \"A.x\"\n",
      "    def y(self):\n",
      "        print \"A.y\"\n",
      "    def z(self):\n",
      "        print \"A.z\"\n",
      "\n",
      "class B(A):\n",
      "    def __init__(self):\n",
      "        A.__init__(self)\n",
      "        self.a = 2\n",
      "        self.b = 3\n",
      "    def y(self):\n",
      "        print \"B.y\"\n",
      "    def z(self):\n",
      "        print \"B.z\"\n",
      "\n",
      "class C(object):\n",
      "    def __init__(self):\n",
      "        self.a = 4\n",
      "        self.c = 5\n",
      "    def y(self):\n",
      "        print \"C.y\"\n",
      "    def z(self):\n",
      "        print \"C.z\"\n",
      "\n",
      "class D(C, B):\n",
      "    def __init__(self):\n",
      "        C.__init__(self)\n",
      "        B.__init__(self)\n",
      "        self.d = 6\n",
      "    def z(self):\n",
      "        print \"D.z\""
     ],
     "language": "python",
     "metadata": {},
     "outputs": []
    },
    {
     "cell_type": "markdown",
     "metadata": {},
     "source": [
      "Which __init__ methods are invoked and in which order is determined by the coding of the individual __init__ methods.\n",
      "\n",
      "When resolving a reference to an attribute of an object that's an instance of class D, Python first searches the object's instance variables then uses a simple left-to-right, depth first search through the class hierarchy. In this case that would mean searching the class C, followed the class B and its superclasses (ie, class A, and then any superclasses it may have, et cetera).\n",
      "\n",
      "With the definitions above if we define"
     ]
    },
    {
     "cell_type": "code",
     "collapsed": false,
     "input": [
      "obj = D()"
     ],
     "language": "python",
     "metadata": {},
     "outputs": []
    },
    {
     "cell_type": "markdown",
     "metadata": {},
     "source": [
      "What is the output of the following statements?"
     ]
    },
    {
     "cell_type": "code",
     "collapsed": false,
     "input": [
      "print obj.a"
     ],
     "language": "python",
     "metadata": {},
     "outputs": []
    },
    {
     "cell_type": "code",
     "collapsed": false,
     "input": [
      "print obj.b"
     ],
     "language": "python",
     "metadata": {},
     "outputs": []
    },
    {
     "cell_type": "code",
     "collapsed": false,
     "input": [
      "print obj.c"
     ],
     "language": "python",
     "metadata": {},
     "outputs": []
    },
    {
     "cell_type": "code",
     "collapsed": false,
     "input": [
      "print obj.d"
     ],
     "language": "python",
     "metadata": {},
     "outputs": []
    },
    {
     "cell_type": "code",
     "collapsed": false,
     "input": [
      "obj.x()"
     ],
     "language": "python",
     "metadata": {},
     "outputs": []
    },
    {
     "cell_type": "code",
     "collapsed": false,
     "input": [
      "obj.y()"
     ],
     "language": "python",
     "metadata": {},
     "outputs": []
    },
    {
     "cell_type": "code",
     "collapsed": false,
     "input": [
      "obj.z() "
     ],
     "language": "python",
     "metadata": {},
     "outputs": []
    }
   ],
   "metadata": {}
  }
 ]
}
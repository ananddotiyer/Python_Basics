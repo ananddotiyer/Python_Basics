{
 "metadata": {
  "name": "",
  "signature": "sha256:fd8bead3c9d8a1534b31ebd6906e0b952948089964797f26a379e4c8b457be85"
 },
 "nbformat": 3,
 "nbformat_minor": 0,
 "worksheets": [
  {
   "cells": [
    {
     "cell_type": "heading",
     "level": 1,
     "metadata": {},
     "source": [
      "`set`"
     ]
    },
    {
     "cell_type": "heading",
     "level": 2,
     "metadata": {},
     "source": [
      "Problem Statement: Prime Number Generator"
     ]
    },
    {
     "cell_type": "raw",
     "metadata": {},
     "source": [
      "Find all the prime numbers up to a given number."
     ]
    },
    {
     "cell_type": "code",
     "collapsed": false,
     "input": [
      "def primes(max_num=100):\n",
      "    found_primes = {2}\n",
      "    for num in range(3,max_num):\n",
      "        isprime = True\n",
      "        for divisor in found_primes:\n",
      "            if num % divisor == 0:\n",
      "                isprime = False\n",
      "        if isprime:\n",
      "            found_primes.add(num)\n",
      "    return found_primes"
     ],
     "language": "python",
     "metadata": {},
     "outputs": []
    },
    {
     "cell_type": "code",
     "collapsed": false,
     "input": [
      "print(primes())"
     ],
     "language": "python",
     "metadata": {},
     "outputs": []
    },
    {
     "cell_type": "heading",
     "level": 2,
     "metadata": {},
     "source": [
      "set"
     ]
    },
    {
     "cell_type": "raw",
     "metadata": {},
     "source": [
      "- collection of items\n",
      "- no natural sorting\n",
      "- unique items\n",
      "- hashability\n",
      "- methods: intersect, difference, union, ... "
     ]
    },
    {
     "cell_type": "heading",
     "level": 4,
     "metadata": {},
     "source": [
      "interacting with the `set`-type"
     ]
    },
    {
     "cell_type": "code",
     "collapsed": false,
     "input": [
      "suits = {'hearts', 'diamonds', 'spades', 'clubs', }\n",
      "\n",
      "faces = set(['ace', 'king', 'queen', 'jack', 'jack'])\n",
      "\n",
      "numbers = set(range(2,11))"
     ],
     "language": "python",
     "metadata": {},
     "outputs": []
    },
    {
     "cell_type": "code",
     "collapsed": false,
     "input": [
      "suits"
     ],
     "language": "python",
     "metadata": {},
     "outputs": []
    },
    {
     "cell_type": "code",
     "collapsed": false,
     "input": [
      "faces"
     ],
     "language": "python",
     "metadata": {},
     "outputs": []
    },
    {
     "cell_type": "code",
     "collapsed": false,
     "input": [
      "numbers"
     ],
     "language": "python",
     "metadata": {},
     "outputs": []
    },
    {
     "cell_type": "code",
     "collapsed": false,
     "input": [
      "deck = set() # {} means \"empty dictionary\"\n",
      "\n",
      "for suit in suits:\n",
      "    for number in numbers:\n",
      "        deck.add('{} of {}'.format(number, suit))\n",
      "    for face in faces:\n",
      "        deck.add('{} of {}'.format(face, suit))\n",
      "\n",
      "deck"
     ],
     "language": "python",
     "metadata": {},
     "outputs": []
    },
    {
     "cell_type": "code",
     "collapsed": false,
     "input": [
      "deck[0]"
     ],
     "language": "python",
     "metadata": {},
     "outputs": []
    },
    {
     "cell_type": "code",
     "collapsed": false,
     "input": [
      "from random import choice\n",
      "\n",
      "choice(deck)"
     ],
     "language": "python",
     "metadata": {},
     "outputs": []
    },
    {
     "cell_type": "code",
     "collapsed": false,
     "input": [
      "from random import shuffle\n",
      "\n",
      "shuffle(deck)"
     ],
     "language": "python",
     "metadata": {},
     "outputs": []
    },
    {
     "cell_type": "code",
     "collapsed": false,
     "input": [
      "hand = set()\n",
      "\n",
      "for card in deck:\n",
      "    if len(hand) < 5:\n",
      "        hand.add(card)\n",
      "        deck.remove(card)\n",
      "    \n",
      "hand"
     ],
     "language": "python",
     "metadata": {},
     "outputs": []
    },
    {
     "cell_type": "code",
     "collapsed": false,
     "input": [
      "hand = set()\n",
      "\n",
      "for card in deck:\n",
      "    if len(hand) < 2:\n",
      "        hand.add(card)\n",
      "    \n",
      "for card in hand:\n",
      "    deck.remove(card)\n",
      "    \n",
      "hand"
     ],
     "language": "python",
     "metadata": {},
     "outputs": []
    },
    {
     "cell_type": "code",
     "collapsed": false,
     "input": [
      "board = set()\n",
      "\n",
      "for _ in range(3):\n",
      "    board.add(deck.pop())\n",
      "    \n",
      "board"
     ],
     "language": "python",
     "metadata": {},
     "outputs": []
    },
    {
     "cell_type": "code",
     "collapsed": false,
     "input": [
      "board | hand"
     ],
     "language": "python",
     "metadata": {},
     "outputs": []
    },
    {
     "cell_type": "code",
     "collapsed": false,
     "input": [
      "board.union(hand)"
     ],
     "language": "python",
     "metadata": {},
     "outputs": []
    },
    {
     "cell_type": "code",
     "collapsed": false,
     "input": [
      "deck.add('High Joker')\n",
      "deck.add('Low Joker')"
     ],
     "language": "python",
     "metadata": {},
     "outputs": []
    },
    {
     "cell_type": "code",
     "collapsed": false,
     "input": [
      "'High Joker' in deck"
     ],
     "language": "python",
     "metadata": {},
     "outputs": []
    },
    {
     "cell_type": "code",
     "collapsed": false,
     "input": [
      "deck.remove('High Joker')\n",
      "deck.remove('Low Joker')"
     ],
     "language": "python",
     "metadata": {},
     "outputs": []
    },
    {
     "cell_type": "code",
     "collapsed": false,
     "input": [
      "deck.discard('rules of five-card stud')"
     ],
     "language": "python",
     "metadata": {},
     "outputs": []
    },
    {
     "cell_type": "code",
     "collapsed": false,
     "input": [
      "deck = { '{} of {}'.format(rank, suit) for rank in numbers | faces\n",
      "                                       for suit in suits }\n",
      "\n",
      "deck.update(['high Joker', 'low Joker'])\n",
      "\n",
      "deck"
     ],
     "language": "python",
     "metadata": {},
     "outputs": []
    },
    {
     "cell_type": "code",
     "collapsed": false,
     "input": [
      "from collections import namedtuple\n",
      "\n",
      "Card = namedtuple('Card', 'suit rank')\n",
      "\n",
      "deck = {Card(suit, rank) for rank in numbers | faces\n",
      "                          for suit in suits }\n",
      "\n",
      "deck"
     ],
     "language": "python",
     "metadata": {},
     "outputs": []
    },
    {
     "cell_type": "raw",
     "metadata": {},
     "source": [
      "- straight flush\n",
      "- four of a kind\n",
      "- full house\n",
      "- flush\n",
      "- straight\n",
      "- three of a kind\n",
      "- two pair\n",
      "- one pair\n",
      "- high card"
     ]
    },
    {
     "cell_type": "code",
     "collapsed": false,
     "input": [
      "valid_straights = {set(range(n, n+5)) for n in range(2,7)}"
     ],
     "language": "python",
     "metadata": {},
     "outputs": []
    },
    {
     "cell_type": "code",
     "collapsed": false,
     "input": [
      "valid_straights = {frozenset(range(n, n+5)) for n in range(2,7)}\n",
      "valid_straights"
     ],
     "language": "python",
     "metadata": {},
     "outputs": []
    },
    {
     "cell_type": "code",
     "collapsed": false,
     "input": [
      "valid_straights = {frozenset(range(n, n+5)) for n in range(2,7)} | \\\n",
      "                  {frozenset(['ace', 2, 3, 4, 5])              } | \\\n",
      "                  {frozenset([7, 8, 9, 10, 'jack'])            } | \\\n",
      "                  {frozenset([8, 9, 10, 'jack', 'queen'])      } | \\\n",
      "                  {frozenset([9, 10, 'jack', 'queen', 'king']) } | \\\n",
      "                  {frozenset([10, 'jack', 'queen', 'king', 'ace']) }\n",
      "    \n",
      "valid_straights"
     ],
     "language": "python",
     "metadata": {},
     "outputs": []
    },
    {
     "cell_type": "code",
     "collapsed": false,
     "input": [
      "def rank2value(card):\n",
      "    if card.rank in numbers:\n",
      "        return card.rank\n",
      "    \n",
      "    return {'ace':   14,\n",
      "            'king':  13,\n",
      "            'queen': 12,\n",
      "            'jack':  11,}[card.rank]"
     ],
     "language": "python",
     "metadata": {},
     "outputs": []
    },
    {
     "cell_type": "code",
     "collapsed": false,
     "input": [
      "def best_card(hand):\n",
      "    return max(hand, key=rank2value)"
     ],
     "language": "python",
     "metadata": {},
     "outputs": []
    },
    {
     "cell_type": "code",
     "collapsed": false,
     "input": [
      "from itertools import groupby, combinations\n",
      "\n",
      "def best_hand(hand):\n",
      "    suits_in_hand = {card.suit for card in hand}\n",
      "    ranks_in_hand = {frozenset(cs) for _,cs in groupby(sorted(hand, key=rank2value), key=rank2value)}\n",
      "    \n",
      "    high_card        = best_card(hand)\n",
      "    twos_of_a_kind   = {cs for cs in ranks_in_hand if len(cs) == 2}\n",
      "    threes_of_a_kind = {cs for cs in ranks_in_hand if len(cs) == 3}\n",
      "    fours_of_a_kind  = {cs for cs in ranks_in_hand if len(cs) == 4}\n",
      "    straights        = {cs for cs in combinations(hand, 5) if {c.rank for c in cs} in valid_straights}\n",
      "        \n",
      "    if len(suits_in_hand) == 1 and straights:\n",
      "        return hand, 'straight flush'\n",
      "    \n",
      "    if fours_of_a_kind:\n",
      "        return max(fours_of_a_kind, key=lambda cs: rank2value(best_card(cs))), 'four of a kind'\n",
      "    \n",
      "    if threes_of_a_kind and twos_of_a_kind:\n",
      "        return max(threes_of_a_kind, key=lambda cs: rank2value(best_card(cs))) | \\\n",
      "               max(twos_of_a_kind,   key=lambda cs: rank2value(best_card(cs))), 'full house'\n",
      "        \n",
      "    if len(suits_in_hand) == 1:\n",
      "        return hand, 'flush'\n",
      "    \n",
      "    if straights:\n",
      "        return max(straights, key=lambda cs: rank2value(best_card(cs))), 'straight'\n",
      "    \n",
      "    if threes_of_a_kind:\n",
      "        return max(threes_of_a_kind, key=lambda cs: rank2value(best_card(cs))), 'three of a kind'\n",
      "    \n",
      "    if len(twos_of_a_kind) == 2:\n",
      "        return twos_of_a_kind.pop() | twos_of_a_kind.pop(), 'two pairs'\n",
      "\n",
      "    if len(twos_of_a_kind) == 1:\n",
      "        return twos_of_a_kind.pop(), 'one pair'\n",
      "    \n",
      "    return {high_card,}, 'high card'"
     ],
     "language": "python",
     "metadata": {},
     "outputs": []
    },
    {
     "cell_type": "code",
     "collapsed": false,
     "input": [
      "%%time\n",
      "\n",
      "from itertools import combinations\n",
      "\n",
      "example_hands = {}\n",
      "\n",
      "for hand in combinations(deck, 5):\n",
      "    cards, hand_type = best_hand(hand)\n",
      "    if hand_type not in example_hands:\n",
      "        example_hands[hand_type] = cards, hand"
     ],
     "language": "python",
     "metadata": {},
     "outputs": []
    },
    {
     "cell_type": "code",
     "collapsed": false,
     "input": [
      "for hand_type in example_hands:\n",
      "    print(hand_type)\n",
      "    print('=' * len(hand_type))\n",
      "    matched_cards, all_cards = example_hands[hand_type]\n",
      "    for card in all_cards:\n",
      "        print('  ', '*' if card in matched_cards else ' ', '{} of {}'.format(card.rank, card.suit))"
     ],
     "language": "python",
     "metadata": {},
     "outputs": []
    },
    {
     "cell_type": "raw",
     "metadata": {},
     "source": [
      ".clear\n",
      ".difference\n",
      ".difference_update\n",
      ".intersection\n",
      ".intersection_update\n",
      ".symmetric_difference\n",
      ".symmetric_difference_update"
     ]
    },
    {
     "cell_type": "code",
     "collapsed": false,
     "input": [
      "animals = {'dog', 'cat', 'bird'}\n",
      "animals"
     ],
     "language": "python",
     "metadata": {},
     "outputs": []
    },
    {
     "cell_type": "code",
     "collapsed": false,
     "input": [
      "animals.clear()\n",
      "animals"
     ],
     "language": "python",
     "metadata": {},
     "outputs": []
    },
    {
     "cell_type": "code",
     "collapsed": false,
     "input": [
      "while animals:\n",
      "    animals.pop()"
     ],
     "language": "python",
     "metadata": {},
     "outputs": []
    },
    {
     "cell_type": "code",
     "collapsed": false,
     "input": [
      "{'dog', 'cat', 'bird'} - {'horse'}"
     ],
     "language": "python",
     "metadata": {},
     "outputs": []
    },
    {
     "cell_type": "code",
     "collapsed": false,
     "input": [
      "{'dog', 'cat', 'bird'}.difference('cat')"
     ],
     "language": "python",
     "metadata": {},
     "outputs": []
    },
    {
     "cell_type": "code",
     "collapsed": false,
     "input": [
      "{'dog', 'cat', 'bird'}.difference(['cat'])"
     ],
     "language": "python",
     "metadata": {},
     "outputs": []
    },
    {
     "cell_type": "code",
     "collapsed": false,
     "input": [
      "{'dog', 'cat', 'bird', 'horse'}.symmetric_difference({'dog', 'horse', 'giraffe'})"
     ],
     "language": "python",
     "metadata": {},
     "outputs": []
    },
    {
     "cell_type": "code",
     "collapsed": false,
     "input": [
      "{'dog', 'cat', 'bird', 'horse'} ^ {'dog', 'horse', 'giraffe'}"
     ],
     "language": "python",
     "metadata": {},
     "outputs": []
    },
    {
     "cell_type": "code",
     "collapsed": false,
     "input": [
      "{'dog', 'cat', 'bird', 'horse'}.intersection({'dog', 'horse', 'giraffe'})"
     ],
     "language": "python",
     "metadata": {},
     "outputs": []
    },
    {
     "cell_type": "code",
     "collapsed": false,
     "input": [
      "{'dog', 'cat', 'bird', 'horse'} & {'dog', 'horse', 'giraffe'}"
     ],
     "language": "python",
     "metadata": {},
     "outputs": []
    },
    {
     "cell_type": "code",
     "collapsed": false,
     "input": [
      "animals = {'dog', 'cat', 'bird'}\n",
      "animals.intersection_update({'bird', 'horse'})\n",
      "animals"
     ],
     "language": "python",
     "metadata": {},
     "outputs": []
    },
    {
     "cell_type": "code",
     "collapsed": false,
     "input": [
      "animals = {'dog', 'cat', 'bird'}\n",
      "animals &= {'bird', 'horse'}\n",
      "animals"
     ],
     "language": "python",
     "metadata": {},
     "outputs": []
    },
    {
     "cell_type": "code",
     "collapsed": false,
     "input": [
      "animals = {'dog', 'cat', 'bird'}\n",
      "animals.difference_update({'bird', 'horse'})\n",
      "animals"
     ],
     "language": "python",
     "metadata": {},
     "outputs": []
    },
    {
     "cell_type": "code",
     "collapsed": false,
     "input": [
      "animals = {'dog', 'cat', 'bird'}\n",
      "animals -= {'bird', 'horse'}\n",
      "animals"
     ],
     "language": "python",
     "metadata": {},
     "outputs": []
    },
    {
     "cell_type": "code",
     "collapsed": false,
     "input": [
      "animals = {'dog', 'cat', 'bird'}\n",
      "animals.update({'bird', 'horse'}) # think `union_update`\n",
      "animals"
     ],
     "language": "python",
     "metadata": {},
     "outputs": []
    },
    {
     "cell_type": "code",
     "collapsed": false,
     "input": [
      "animals = {'dog', 'cat', 'bird'}\n",
      "animals |= {'bird', 'horse'}\n",
      "animals"
     ],
     "language": "python",
     "metadata": {},
     "outputs": []
    },
    {
     "cell_type": "code",
     "collapsed": false,
     "input": [
      "animals = {'dog', 'cat', 'bird'}\n",
      "animals.symmetric_difference_update({'bird', 'horse'})\n",
      "animals"
     ],
     "language": "python",
     "metadata": {},
     "outputs": []
    },
    {
     "cell_type": "code",
     "collapsed": false,
     "input": [
      "animals = {'dog', 'cat', 'bird'}\n",
      "animals ^= {'bird', 'horse'}\n",
      "animals"
     ],
     "language": "python",
     "metadata": {},
     "outputs": []
    },
    {
     "cell_type": "heading",
     "level": 2,
     "metadata": {},
     "source": [
      "Problem Statement: Prime Number Generator"
     ]
    },
    {
     "cell_type": "raw",
     "metadata": {},
     "source": [
      "Find all the prime numbers up to a given number."
     ]
    },
    {
     "cell_type": "code",
     "collapsed": false,
     "input": [
      "def primes(max_num=100):\n",
      "    found_primes = {2}\n",
      "    for num in range(3, max_num):\n",
      "        # determine if the number is prime\n",
      "        pass\n",
      "    return found_primes"
     ],
     "language": "python",
     "metadata": {},
     "outputs": [],
     "prompt_number": 132
    },
    {
     "cell_type": "code",
     "collapsed": false,
     "input": [
      "def primes(max_num=100):\n",
      "    found_primes = {2}\n",
      "    for num in range(3,max_num):\n",
      "        isprime = True\n",
      "        for divisor in found_primes:\n",
      "            if num % divisor == 0:\n",
      "                isprime = False\n",
      "        if isprime:\n",
      "            found_primes.add(num)\n",
      "    return found_primes"
     ],
     "language": "python",
     "metadata": {},
     "outputs": [],
     "prompt_number": 133
    },
    {
     "cell_type": "code",
     "collapsed": false,
     "input": [
      "print(primes())"
     ],
     "language": "python",
     "metadata": {},
     "outputs": [
      {
       "output_type": "stream",
       "stream": "stdout",
       "text": [
        "{2, 3, 5, 7, 11, 13, 17, 19, 23, 29, 31, 37, 41, 43, 47, 53, 59, 61, 67, 71, 73, 79, 83, 89, 97}\n"
       ]
      }
     ],
     "prompt_number": 134
    },
    {
     "cell_type": "code",
     "collapsed": false,
     "input": [
      "def primes(max_num=100):\n",
      "    found_primes = set()\n",
      "    for num in range(2,max_num):\n",
      "        if not any(num % divisor == 0 for divisor in found_primes):\n",
      "            found_primes.add(num)\n",
      "    return found_primes"
     ],
     "language": "python",
     "metadata": {},
     "outputs": [],
     "prompt_number": 135
    },
    {
     "cell_type": "code",
     "collapsed": false,
     "input": [
      "print(primes())"
     ],
     "language": "python",
     "metadata": {},
     "outputs": [
      {
       "output_type": "stream",
       "stream": "stdout",
       "text": [
        "{2, 3, 5, 7, 11, 13, 17, 19, 23, 29, 31, 37, 41, 43, 47, 53, 59, 61, 67, 71, 73, 79, 83, 89, 97}\n"
       ]
      }
     ],
     "prompt_number": 136
    },
    {
     "cell_type": "code",
     "collapsed": false,
     "input": [
      "def primes(max_num=100):\n",
      "    numbers = set(range(2,max_num))\n",
      "    nonprimes = set()\n",
      "    for num in numbers:\n",
      "        for x in range(num, max_num // num + 1):\n",
      "            nonprimes.add(num * x)\n",
      "    return numbers - nonprimes"
     ],
     "language": "python",
     "metadata": {},
     "outputs": [],
     "prompt_number": 137
    },
    {
     "cell_type": "code",
     "collapsed": false,
     "input": [
      "print(primes())"
     ],
     "language": "python",
     "metadata": {},
     "outputs": [
      {
       "output_type": "stream",
       "stream": "stdout",
       "text": [
        "{2, 3, 5, 7, 11, 13, 17, 19, 23, 29, 31, 37, 41, 43, 47, 53, 59, 61, 67, 71, 73, 79, 83, 89, 97}\n"
       ]
      }
     ],
     "prompt_number": 138
    },
    {
     "cell_type": "code",
     "collapsed": false,
     "input": [
      "def primes(max_num=100):\n",
      "    numbers = set(range(2,max_num))\n",
      "    nonprimes = set()\n",
      "    for num in numbers:\n",
      "        nonprimes.update(num * x for x in range(num, max_num // num + 1))\n",
      "    return numbers - nonprimes"
     ],
     "language": "python",
     "metadata": {},
     "outputs": [],
     "prompt_number": 139
    },
    {
     "cell_type": "code",
     "collapsed": false,
     "input": [
      "print(primes())"
     ],
     "language": "python",
     "metadata": {},
     "outputs": [
      {
       "output_type": "stream",
       "stream": "stdout",
       "text": [
        "{2, 3, 5, 7, 11, 13, 17, 19, 23, 29, 31, 37, 41, 43, 47, 53, 59, 61, 67, 71, 73, 79, 83, 89, 97}\n"
       ]
      }
     ],
     "prompt_number": 140
    },
    {
     "cell_type": "code",
     "collapsed": false,
     "input": [
      "def primes(max_num=100):\n",
      "    numbers = set(range(2,max_num))\n",
      "    for num in range(2, max_num):\n",
      "        for x in range(num, max_num // num + 1):\n",
      "            numbers.discard(num * x)\n",
      "    return numbers"
     ],
     "language": "python",
     "metadata": {},
     "outputs": [],
     "prompt_number": 141
    },
    {
     "cell_type": "code",
     "collapsed": false,
     "input": [
      "print(primes())"
     ],
     "language": "python",
     "metadata": {},
     "outputs": [
      {
       "output_type": "stream",
       "stream": "stdout",
       "text": [
        "{2, 3, 5, 7, 11, 13, 17, 19, 23, 29, 31, 37, 41, 43, 47, 53, 59, 61, 67, 71, 73, 79, 83, 89, 97}\n"
       ]
      }
     ],
     "prompt_number": 142
    },
    {
     "cell_type": "markdown",
     "metadata": {},
     "source": [
      "[An Introduction to Prime Number Sieves: ftp://ftp.cs.wisc.edu/pub/techreports/1990/TR909.pdf](ftp://ftp.cs.wisc.edu/pub/techreports/1990/TR909.pdf)"
     ]
    },
    {
     "cell_type": "code",
     "collapsed": false,
     "input": [
      "from itertools import count\n",
      "\n",
      "def primes():\n",
      "    found_primes = {2}\n",
      "    yield 2\n",
      "    for num in count(3):\n",
      "        isprime = True\n",
      "        for divisor in found_primes:\n",
      "            if num % divisor == 0:\n",
      "                isprime = False\n",
      "        if isprime:\n",
      "            found_primes.add(num)\n",
      "            yield num"
     ],
     "language": "python",
     "metadata": {},
     "outputs": [],
     "prompt_number": 143
    },
    {
     "cell_type": "code",
     "collapsed": false,
     "input": [
      "# list(primes())"
     ],
     "language": "python",
     "metadata": {},
     "outputs": []
    },
    {
     "cell_type": "code",
     "collapsed": false,
     "input": [
      "from itertools import islice\n",
      "\n",
      "print(set(islice(primes(),0,10)))"
     ],
     "language": "python",
     "metadata": {},
     "outputs": [
      {
       "output_type": "stream",
       "stream": "stdout",
       "text": [
        "{2, 3, 5, 7, 11, 13, 17, 19, 23, 29}\n"
       ]
      }
     ],
     "prompt_number": 145
    },
    {
     "cell_type": "code",
     "collapsed": false,
     "input": [
      "from itertools import count\n",
      "\n",
      "def primes():\n",
      "    multiples = {}\n",
      "    for num in count(2):\n",
      "        print (multiples)\n",
      "        if num in multiples:\n",
      "            for x in multiples[num]:\n",
      "                multiples.setdefault(num+x, set()).add(x)\n",
      "            del multiples[num]\n",
      "        else: # prime !\n",
      "            multiples[num * num] = {num}\n",
      "            yield num"
     ],
     "language": "python",
     "metadata": {},
     "outputs": [],
     "prompt_number": 156
    },
    {
     "cell_type": "code",
     "collapsed": false,
     "input": [
      "from itertools import islice\n",
      "\n",
      "print(list(islice(primes(),0,10)))"
     ],
     "language": "python",
     "metadata": {},
     "outputs": [
      {
       "output_type": "stream",
       "stream": "stdout",
       "text": [
        "{}\n",
        "{4: {2}}\n",
        "{9: {3}, 4: {2}}\n",
        "{9: {3}, 6: {2}}\n",
        "{9: {3}, 6: {2}, 25: {5}}\n",
        "{8: {2}, 9: {3}, 25: {5}}\n",
        "{49: {7}, 25: {5}, 8: {2}, 9: {3}}\n",
        "{49: {7}, 25: {5}, 9: {3}, 10: {2}}\n",
        "{49: {7}, 25: {5}, 10: {2}, 12: {3}}\n",
        "{49: {7}, 25: {5}, 12: {2, 3}}\n",
        "{49: {7}, 25: {5}, 121: {11}, 12: {2, 3}}\n",
        "{49: {7}, 25: {5}, 121: {11}, 14: {2}, 15: {3}}\n",
        "{49: {7}, 169: {13}, 25: {5}, 121: {11}, 14: {2}, 15: {3}}\n",
        "{16: {2}, 49: {7}, 169: {13}, 25: {5}, 121: {11}, 15: {3}}\n",
        "{16: {2}, 49: {7}, 18: {3}, 169: {13}, 25: {5}, 121: {11}}\n",
        "{49: {7}, 18: {2, 3}, 169: {13}, 25: {5}, 121: {11}}\n",
        "{289: {17}, 169: {13}, 49: {7}, 18: {2, 3}, 121: {11}, 25: {5}}\n",
        "{289: {17}, 169: {13}, 49: {7}, 20: {2}, 21: {3}, 121: {11}, 25: {5}}\n",
        "{289: {17}, 169: {13}, 49: {7}, 20: {2}, 21: {3}, 121: {11}, 25: {5}, 361: {19}}\n",
        "{289: {17}, 169: {13}, 49: {7}, 21: {3}, 22: {2}, 121: {11}, 25: {5}, 361: {19}}\n",
        "{289: {17}, 169: {13}, 49: {7}, 22: {2}, 121: {11}, 24: {3}, 25: {5}, 361: {19}}\n",
        "{289: {17}, 169: {13}, 49: {7}, 121: {11}, 24: {2, 3}, 25: {5}, 361: {19}}\n",
        "{289: {17}, 529: {23}, 169: {13}, 49: {7}, 121: {11}, 24: {2, 3}, 25: {5}, 361: {19}}\n",
        "{289: {17}, 529: {23}, 169: {13}, 49: {7}, 121: {11}, 25: {5}, 26: {2}, 27: {3}, 361: {19}}\n",
        "{289: {17}, 529: {23}, 169: {13}, 49: {7}, 121: {11}, 26: {2}, 27: {3}, 30: {5}, 361: {19}}\n",
        "{289: {17}, 529: {23}, 169: {13}, 49: {7}, 121: {11}, 27: {3}, 28: {2}, 30: {5}, 361: {19}}\n",
        "{289: {17}, 529: {23}, 169: {13}, 49: {7}, 121: {11}, 28: {2}, 30: {3, 5}, 361: {19}}\n",
        "{289: {17}, 529: {23}, 169: {13}, 49: {7}, 121: {11}, 30: {2, 3, 5}, 361: {19}}\n",
        "[2, 3, 5, 7, 11, 13, 17, 19, 23, 29]\n"
       ]
      }
     ],
     "prompt_number": 157
    }
   ],
   "metadata": {}
  }
 ]
}
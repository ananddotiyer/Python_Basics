{
 "cells": [
  {
   "cell_type": "markdown",
   "metadata": {},
   "source": [
    "#### Problems based on Scores dataset (checkout the Datasets folder)"
   ]
  },
  {
   "cell_type": "markdown",
   "metadata": {},
   "source": [
    "1. How many students scored less than 40 in mathematics?\n",
    "2. What's the average total score?\n",
    "3. Find the number of students from Nebraska and their average marks in physics in a single loop.\n",
    "4. In the above problem, find the percentage of females to males.\n",
    "5. Determine if the girls performing better than boys in Maths?\n",
    "6. Which students have scored the top 5 marks in Chemistry?\n",
    "7. Top 5 total marks among all subjects.\n",
    "8. What's the average physics marks of all students from California, Nevada and Arizona?\n",
    "9. Find the top students from each state?\n",
    "10. Assign grades to students, based on their total marks. \n",
    "11. Find all students who scored above 90% percentile\n",
    "12. Are students born in certain months better than others?"
   ]
  },
  {
   "cell_type": "markdown",
   "metadata": {},
   "source": [
    "#### Problems based on Words dataset (checkout the Datasets folder)"
   ]
  },
  {
   "cell_type": "markdown",
   "metadata": {},
   "source": [
    "1. Find the longest word among the set of words in the dataset.\n",
    "2. Find the shortest sentence from the dataset.\n",
    "3. Find how many of each word categories are present in the dataset.\n",
    "4. Categorize the words into 4 buckets: High frequency/long, Low frequency and long, High frequency and short, Low frequency and short.\n",
    "5. Prove the hypothesis that high frequency words are short."
   ]
  },
  {
   "cell_type": "markdown",
   "metadata": {},
   "source": [
    "#### Problems based on Shopping Bills dataset (checkout the Datasets folder)"
   ]
  },
  {
   "cell_type": "markdown",
   "metadata": {},
   "source": [
    "1. What category of items do customers spent most on?\n",
    "2. Find customers who spent at least Rs.100/- at every shop.\n",
    "3. Find the top-spending consumers.  How much are they spending?\n",
    "4. Find items that are available in a shop, and no others.\n",
    "5. Find the lowest price for all items that are available in more than one shop.\n",
    "6. Find all customers who bought at least one item belonging to each category.\n",
    "7. Group customers based on their buying patterns.  Buying patterns can be any of \n",
    "    - amount spent on individual items\n",
    "    - total amount spent\n",
    "    - shops visited\n",
    "    - item categories\n",
    "8. List the most recommended item(s) for each customer, based on the above finding."
   ]
  }
 ],
 "metadata": {
  "kernelspec": {
   "display_name": "Python 3",
   "language": "python",
   "name": "python3"
  },
  "language_info": {
   "codemirror_mode": {
    "name": "ipython",
    "version": 3
   },
   "file_extension": ".py",
   "mimetype": "text/x-python",
   "name": "python",
   "nbconvert_exporter": "python",
   "pygments_lexer": "ipython3",
   "version": "3.7.4"
  }
 },
 "nbformat": 4,
 "nbformat_minor": 2
}

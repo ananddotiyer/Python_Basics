{
 "cells": [
  {
   "cell_type": "markdown",
   "metadata": {},
   "source": [
    "#### Problems based on Scores dataset (checkout the Datasets folder)"
   ]
  },
  {
   "cell_type": "markdown",
   "metadata": {},
   "source": [
    "1. How many students scored less than 40 in mathematics?\n",
    "2. What's the average total score?\n",
    "3. Find the number of students from Nebraska and their average marks in physics in a single loop.\n",
    "4. In the above problem, find the percentage of females to males.\n",
    "5. Determine if the girls performing better than boys in Maths?\n",
    "6. Which students have scored the top 5 marks in Chemistry?\n",
    "7. Top 5 total marks among all subjects.\n",
    "8. What's the average physics marks of all students from California, Nevada and Arizona?\n",
    "9. Find the top students from each state?\n",
    "10.Assign grades to students, based on their total marks."
   ]
  }
 ],
 "metadata": {
  "kernelspec": {
   "display_name": "Python 3",
   "language": "python",
   "name": "python3"
  },
  "language_info": {
   "codemirror_mode": {
    "name": "ipython",
    "version": 3
   },
   "file_extension": ".py",
   "mimetype": "text/x-python",
   "name": "python",
   "nbconvert_exporter": "python",
   "pygments_lexer": "ipython3",
   "version": "3.7.4"
  }
 },
 "nbformat": 4,
 "nbformat_minor": 2
}

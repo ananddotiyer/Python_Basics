{
 "metadata": {
  "name": "",
  "signature": "sha256:3d26d95b84577b874713e87a8012923a6999ac4952b37f331271973eceb3889e"
 },
 "nbformat": 3,
 "nbformat_minor": 0,
 "worksheets": [
  {
   "cells": [
    {
     "cell_type": "markdown",
     "metadata": {},
     "source": [
      "For this problem, write a recursive function,\u00a0lenRecur, which computes the length of an input argument (a string), by counting up the number of characters in the string."
     ]
    },
    {
     "cell_type": "markdown",
     "metadata": {},
     "source": [
      "#Answer\n",
      "def lenRecur(aStr):\n",
      "    '''\n",
      "    aStr: a string\n",
      "    \n",
      "    returns: int, the length of aStr\n",
      "    '''\n",
      "    length = 0\n",
      "    if aStr == '' :\n",
      "       return 0\n",
      "    else:\n",
      "       return lenRecur (aStr[1:]) + 1"
     ]
    }
   ],
   "metadata": {}
  }
 ]
}
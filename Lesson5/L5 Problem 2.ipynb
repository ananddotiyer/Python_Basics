{
 "metadata": {
  "name": "",
  "signature": "sha256:b155affe0d6a0abecdc069a616e3049d660281099f4b500327ad59eef3c81f3e"
 },
 "nbformat": 3,
 "nbformat_minor": 0,
 "worksheets": [
  {
   "cells": [
    {
     "cell_type": "markdown",
     "metadata": {},
     "source": [
      "In Problem 1, we computed an exponential by iteratively executing successive multiplications. We can use the same idea, but in a recursive function.\n",
      "\n",
      "Write a function\u00a0recurPower(base, exp)\u00a0which computes\u00a0baseexp\u00a0by recursively calling itself to solve a smaller version of the same problem, and then multiplying the result by\u00a0base\u00a0to solve the initial problem.\n",
      "\n",
      "This function should take in two values -\u00a0base\u00a0can be a float or an integer;\u00a0exp\u00a0will be an integer\u00a0\u22650. It should return one numerical value. Your code must be recursive - use of the\u00a0**\u00a0operator or looping constructs is not allowed."
     ]
    },
    {
     "cell_type": "markdown",
     "metadata": {},
     "source": [
      "#Answer\n",
      "def recurPower(base, exp):\n",
      "    '''\n",
      "    base: int or float.\n",
      "    exp: int >= 0\n",
      " \n",
      "    returns: int or float, base^exp\n",
      "    '''\n",
      "    if (exp == 0):\n",
      "        return 1\n",
      "    return base * recurPower (base, exp - 1)"
     ]
    }
   ],
   "metadata": {}
  }
 ]
}
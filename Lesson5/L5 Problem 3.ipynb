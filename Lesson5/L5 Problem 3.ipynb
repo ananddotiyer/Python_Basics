{
 "cells": [
  {
   "cell_type": "markdown",
   "metadata": {},
   "source": [
    "[![Open In Colab](https://colab.research.google.com/assets/colab-badge.svg)](https://colab.research.google.com/github/ananddotiyer/Python_Basics/blob/master/Lesson5/L5%20Problem%203.ipynb)"
   ]
  },
  {
   "cell_type": "markdown",
   "metadata": {},
   "source": [
    "The function recurPower(base, exp) from Problem 2 computed baseexp by decomposing the problem into one recursive case and one base case:\n",
    "\n",
    "<img src=\"L5P3_1.png\">\n",
    "\n",
    "Another way to solve this problem just using multiplication (and remainder) is to note that\n",
    "\n",
    "<img src=\"L5P3_2.png\">\n",
    "\n",
    "Write a procedure recurPowerNew which recursively computes exponentials using this idea."
   ]
  },
  {
   "cell_type": "markdown",
   "metadata": {},
   "source": [
    "#Answer\n",
    "def recurPowerNew(base, exp):\n",
    "    '''\n",
    "    base: int or float.\n",
    "    exp: int >= 0\n",
    "\n",
    "    returns: int or float; base^exp\n",
    "    '''\n",
    "    if (exp == 0):\n",
    "        return 1\n",
    "    else:\n",
    "        if (base %2 == 0): #even\n",
    "            return recurPowerNew (base * base, exp / 2)\n",
    "        else: #odd\n",
    "            return base * recurPowerNew (base, exp - 1)"
   ]
  }
 ],
 "metadata": {
  "kernelspec": {
   "display_name": "Python 3",
   "language": "python",
   "name": "python3"
  },
  "language_info": {
   "codemirror_mode": {
    "name": "ipython",
    "version": 3
   },
   "file_extension": ".py",
   "mimetype": "text/x-python",
   "name": "python",
   "nbconvert_exporter": "python",
   "pygments_lexer": "ipython3",
   "version": "3.7.4"
  }
 },
 "nbformat": 4,
 "nbformat_minor": 1
}

{
 "metadata": {
  "name": "",
  "signature": "sha256:3fc389556606568d288ca7968eeed1b91912df0a852783e7eb1ae92c009a8f81"
 },
 "nbformat": 3,
 "nbformat_minor": 0,
 "worksheets": [
  {
   "cells": [
    {
     "cell_type": "markdown",
     "metadata": {},
     "source": [
      "The function\u00a0recurPower(base, exp)\u00a0from Problem 2 computed\u00a0baseexp\u00a0by decomposing the problem into one recursive case and one base case:\n",
      "\n",
      "<img src=\"L5P3_1.png\">\n",
      "\n",
      "Another way to solve this problem just using multiplication (and remainder) is to note that\n",
      "\n",
      "<img src=\"L5P3_2.png\">\n",
      "\n",
      "Write a procedure\u00a0recurPowerNew\u00a0which recursively computes exponentials using this idea."
     ]
    },
    {
     "cell_type": "markdown",
     "metadata": {},
     "source": [
      "#Answer\n",
      "def recurPowerNew(base, exp):\n",
      "    '''\n",
      "    base: int or float.\n",
      "    exp: int >= 0\n",
      "\n",
      "    returns: int or float; base^exp\n",
      "    '''\n",
      "    if (exp == 0):\n",
      "        return 1\n",
      "    else:\n",
      "        if (base %2 == 0): #even\n",
      "            return recurPowerNew (base * base, exp / 2)\n",
      "        else: #odd\n",
      "            return base * recurPowerNew (base, exp - 1)"
     ]
    }
   ],
   "metadata": {}
  }
 ]
}
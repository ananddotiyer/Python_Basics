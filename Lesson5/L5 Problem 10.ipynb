{
 "metadata": {
  "name": "",
  "signature": "sha256:5fb086a26b6d01596af3d907eb6ec22dec953df28a45242f7970793bfcca1d41"
 },
 "nbformat": 3,
 "nbformat_minor": 0,
 "worksheets": [
  {
   "cells": [
    {
     "cell_type": "markdown",
     "metadata": {},
     "source": [
      "Ben Bitdiddle tried to implement\u00a0fibMetered\u00a0with global variables, to count the number of recursive calls needed for each Fibonacci number calculated. But he made a mistake in using the global variable! Examine his code below carefully and then answer the questions:"
     ]
    },
    {
     "cell_type": "code",
     "collapsed": false,
     "input": [
      "def fibMetered(x):\n",
      "    global numCalls\n",
      "    numCalls += 1\n",
      "    if x == 0 or x == 1:\n",
      "        return 1\n",
      "    else:\n",
      "        return fibMetered(x-1) + fibMetered(x-2)\n",
      "\n",
      "def testFib(n):\n",
      "    global numCalls\n",
      "    numCalls = 0\n",
      "    for i in range(n+1):\n",
      "        print('fib of ' + str(i) + ' = ' + str(fibMetered(i)))\n",
      "        print ('fib called ' + str(numCalls) + ' times')\n",
      "\n",
      "testFib(10)"
     ],
     "language": "python",
     "metadata": {},
     "outputs": [
      {
       "output_type": "stream",
       "stream": "stdout",
       "text": [
        "fib of 0 = 1\n",
        "fib called 1 times\n",
        "fib of 1 = 1\n",
        "fib called 2 times\n",
        "fib of 2 = 2\n",
        "fib called 5 times\n",
        "fib of 3 = 3\n",
        "fib called 10 times\n",
        "fib of 4 = 5\n",
        "fib called 19 times\n",
        "fib of 5 = 8\n",
        "fib called 34 times\n",
        "fib of 6 = 13\n",
        "fib called 59 times\n",
        "fib of 7 = 21\n",
        "fib called 100 times\n",
        "fib of 8 = 34\n",
        "fib called 167 times\n",
        "fib of 9 = 55\n",
        "fib called 276 times\n",
        "fib of 10 = 89\n",
        "fib called 453 times\n"
       ]
      }
     ],
     "prompt_number": 3
    }
   ],
   "metadata": {}
  }
 ]
}
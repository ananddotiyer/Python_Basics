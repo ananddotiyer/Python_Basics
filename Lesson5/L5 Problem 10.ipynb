{
 "cells": [
  {
   "cell_type": "markdown",
   "metadata": {},
   "source": [
    "[![Open In Colab](https://colab.research.google.com/assets/colab-badge.svg)](https://colab.research.google.com/github/ananddotiyer/Python_Basics/blob/master/Lesson5/L5%20Problem%2010.ipynb)"
   ]
  },
  {
   "cell_type": "markdown",
   "metadata": {},
   "source": [
    "Ben Bitdiddle tried to implement fibMetered with global variables, to count the number of recursive calls needed for each Fibonacci number calculated. But he made a mistake in using the global variable! Examine his code below carefully and then answer the questions:"
   ]
  },
  {
   "cell_type": "code",
   "execution_count": null,
   "metadata": {},
   "outputs": [],
   "source": [
    "def fibMetered(x):\n",
    "    global numCalls\n",
    "    numCalls += 1\n",
    "    if x == 0 or x == 1:\n",
    "        return 1\n",
    "    else:\n",
    "        return fibMetered(x-1) + fibMetered(x-2)\n",
    "\n",
    "def testFib(n):\n",
    "    global numCalls\n",
    "    numCalls = 0\n",
    "    for i in range(n+1):\n",
    "        print('fib of ' + str(i) + ' = ' + str(fibMetered(i)))\n",
    "        print ('fib called ' + str(numCalls) + ' times')\n",
    "\n",
    "testFib(10)"
   ]
  }
 ],
 "metadata": {
  "kernelspec": {
   "display_name": "Python 3",
   "language": "python",
   "name": "python3"
  },
  "language_info": {
   "codemirror_mode": {
    "name": "ipython",
    "version": 3
   },
   "file_extension": ".py",
   "mimetype": "text/x-python",
   "name": "python",
   "nbconvert_exporter": "python",
   "pygments_lexer": "ipython3",
   "version": "3.7.4"
  }
 },
 "nbformat": 4,
 "nbformat_minor": 1
}

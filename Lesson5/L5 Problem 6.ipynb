{
 "metadata": {
  "name": "",
  "signature": "sha256:6ab5bb46b929d983e77cd398f9de5013a5b9a291ab78f9853e42ee987728954f"
 },
 "nbformat": 3,
 "nbformat_minor": 0,
 "worksheets": [
  {
   "cells": [
    {
     "cell_type": "markdown",
     "metadata": {},
     "source": [
      "Although Python provides a built-in function for computing the length of a string, we can write our own.\n",
      "\n",
      "Write an iterative function,\u00a0lenIter, which computes the length of an input argument (a string), by counting up the number of characters in the string."
     ]
    },
    {
     "cell_type": "markdown",
     "metadata": {},
     "source": [
      "#Answer\n",
      "def lenIter(aStr):\n",
      "    '''\n",
      "    aStr: a string\n",
      "    \n",
      "    returns: int, the length of aStr\n",
      "    '''\n",
      "    length = 0\n",
      "    for i in aStr:\n",
      "        length += 1\n",
      "\n",
      "    return length"
     ]
    }
   ],
   "metadata": {}
  }
 ]
}
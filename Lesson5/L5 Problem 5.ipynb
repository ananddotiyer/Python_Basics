{
 "metadata": {
  "name": "",
  "signature": "sha256:9bf651602df62b550e160a1fc2df96d0f360d231db19e021305ff94bd254ccec"
 },
 "nbformat": 3,
 "nbformat_minor": 0,
 "worksheets": [
  {
   "cells": [
    {
     "cell_type": "markdown",
     "metadata": {},
     "source": [
      "The greatest common divisor of two positive integers is the largest integer that divides each of them without remainder. For example,\n",
      "\n",
      "gcd(2, 12) = 2\n",
      "\n",
      "gcd(6, 12) = 6\n",
      "\n",
      "gcd(9, 12) = 3\n",
      "\n",
      "gcd(17, 12) = 1\n",
      "\n",
      "A clever mathematical trick (due to Euclid) makes it easy to find greatest common divisors. Suppose that\u00a0aand\u00a0b\u00a0are two positive integers:\n",
      "\n",
      "If b = 0, then the answer is a\n",
      "\n",
      "Otherwise, gcd(a, b) is the same as gcd(b, a % b)\n",
      "\n",
      "Write a function\u00a0gcdRecur(a, b)\u00a0that implements this idea recursively. This function takes in two positive integers and returns one integer"
     ]
    },
    {
     "cell_type": "markdown",
     "metadata": {},
     "source": [
      "#Answer\n",
      "def gcdRecur(a, b):\n",
      "    '''\n",
      "    a, b: positive integers\n",
      "    \n",
      "    returns: a positive integer, the greatest common divisor of a & b.\n",
      "    '''\n",
      "    if (b == 0):\n",
      "        return a\n",
      "    else:\n",
      "        return gcdRecur (b, a % b)"
     ]
    }
   ],
   "metadata": {}
  }
 ]
}
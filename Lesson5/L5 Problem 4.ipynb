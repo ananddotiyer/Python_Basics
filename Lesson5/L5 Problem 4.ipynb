{
 "metadata": {
  "name": "",
  "signature": "sha256:7013bbc6aa76597508266485fb89322e7f2be127f6253b2af4ad2d3923e2dd1b"
 },
 "nbformat": 3,
 "nbformat_minor": 0,
 "worksheets": [
  {
   "cells": [
    {
     "cell_type": "markdown",
     "metadata": {},
     "source": [
      "The greatest common divisor of two positive integers is the largest integer that divides each of them without remainder. For example,\n",
      "\n",
      "gcd(2, 12) = 2\n",
      "\n",
      "gcd(6, 12) = 6\n",
      "\n",
      "gcd(9, 12) = 3\n",
      "\n",
      "gcd(17, 12) = 1\n",
      "\n",
      "Write an iterative function,\u00a0gcdIter(a, b), that implements this idea. One easy way to do this is to begin with a test value equal to the smaller of the two input arguments, and iteratively reduce this test value by 1 until you either reach a case where the test divides both\u00a0a\u00a0and\u00a0b\u00a0without remainder, or you reach 1."
     ]
    },
    {
     "cell_type": "markdown",
     "metadata": {},
     "source": [
      "#Answer\n",
      "def gcdIter(a, b):\n",
      "    '''\n",
      "    a, b: positive integers\n",
      "    \n",
      "    returns: a positive integer, the greatest common divisor of a & b.\n",
      "    '''\n",
      "    testValue = min(a, b)\n",
      "\n",
      "    # Keep looping until testValue divides both a & b evenly\n",
      "    while a % testValue != 0 or b % testValue != 0:\n",
      "        testValue -= 1\n",
      "\n",
      "    return testValue"
     ]
    }
   ],
   "metadata": {}
  }
 ]
}
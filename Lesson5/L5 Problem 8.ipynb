{
 "cells": [
  {
   "cell_type": "markdown",
   "metadata": {},
   "source": [
    "[![Open In Colab](https://colab.research.google.com/assets/colab-badge.svg)](https://colab.research.google.com/github/ananddotiyer/Python_Basics/blob/master/Lesson5/L5%20Problem%208.ipynb)"
   ]
  },
  {
   "cell_type": "markdown",
   "metadata": {},
   "source": [
    "We can use the idea of bisection search to determine if a character is in a string, so long as the string is sorted in alphabetical order.\n",
    "\n",
    "First, test the middle character of a string against the character you're looking for (the \"test character\"). If they are the same, we are done - we've found the character we're looking for!\n",
    "\n",
    "If they're not the same, check if the test character is \"smaller\" than the middle character. If so, we need only consider the lower half of the string; otherwise, we only consider the upper half of the string. (Note that you can compare characters using Python's < function.)\n",
    "\n",
    "Implement the function isIn(char, aStr) which implements the above idea recursively to test if char is in aStr. char will be a single character and aStr will be a string that is in alphabetical order. The function should return a boolean value.\n",
    "\n",
    "As you design the function, think very carefully about what the base cases should be."
   ]
  },
  {
   "cell_type": "markdown",
   "metadata": {},
   "source": [
    "#Answer\n",
    "def isIn(char, aStr):\n",
    "   '''\n",
    "   char: a single character\n",
    "   aStr: an alphabetized string\n",
    "   \n",
    "   returns: True if char is in aStr; False otherwise\n",
    "   '''\n",
    "   #### Base case: If aStr is empty, we did not find the char.\n",
    "   if aStr == '':\n",
    "      return False\n",
    "\n",
    "   #### Base case: if aStr is of length 1, just see if the chars are equal\n",
    "   if len(aStr) == 1:\n",
    "      return aStr == char\n",
    "\n",
    "   #### Base case: See if the character in the middle of aStr equals the test character \n",
    "   midIndex = len(aStr)/2\n",
    "   midChar = aStr[midIndex]\n",
    "   if char == midChar:\n",
    "      # We found the character!\n",
    "      return True\n",
    "   \n",
    "   #### Recursive case: If the test character is smaller than the middle character, recursively search on the first half of aStr\n",
    "   elif char < midChar:\n",
    "      return isIn(char, aStr[:midIndex])\n",
    "\n",
    "   #### Otherwise the test character is larger than the middle character,so recursively search on the last half of aStr\n",
    "   else:\n",
    "      return isIn(char, aStr[midIndex:])"
   ]
  }
 ],
 "metadata": {
  "kernelspec": {
   "display_name": "Python 3",
   "language": "python",
   "name": "python3"
  },
  "language_info": {
   "codemirror_mode": {
    "name": "ipython",
    "version": 3
   },
   "file_extension": ".py",
   "mimetype": "text/x-python",
   "name": "python",
   "nbconvert_exporter": "python",
   "pygments_lexer": "ipython3",
   "version": "3.7.4"
  }
 },
 "nbformat": 4,
 "nbformat_minor": 1
}

{
 "metadata": {
  "name": "",
  "signature": "sha256:9ae347ad05a3c5766d5302a2efc5a9047dc56be67d2d4de30c9714f0d5554423"
 },
 "nbformat": 3,
 "nbformat_minor": 0,
 "worksheets": [
  {
   "cells": [
    {
     "cell_type": "markdown",
     "metadata": {},
     "source": [
      "We can use the idea of\u00a0bisection search\u00a0to determine if a character is in a string, so long as the string is sorted in alphabetical order.\n",
      "\n",
      "First, test the middle character of a string against the character you're looking for (the \"test character\"). If they are the same, we are done - we've found the character we're looking for!\n",
      "\n",
      "If they're not the same, check if the test character is \"smaller\" than the middle character. If so, we need only consider the lower half of the string; otherwise, we only consider the upper half of the string. (Note that you can compare characters using Python's\u00a0<\u00a0function.)\n",
      "\n",
      "Implement the function\u00a0isIn(char, aStr)\u00a0which implements the above idea recursively to test if\u00a0char\u00a0is in\u00a0aStr.\u00a0char\u00a0will be a single character and\u00a0aStr\u00a0will be a string that is in alphabetical order. The function should return a boolean value.\n",
      "\n",
      "As you design the function, think very carefully about what the base cases should be."
     ]
    },
    {
     "cell_type": "markdown",
     "metadata": {},
     "source": [
      "#Answer\n",
      "def isIn(char, aStr):\n",
      "   '''\n",
      "   char: a single character\n",
      "   aStr: an alphabetized string\n",
      "   \n",
      "   returns: True if char is in aStr; False otherwise\n",
      "   '''\n",
      "   # Base case: If aStr is empty, we did not find the char.\n",
      "   if aStr == '':\n",
      "      return False\n",
      "\n",
      "   # Base case: if aStr is of length 1, just see if the chars are equal\n",
      "   if len(aStr) == 1:\n",
      "      return aStr == char\n",
      "\n",
      "   # Base case: See if the character in the middle of aStr equals the \n",
      "   #   test character \n",
      "   midIndex = len(aStr)/2\n",
      "   midChar = aStr[midIndex]\n",
      "   if char == midChar:\n",
      "      # We found the character!\n",
      "      return True\n",
      "   \n",
      "   # Recursive case: If the test character is smaller than the middle \n",
      "   #  character, recursively search on the first half of aStr\n",
      "   elif char < midChar:\n",
      "      return isIn(char, aStr[:midIndex])\n",
      "\n",
      "   # Otherwise the test character is larger than the middle character,\n",
      "   #  so recursively search on the last half of aStr\n",
      "   else:\n",
      "      return isIn(char, aStr[midIndex:])"
     ]
    }
   ],
   "metadata": {}
  }
 ]
}
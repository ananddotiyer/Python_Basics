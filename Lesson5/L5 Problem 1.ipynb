{
 "metadata": {
  "name": "",
  "signature": "sha256:3b83816726d5084165f31519f7ec5510f594f41d38f41eff7eba9e0c2892c251"
 },
 "nbformat": 3,
 "nbformat_minor": 0,
 "worksheets": [
  {
   "cells": [
    {
     "cell_type": "markdown",
     "metadata": {},
     "source": [
      "Write an iterative function\u00a0iterPower(base, exp)\u00a0that calculates the exponential\u00a0baseexp\u00a0by simply using successive multiplication. For example,\u00a0iterPower(base, exp)\u00a0should compute\u00a0baseexp\u00a0by multiplyingbase\u00a0times itself\u00a0exp\u00a0times. Write such a function below.\n",
      "\n",
      "This function should take in two values -\u00a0base\u00a0can be a float or an integer;\u00a0exp\u00a0will be an integer\u00a0\u2265\u00a00. It should return one numerical value. Your code must be iterative - use of the\u00a0**\u00a0operator is not allowed."
     ]
    },
    {
     "cell_type": "markdown",
     "metadata": {},
     "source": [
      "#Answer\n",
      "def iterPower(base, exp):\n",
      "    '''\n",
      "    base: int or float.\n",
      "    exp: int >= 0\n",
      " \n",
      "    returns: int or float, base^exp\n",
      "    '''\n",
      "    # Your code here\n",
      "    iterPowerReturn = 1;\n",
      "    while (exp > 0):\n",
      "        iterPowerReturn *= base\n",
      "        exp -= 1\n",
      "    return iterPowerReturn"
     ]
    }
   ],
   "metadata": {}
  }
 ]
}
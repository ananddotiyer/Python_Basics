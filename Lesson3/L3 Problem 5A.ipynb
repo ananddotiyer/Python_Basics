{
 "metadata": {
  "name": "",
  "signature": "sha256:5d5bac42a306449087ac1604dfbe7caac39ea90cf5175e9985734dad8515d931"
 },
 "nbformat": 3,
 "nbformat_minor": 0,
 "worksheets": [
  {
   "cells": [
    {
     "cell_type": "markdown",
     "metadata": {},
     "source": [
      "In this problem you'll be given a chance to practice writing some for loops.  Answers are given below, convert them to code before running."
     ]
    },
    {
     "cell_type": "code",
     "collapsed": false,
     "input": [
      "#Question1\n",
      "#Convert the following code into code that uses a for loop.\n",
      "print 2\n",
      "print 4\n",
      "print 6\n",
      "print 8\n",
      "print 10\n",
      "print \"Goodbye!\""
     ],
     "language": "python",
     "metadata": {},
     "outputs": []
    },
    {
     "cell_type": "markdown",
     "metadata": {},
     "source": [
      "#Answer1\n",
      "for i in range (2, 11, 2):\n",
      "    print i\n",
      "print \"Goodbye!\""
     ]
    },
    {
     "cell_type": "code",
     "collapsed": false,
     "input": [
      "#Question2\n",
      "#Convert the following code into code that uses a for loop.\n",
      "print \"Hello!\"\n",
      "print 10\n",
      "print 8\n",
      "print 6\n",
      "print 4\n",
      "print 2"
     ],
     "language": "python",
     "metadata": {},
     "outputs": []
    },
    {
     "cell_type": "markdown",
     "metadata": {},
     "source": [
      "#Answer2\n",
      "print (\"Hello!\")\n",
      "for i in range (10, 0, -2):\n",
      "    print i"
     ]
    },
    {
     "cell_type": "markdown",
     "metadata": {},
     "source": [
      "#Question3\n",
      "Write a while loop that sums the values 1 through end, inclusive. end is a variable that we define for you. So, for example, if we define end to be 6, your code should print out \"21\", which is 1 + 2 + 3 + 4 + 5 + 6."
     ]
    },
    {
     "cell_type": "markdown",
     "metadata": {},
     "source": [
      "#Answer3\n",
      "# Here is one of a few ways to solve this problem:\n",
      "total = 0\n",
      "end = 6\n",
      "for next in range(1, end+1):\n",
      "    total += next\n",
      "print total"
     ]
    }
   ],
   "metadata": {}
  }
 ]
}
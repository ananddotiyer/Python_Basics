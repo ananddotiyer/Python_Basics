{
 "metadata": {
  "name": "",
  "signature": "sha256:51571929b173cc04ba973bcfd4cc06832e30736d0792ba54dc9e229d950b7b91"
 },
 "nbformat": 3,
 "nbformat_minor": 0,
 "worksheets": [
  {
   "cells": [
    {
     "cell_type": "markdown",
     "metadata": {},
     "source": [
      "Here is the first sample of code from the previous problem:"
     ]
    },
    {
     "cell_type": "code",
     "collapsed": false,
     "input": [
      "#Code sample\n",
      "iteration = 0\n",
      "count = 0\n",
      "while iteration < 5:\n",
      "    for letter in \"hello, world\":\n",
      "        count += 1\n",
      "    print \"Iteration \" + str(iteration) + \"; count is: \" + str(count)\n",
      "    iteration += 1 "
     ],
     "language": "python",
     "metadata": {},
     "outputs": []
    },
    {
     "cell_type": "markdown",
     "metadata": {},
     "source": [
      "We wish to re-write the above code, but instead of nesting a\u00a0for\u00a0loop inside awhile\u00a0loop, we want to nest a\u00a0while\u00a0loop inside a\u00a0for\u00a0loop. Which of the following loops gives the same output as the\u00a0Code Sample?\n",
      "\n",
      "Try to answer the following questions by just reading the code. Reading code is a very good skill to have. It is okay to check your answers that you obtain from just reading the code, then in your interpreter run the code for the ones you got wrong on your first attempt."
     ]
    },
    {
     "cell_type": "code",
     "collapsed": false,
     "input": [
      "#Test1\n",
      "for iteration in range(5):\n",
      "    count = 0\n",
      "    while True:\n",
      "        for letter in \"hello, world\":\n",
      "            count += 1\n",
      "    print \"Iteration \" + str(iteration) + \"; count is: \" + str(count)"
     ],
     "language": "python",
     "metadata": {},
     "outputs": []
    },
    {
     "cell_type": "code",
     "collapsed": false,
     "input": [
      "#Test2\n",
      "for iteration in range(5):\n",
      "    count = 0\n",
      "    while True:\n",
      "        for letter in \"hello, world\":\n",
      "            count += 1\n",
      "        print \"Iteration \" + str(iteration) + \"; count is: \" + str(count)\n",
      "        break"
     ],
     "language": "python",
     "metadata": {},
     "outputs": []
    },
    {
     "cell_type": "code",
     "collapsed": false,
     "input": [
      "#Test3\n",
      "count = 0\n",
      "phrase = \"hello, world\"\n",
      "for iteration in range(5):\n",
      "    index = 0\n",
      "    while index < len(phrase):\n",
      "        count += 1\n",
      "        index += 1\n",
      "    print \"Iteration \" + str(iteration) + \"; count is: \" + str(count)"
     ],
     "language": "python",
     "metadata": {},
     "outputs": []
    },
    {
     "cell_type": "code",
     "collapsed": false,
     "input": [
      "#Test4\n",
      "count = 0\n",
      "phrase = \"hello, world\"\n",
      "for iteration in range(5):\n",
      "    while True:\n",
      "        count += len(phrase)\n",
      "        break\n",
      "    print \"Iteration \" + str(iteration) + \"; count is: \" + str(count)"
     ],
     "language": "python",
     "metadata": {},
     "outputs": []
    },
    {
     "cell_type": "code",
     "collapsed": false,
     "input": [
      "#Test5\n",
      "count = 0\n",
      "phrase = \"hello, world\"\n",
      "for iteration in range(5):\n",
      "    count += len(phrase)\n",
      "    print \"Iteration \" + str(iteration) + \"; count is: \" + str(count)"
     ],
     "language": "python",
     "metadata": {},
     "outputs": []
    }
   ],
   "metadata": {}
  }
 ]
}
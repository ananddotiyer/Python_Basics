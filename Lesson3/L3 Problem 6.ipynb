{
 "cells": [
  {
   "cell_type": "markdown",
   "metadata": {},
   "source": [
    "Below are some short Python programs. For each program, answer the associated questions.\n",
    "\n",
    "Try to answer the questions without running the code. Check your answers, then run the code for the ones you get wrong."
   ]
  },
  {
   "cell_type": "code",
   "execution_count": null,
   "metadata": {},
   "outputs": [],
   "source": [
    "iteration = 0\n",
    "count = 0\n",
    "while iteration < 5:\n",
    "    for letter in \"hello, world\":\n",
    "        count += 1\n",
    "    print (\"Iteration \" + str(iteration) + \"; count is: \" + str(count))\n",
    "    iteration += 1 "
   ]
  },
  {
   "cell_type": "raw",
   "metadata": {},
   "source": [
    "Answer the following questions:\n",
    "\n",
    "1. What is the value of the variable count that is printed out (at the printstatement) on iteration 0?\n",
    "2. What is the value of the variable count that is printed out (at the printstatement) on iteration 1?\n",
    "3. What is the value of the variable count that is printed out (at the printstatement) on iteration 2?\n",
    "4. What is the value of the variable count that is printed out (at the printstatement) on iteration 3?\n",
    "5. What is the value of the variable count that is printed out (at the printstatement) on iteration 4?"
   ]
  },
  {
   "cell_type": "code",
   "execution_count": null,
   "metadata": {},
   "outputs": [],
   "source": [
    "iteration = 0\n",
    "while iteration < 5:\n",
    "    count = 0\n",
    "    for letter in \"hello, world\":\n",
    "        count += 1\n",
    "    print (\"Iteration \" + str(iteration) + \"; count is: \" + str(count))\n",
    "    iteration += 1 "
   ]
  },
  {
   "cell_type": "raw",
   "metadata": {},
   "source": [
    "Answer the following questions:\n",
    "\n",
    "1. What is the value of the variable count that is printed out (at the printstatement) on iteration 0?\n",
    "2. What is the value of the variable count that is printed out (at the printstatement) on iteration 1?\n",
    "3. What is the value of the variable count that is printed out (at the printstatement) on iteration 2?\n",
    "4. What is the value of the variable count that is printed out (at the printstatement) on iteration 3?\n",
    "5. What is the value of the variable count that is printed out (at the printstatement) on iteration 4?"
   ]
  },
  {
   "cell_type": "code",
   "execution_count": null,
   "metadata": {},
   "outputs": [],
   "source": [
    "iteration = 0\n",
    "while iteration < 5:\n",
    "    count = 0\n",
    "    for letter in \"hello, world\":\n",
    "        count += 1\n",
    "        if iteration % 2 == 0:\n",
    "            break\n",
    "    print (\"Iteration \" + str(iteration) + \"; count is: \" + str(count))\n",
    "    iteration += 1 "
   ]
  },
  {
   "cell_type": "raw",
   "metadata": {},
   "source": [
    "Answer the following questions:\n",
    "\n",
    "1. How many times will the print statement be executed?\n",
    "2. What is the largest value of the variable iteration that will be printed out (at the print statement)?\n",
    "3. What is the largest value of the variable count that will be printed out (at the print statement)?\n",
    "4. What is the smallest value of the variable count that will be printed out (at the print statement)?"
   ]
  }
 ],
 "metadata": {
  "kernelspec": {
   "display_name": "Python 3",
   "language": "python",
   "name": "python3"
  },
  "language_info": {
   "codemirror_mode": {
    "name": "ipython",
    "version": 3
   },
   "file_extension": ".py",
   "mimetype": "text/x-python",
   "name": "python",
   "nbconvert_exporter": "python",
   "pygments_lexer": "ipython3",
   "version": "3.6.5"
  }
 },
 "nbformat": 4,
 "nbformat_minor": 1
}

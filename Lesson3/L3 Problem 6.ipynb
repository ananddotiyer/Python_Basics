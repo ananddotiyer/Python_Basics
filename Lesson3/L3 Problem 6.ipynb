{
 "metadata": {
  "name": "",
  "signature": "sha256:6465fc7e8a111180962102eb3ddcd1344f40e209da691bfa07f3e89d0db052a4"
 },
 "nbformat": 3,
 "nbformat_minor": 0,
 "worksheets": [
  {
   "cells": [
    {
     "cell_type": "markdown",
     "metadata": {},
     "source": [
      "Below are some short Python programs. For each program, answer the associated questions.\n",
      "\n",
      "Try to answer the questions without running the code. Check your answers, then run the code for the ones you get wrong."
     ]
    },
    {
     "cell_type": "code",
     "collapsed": false,
     "input": [
      "iteration = 0\n",
      "count = 0\n",
      "while iteration < 5:\n",
      "    for letter in \"hello, world\":\n",
      "        count += 1\n",
      "    print \"Iteration \" + str(iteration) + \"; count is: \" + str(count)\n",
      "    iteration += 1 "
     ],
     "language": "python",
     "metadata": {},
     "outputs": []
    },
    {
     "cell_type": "raw",
     "metadata": {},
     "source": [
      "Answer the following questions:\n",
      "\n",
      "1. What is the value of the variable\u00a0count\u00a0that is printed out (at the\u00a0printstatement) on iteration 0?\n",
      "2. What is the value of the variable\u00a0count\u00a0that is printed out (at the\u00a0printstatement) on iteration 1?\n",
      "3. What is the value of the variable\u00a0count\u00a0that is printed out (at the\u00a0printstatement) on iteration 2?\n",
      "4. What is the value of the variable\u00a0count\u00a0that is printed out (at the\u00a0printstatement) on iteration 3?\n",
      "5. What is the value of the variable\u00a0count\u00a0that is printed out (at the\u00a0printstatement) on iteration 4?"
     ]
    },
    {
     "cell_type": "code",
     "collapsed": false,
     "input": [
      "iteration = 0\n",
      "while iteration < 5:\n",
      "    count = 0\n",
      "    for letter in \"hello, world\":\n",
      "        count += 1\n",
      "    print \"Iteration \" + str(iteration) + \"; count is: \" + str(count)\n",
      "    iteration += 1 "
     ],
     "language": "python",
     "metadata": {},
     "outputs": []
    },
    {
     "cell_type": "raw",
     "metadata": {},
     "source": [
      "Answer the following questions:\n",
      "\n",
      "1. What is the value of the variable count that is printed out (at the printstatement) on iteration 0?\n",
      "2. What is the value of the variable count that is printed out (at the printstatement) on iteration 1?\n",
      "3. What is the value of the variable count that is printed out (at the printstatement) on iteration 2?\n",
      "4. What is the value of the variable count that is printed out (at the printstatement) on iteration 3?\n",
      "5. What is the value of the variable count that is printed out (at the printstatement) on iteration 4?"
     ]
    },
    {
     "cell_type": "code",
     "collapsed": false,
     "input": [
      "iteration = 0\n",
      "while iteration < 5:\n",
      "    count = 0\n",
      "    for letter in \"hello, world\":\n",
      "        count += 1\n",
      "        if iteration % 2 == 0:\n",
      "            break\n",
      "    print \"Iteration \" + str(iteration) + \"; count is: \" + str(count)\n",
      "    iteration += 1 "
     ],
     "language": "python",
     "metadata": {},
     "outputs": []
    },
    {
     "cell_type": "raw",
     "metadata": {},
     "source": [
      "Answer the following questions:\n",
      "\n",
      "1. How many times will the\u00a0print\u00a0statement be executed?\n",
      "2. What is the largest value of the variable\u00a0iteration\u00a0that will be printed out (at the\u00a0print\u00a0statement)?\n",
      "3. What is the largest value of the variable\u00a0count\u00a0that will be printed out (at the\u00a0print\u00a0statement)?\n",
      "4. What is the smallest value of the variable\u00a0count\u00a0that will be printed out (at the\u00a0print\u00a0statement)?"
     ]
    }
   ],
   "metadata": {}
  }
 ]
}
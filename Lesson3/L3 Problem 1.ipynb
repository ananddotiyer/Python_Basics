{
 "metadata": {
  "name": "",
  "signature": "sha256:035cd1f26a44b2f451607d4efb7216e2d26c20f7a87c768c6ed528033d52ac5a"
 },
 "nbformat": 3,
 "nbformat_minor": 0,
 "worksheets": [
  {
   "cells": [
    {
     "cell_type": "markdown",
     "metadata": {},
     "source": [
      "Below are some short Python programs. For each program, answer the associated question. \n",
      "\n",
      "Try to answer the questions without running the code. Check your answers, then run the code for the ones you get wrong. \n",
      "\n",
      "This question is going to ask you what some simple loops print out. If you're asked what code like this prints: "
     ]
    },
    {
     "cell_type": "code",
     "collapsed": false,
     "input": [
      "num = 5\n",
      "if num > 2:\n",
      "    print num\n",
      "    num -= 1\n",
      "print num"
     ],
     "language": "python",
     "metadata": {},
     "outputs": []
    },
    {
     "cell_type": "markdown",
     "metadata": {},
     "source": [
      "write what it prints out, separating what appears on a new line by a comma and a space. So the answer for the above code would be:\n",
      "\n",
      "5, 4\n",
      "\n",
      "If a given loop will not terminate, write the phrase 'infinite loop' (no quotes) in the box."
     ]
    },
    {
     "cell_type": "code",
     "collapsed": false,
     "input": [
      "num = 0\n",
      "while num <= 5:\n",
      "    print num\n",
      "    num += 1\n",
      "\n",
      "print \"Outside of loop\"\n",
      "print num "
     ],
     "language": "python",
     "metadata": {},
     "outputs": []
    },
    {
     "cell_type": "code",
     "collapsed": false,
     "input": [
      "numberOfLoops = 0\n",
      "numberOfApples = 2\n",
      "while numberOfLoops < 10:\n",
      "    numberOfApples *= 2\n",
      "    numberOfApples += numberOfLoops\n",
      "    numberOfLoops -= 1\n",
      "print \"Number of apples: \" + str(numberOfApples)"
     ],
     "language": "python",
     "metadata": {},
     "outputs": []
    },
    {
     "cell_type": "code",
     "collapsed": false,
     "input": [
      "num = 10\n",
      "while num > 3:\n",
      "    num -= 1\n",
      "    print num "
     ],
     "language": "python",
     "metadata": {},
     "outputs": []
    },
    {
     "cell_type": "code",
     "collapsed": false,
     "input": [
      "num = 10\n",
      "while True:\n",
      "    if num < 7:\n",
      "        print 'Breaking out of loop'\n",
      "        break\n",
      "    print num\n",
      "    num -= 1\n",
      "\n",
      "print 'Outside of loop' "
     ],
     "language": "python",
     "metadata": {},
     "outputs": []
    },
    {
     "cell_type": "markdown",
     "metadata": {},
     "source": [
      "Note: If the command break is executed within a loop, it halts evaluation of the loop at that point and passes control to the next expression. Test some break statements inside different loops if you don't understand this concept!"
     ]
    },
    {
     "cell_type": "code",
     "collapsed": false,
     "input": [
      "num = 100\n",
      "while not False:\n",
      "    if num < 0:\n",
      "        break\n",
      "print 'num is: ' + str(num)"
     ],
     "language": "python",
     "metadata": {},
     "outputs": []
    }
   ],
   "metadata": {}
  }
 ]
}
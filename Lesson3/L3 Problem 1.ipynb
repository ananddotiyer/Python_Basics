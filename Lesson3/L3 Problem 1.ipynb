{
 "cells": [
  {
   "cell_type": "markdown",
   "metadata": {},
   "source": [
    "[![Open In Colab](https://colab.research.google.com/assets/colab-badge.svg)](https://colab.research.google.com/github/ananddotiyer/Python_Basics/blob/master/Lesson3/L3%20Problem%201.ipynb)"
   ]
  },
  {
   "cell_type": "markdown",
   "metadata": {},
   "source": [
    "Below are some short Python programs. For each program, answer the associated question. \n",
    "\n",
    "Try to answer the questions without running the code. Check your answers, then run the code for the ones you get wrong. \n",
    "\n",
    "This question is going to ask you what some simple loops print out. If you're asked what code like this prints: "
   ]
  },
  {
   "cell_type": "code",
   "execution_count": null,
   "metadata": {},
   "outputs": [],
   "source": [
    "num = 5\n",
    "if num > 2:\n",
    "    print (num)\n",
    "    num -= 1\n",
    "print (num)"
   ]
  },
  {
   "cell_type": "markdown",
   "metadata": {},
   "source": [
    "write what it prints out, separating what appears on a new line by a comma and a space. So the answer for the above code would be:\n",
    "\n",
    "5, 4\n",
    "\n",
    "If a given loop will not terminate, write the phrase 'infinite loop' (no quotes) in the box."
   ]
  },
  {
   "cell_type": "code",
   "execution_count": null,
   "metadata": {},
   "outputs": [],
   "source": [
    "num = 0\n",
    "while num <= 5:\n",
    "    print (num)\n",
    "    num += 1\n",
    "\n",
    "print (\"Outside of loop\")\n",
    "print (num)"
   ]
  },
  {
   "cell_type": "code",
   "execution_count": null,
   "metadata": {},
   "outputs": [],
   "source": [
    "numberOfLoops = 0\n",
    "numberOfApples = 2\n",
    "while numberOfLoops < 10:\n",
    "    numberOfApples *= 2\n",
    "    numberOfApples += numberOfLoops\n",
    "    numberOfLoops -= 1\n",
    "print (\"Number of apples: \" + str(numberOfApples))"
   ]
  },
  {
   "cell_type": "code",
   "execution_count": null,
   "metadata": {},
   "outputs": [],
   "source": [
    "num = 10\n",
    "while num > 3:\n",
    "    num -= 1\n",
    "    print (num)"
   ]
  },
  {
   "cell_type": "code",
   "execution_count": null,
   "metadata": {},
   "outputs": [],
   "source": [
    "num = 10\n",
    "while True:\n",
    "    if num < 7:\n",
    "        print ('Breaking out of loop')\n",
    "        break\n",
    "    print (num)\n",
    "    num -= 1\n",
    "\n",
    "print ('Outside of loop')"
   ]
  },
  {
   "cell_type": "markdown",
   "metadata": {},
   "source": [
    "Note: If the command break is executed within a loop, it halts evaluation of the loop at that point and passes control to the next expression. Test some break statements inside different loops if you don't understand this concept!"
   ]
  },
  {
   "cell_type": "code",
   "execution_count": null,
   "metadata": {},
   "outputs": [],
   "source": [
    "num = 100\n",
    "while not False:\n",
    "    if num < 0:\n",
    "        break\n",
    "print ('num is: ' + str(num))"
   ]
  }
 ],
 "metadata": {
  "kernelspec": {
   "display_name": "Python 3",
   "language": "python",
   "name": "python3"
  },
  "language_info": {
   "codemirror_mode": {
    "name": "ipython",
    "version": 3
   },
   "file_extension": ".py",
   "mimetype": "text/x-python",
   "name": "python",
   "nbconvert_exporter": "python",
   "pygments_lexer": "ipython3",
   "version": "3.7.4"
  }
 },
 "nbformat": 4,
 "nbformat_minor": 1
}

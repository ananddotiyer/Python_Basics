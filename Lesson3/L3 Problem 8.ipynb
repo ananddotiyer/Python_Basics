{
 "cells": [
  {
   "cell_type": "markdown",
   "metadata": {},
   "source": [
    "Consider the following code:"
   ]
  },
  {
   "cell_type": "code",
   "execution_count": null,
   "metadata": {},
   "outputs": [],
   "source": [
    "x = 25\n",
    "epsilon = 0.01\n",
    "step = 0.1\n",
    "guess = 0.0\n",
    "\n",
    "while guess <= x:\n",
    "    if abs(guess**2 -x) < epsilon:\n",
    "        break\n",
    "    else:\n",
    "        guess += step\n",
    "\n",
    "if abs(guess**2 - x) >= epsilon:\n",
    "    print ('failed')\n",
    "else:\n",
    "    print ('succeeded: ' + str(guess))"
   ]
  },
  {
   "cell_type": "markdown",
   "metadata": {},
   "source": [
    "If this code is executed, it will print succeeded: 5.0\n",
    "\n",
    "Now suppose we try the following:"
   ]
  },
  {
   "cell_type": "code",
   "execution_count": null,
   "metadata": {},
   "outputs": [],
   "source": [
    "x = 25\n",
    "epsilon = 0.01\n",
    "step = 0.1\n",
    "guess = 0.0\n",
    "\n",
    "while guess <= x:\n",
    "    if abs(guess**2 -x) >= epsilon:\n",
    "        guess += step\n",
    "\n",
    "if abs(guess**2 - x) >= epsilon:\n",
    "    print ('failed')\n",
    "else:\n",
    "    print ('succeeded: ' + str(guess))"
   ]
  },
  {
   "cell_type": "raw",
   "metadata": {},
   "source": [
    "Select the answer that best describes what occurs when the above code is executed:\n",
    "    \n",
    "1. Script successfully completes, and prints out succeeded: 5.0\n",
    "2. Script successfully completes, but prints out failed\n",
    "3. Script successfully completes, but prints out succeeded: followed by some number not equal to 5.0\n",
    "4. Script enters an infinite loop and never terminates\n",
    "5. Script enters an infinite loop and never terminates"
   ]
  },
  {
   "cell_type": "markdown",
   "metadata": {},
   "source": [
    "Now suppose we try:"
   ]
  },
  {
   "cell_type": "code",
   "execution_count": null,
   "metadata": {},
   "outputs": [],
   "source": [
    "x = 25\n",
    "epsilon = 0.01\n",
    "step = 0.1\n",
    "guess = 0.0\n",
    "\n",
    "while abs(guess**2-x) >= epsilon:\n",
    "    if guess <= x:\n",
    "        guess += step\n",
    "    else:\n",
    "        break\n",
    "\n",
    "if abs(guess**2 - x) >= epsilon:\n",
    "    print ('failed')\n",
    "else:\n",
    "    print ('succeeded: ' + str(guess))"
   ]
  },
  {
   "cell_type": "raw",
   "metadata": {},
   "source": [
    "Select the answer that best describes what occurs when the above code is executed:\n",
    "    \n",
    "1. Script successfully completes, and prints out succeeded: 5.0\n",
    "2. Script successfully completes, but prints out failed\n",
    "3. Script successfully completes, but prints out succeeded: followed by some number not equal to 5.0\n",
    "4. Script enters an infinite loop and never terminates\n",
    "5. Script enters an infinite loop and never terminates"
   ]
  },
  {
   "cell_type": "raw",
   "metadata": {},
   "source": [
    "Finally, let's use the same code as immediately above, but change the first line to x = 23. Note that the square root of 23 is roughly 4.7958.\n",
    "\n",
    "Select the answer that best describes what occurs when the modified code is executed:"
   ]
  },
  {
   "cell_type": "raw",
   "metadata": {},
   "source": [
    "Select the answer that best describes what occurs when the above code is executed:\n",
    "    \n",
    "1. Script successfully completes, and prints out succeeded: 5.0\n",
    "2. Script successfully completes, but prints out failed\n",
    "3. Script successfully completes, but prints out succeeded: followed by some number not equal to 5.0\n",
    "4. Script enters an infinite loop and never terminates\n",
    "5. Script enters an infinite loop and never terminates"
   ]
  }
 ],
 "metadata": {
  "kernelspec": {
   "display_name": "Python 3",
   "language": "python",
   "name": "python3"
  },
  "language_info": {
   "codemirror_mode": {
    "name": "ipython",
    "version": 3
   },
   "file_extension": ".py",
   "mimetype": "text/x-python",
   "name": "python",
   "nbconvert_exporter": "python",
   "pygments_lexer": "ipython3",
   "version": "3.6.5"
  }
 },
 "nbformat": 4,
 "nbformat_minor": 1
}

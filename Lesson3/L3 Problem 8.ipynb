{
 "metadata": {
  "name": "",
  "signature": "sha256:f28964693555e784881026f04c2d106fac1eafca0858a981ad5c95a29ab931ab"
 },
 "nbformat": 3,
 "nbformat_minor": 0,
 "worksheets": [
  {
   "cells": [
    {
     "cell_type": "markdown",
     "metadata": {},
     "source": [
      "Consider the following code:"
     ]
    },
    {
     "cell_type": "code",
     "collapsed": false,
     "input": [
      "x = 25\n",
      "epsilon = 0.01\n",
      "step = 0.1\n",
      "guess = 0.0\n",
      "\n",
      "while guess <= x:\n",
      "    if abs(guess**2 -x) < epsilon:\n",
      "        break\n",
      "    else:\n",
      "        guess += step\n",
      "\n",
      "if abs(guess**2 - x) >= epsilon:\n",
      "    print 'failed'\n",
      "else:\n",
      "    print 'succeeded: ' + str(guess)"
     ],
     "language": "python",
     "metadata": {},
     "outputs": []
    },
    {
     "cell_type": "markdown",
     "metadata": {},
     "source": [
      "If this code is executed, it will print\u00a0succeeded: 5.0\n",
      "\n",
      "Now suppose we try the following:"
     ]
    },
    {
     "cell_type": "code",
     "collapsed": false,
     "input": [
      "x = 25\n",
      "epsilon = 0.01\n",
      "step = 0.1\n",
      "guess = 0.0\n",
      "\n",
      "while guess <= x:\n",
      "    if abs(guess**2 -x) >= epsilon:\n",
      "        guess += step\n",
      "\n",
      "if abs(guess**2 - x) >= epsilon:\n",
      "    print 'failed'\n",
      "else:\n",
      "    print 'succeeded: ' + str(guess)"
     ],
     "language": "python",
     "metadata": {},
     "outputs": []
    },
    {
     "cell_type": "raw",
     "metadata": {},
     "source": [
      "Select the answer that best describes what occurs when the above code is executed:\n",
      "    \n",
      "1. Script successfully completes, and prints out\u00a0succeeded: 5.0\n",
      "2. Script successfully completes, but prints out\u00a0failed\n",
      "3. Script successfully completes, but prints out succeeded:\u00a0followed by some number not equal to 5.0\n",
      "4. Script enters an infinite loop and never terminates\n",
      "5. Script enters an infinite loop and never terminates"
     ]
    },
    {
     "cell_type": "markdown",
     "metadata": {},
     "source": [
      "Now suppose we try:"
     ]
    },
    {
     "cell_type": "code",
     "collapsed": false,
     "input": [
      "x = 25\n",
      "epsilon = 0.01\n",
      "step = 0.1\n",
      "guess = 0.0\n",
      "\n",
      "while abs(guess**2-x) >= epsilon:\n",
      "    if guess <= x:\n",
      "        guess += step\n",
      "    else:\n",
      "        break\n",
      "\n",
      "if abs(guess**2 - x) >= epsilon:\n",
      "    print 'failed'\n",
      "else:\n",
      "    print 'succeeded: ' + str(guess)"
     ],
     "language": "python",
     "metadata": {},
     "outputs": []
    },
    {
     "cell_type": "raw",
     "metadata": {},
     "source": [
      "Select the answer that best describes what occurs when the above code is executed:\n",
      "    \n",
      "1. Script successfully completes, and prints out succeeded: 5.0\n",
      "2. Script successfully completes, but prints out failed\n",
      "3. Script successfully completes, but prints out succeeded: followed by some number not equal to 5.0\n",
      "4. Script enters an infinite loop and never terminates\n",
      "5. Script enters an infinite loop and never terminates"
     ]
    },
    {
     "cell_type": "raw",
     "metadata": {},
     "source": [
      "Finally, let's use the same code as immediately above, but change the first line to\u00a0x = 23. Note that the square root of 23 is roughly 4.7958.\n",
      "\n",
      "Select the answer that best describes what occurs when the modified code is executed:"
     ]
    },
    {
     "cell_type": "raw",
     "metadata": {},
     "source": [
      "Select the answer that best describes what occurs when the above code is executed:\n",
      "    \n",
      "1. Script successfully completes, and prints out succeeded: 5.0\n",
      "2. Script successfully completes, but prints out failed\n",
      "3. Script successfully completes, but prints out succeeded: followed by some number not equal to 5.0\n",
      "4. Script enters an infinite loop and never terminates\n",
      "5. Script enters an infinite loop and never terminates"
     ]
    }
   ],
   "metadata": {}
  }
 ]
}
{
 "metadata": {
  "name": "",
  "signature": "sha256:0aa0eb3efed157e659ef3b315aa53b05047e3824a4d9db47cf3856f7d5b0a194"
 },
 "nbformat": 3,
 "nbformat_minor": 0,
 "worksheets": [
  {
   "cells": [
    {
     "cell_type": "markdown",
     "metadata": {},
     "source": [
      "Below are some short Python programs. For each program, answer the associated question.\n",
      "\n",
      "Try to answer the questions without running the code. Check your answers, then run the code for the ones you get wrong.\n",
      "\n",
      "This question is going to ask you what some simple loops print out. If you're asked what code like this prints:"
     ]
    },
    {
     "cell_type": "code",
     "collapsed": false,
     "input": [
      "num = 5\n",
      "if num > 2:\n",
      "    print num\n",
      "    num -= 1\n",
      "print num"
     ],
     "language": "python",
     "metadata": {},
     "outputs": []
    },
    {
     "cell_type": "markdown",
     "metadata": {},
     "source": [
      "write what it prints out, separating what appears on a new line by a comma and a space. So the answer for the above code would be:\n",
      "\n",
      "5,4\n",
      "\n",
      "If a given loop will not terminate, write the phrase 'infinite loop' in the box.\n",
      "\n",
      "Note: Using the 'range' built-in function"
     ]
    },
    {
     "cell_type": "code",
     "collapsed": false,
     "input": [
      "num = 10\n",
      "for num in range(5):\n",
      "    print num\n",
      "print num "
     ],
     "language": "python",
     "metadata": {},
     "outputs": []
    },
    {
     "cell_type": "code",
     "collapsed": false,
     "input": [
      "divisor = 2\n",
      "for num in range(0, 10, 2):\n",
      "    print num/divisor "
     ],
     "language": "python",
     "metadata": {},
     "outputs": []
    },
    {
     "cell_type": "code",
     "collapsed": false,
     "input": [
      "for variable in range(20):\n",
      "    if variable % 4 == 0:\n",
      "        print variable\n",
      "    if variable % 16 == 0:\n",
      "        print 'Foo!' "
     ],
     "language": "python",
     "metadata": {},
     "outputs": []
    },
    {
     "cell_type": "code",
     "collapsed": false,
     "input": [
      "for letter in 'hola':\n",
      "    print letter  "
     ],
     "language": "python",
     "metadata": {},
     "outputs": []
    },
    {
     "cell_type": "code",
     "collapsed": false,
     "input": [
      "count = 0\n",
      "for letter in 'Snow!':\n",
      "    print 'Letter # ' + str(count) + ' is ' + str(letter)\n",
      "    count += 1\n",
      "    break\n",
      "print count "
     ],
     "language": "python",
     "metadata": {},
     "outputs": []
    }
   ],
   "metadata": {}
  }
 ]
}
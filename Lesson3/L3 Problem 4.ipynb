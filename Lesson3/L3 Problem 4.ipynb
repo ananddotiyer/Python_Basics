{
 "cells": [
  {
   "cell_type": "markdown",
   "metadata": {},
   "source": [
    "[![Open In Colab](https://colab.research.google.com/assets/colab-badge.svg)](https://colab.research.google.com/github/ananddotiyer/Python_Basics/blob/master/Lesson3/L3%20Problem%204.ipynb)"
   ]
  },
  {
   "cell_type": "markdown",
   "metadata": {},
   "source": [
    "Below are some short Python programs. For each program, answer the associated question.\n",
    "\n",
    "Try to answer the questions without running the code. Check your answers, then run the code for the ones you get wrong.\n",
    "\n",
    "This question is going to ask you what some simple loops print out. If you're asked what code like this prints:"
   ]
  },
  {
   "cell_type": "code",
   "execution_count": null,
   "metadata": {},
   "outputs": [],
   "source": [
    "num = 5\n",
    "if num > 2:\n",
    "    print (num)\n",
    "    num -= 1\n",
    "print (num)"
   ]
  },
  {
   "cell_type": "markdown",
   "metadata": {},
   "source": [
    "write what it prints out, separating what appears on a new line by a comma and a space. So the answer for the above code would be:\n",
    "\n",
    "5,4\n",
    "\n",
    "If a given loop will not terminate, write the phrase 'infinite loop' in the box.\n",
    "\n",
    "Note: Using the 'range' built-in function"
   ]
  },
  {
   "cell_type": "code",
   "execution_count": null,
   "metadata": {},
   "outputs": [],
   "source": [
    "num = 10\n",
    "for num in range(5):\n",
    "    print (num)\n",
    "print (num)"
   ]
  },
  {
   "cell_type": "code",
   "execution_count": null,
   "metadata": {},
   "outputs": [],
   "source": [
    "divisor = 2\n",
    "for num in range(0, 10, 2):\n",
    "    print (num/divisor) "
   ]
  },
  {
   "cell_type": "code",
   "execution_count": null,
   "metadata": {},
   "outputs": [],
   "source": [
    "for variable in range(20):\n",
    "    if variable % 4 == 0:\n",
    "        print (variable)\n",
    "    if variable % 16 == 0:\n",
    "        print ('Foo!') "
   ]
  },
  {
   "cell_type": "code",
   "execution_count": null,
   "metadata": {},
   "outputs": [],
   "source": [
    "for letter in 'hola':\n",
    "    print (letter)"
   ]
  },
  {
   "cell_type": "code",
   "execution_count": null,
   "metadata": {},
   "outputs": [],
   "source": [
    "count = 0\n",
    "for letter in 'Snow!':\n",
    "    print ('Letter # ' + str(count) + ' is ' + str(letter))\n",
    "    count += 1\n",
    "    break\n",
    "print (count) "
   ]
  }
 ],
 "metadata": {
  "kernelspec": {
   "display_name": "Python 3",
   "language": "python",
   "name": "python3"
  },
  "language_info": {
   "codemirror_mode": {
    "name": "ipython",
    "version": 3
   },
   "file_extension": ".py",
   "mimetype": "text/x-python",
   "name": "python",
   "nbconvert_exporter": "python",
   "pygments_lexer": "ipython3",
   "version": "3.7.4"
  }
 },
 "nbformat": 4,
 "nbformat_minor": 1
}

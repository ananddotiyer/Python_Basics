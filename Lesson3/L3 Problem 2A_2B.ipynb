{
 "metadata": {
  "name": "",
  "signature": "sha256:11c4d3ab582fd767d5f2c6d5423a0648665e97053274ff27f49650763753e065"
 },
 "nbformat": 3,
 "nbformat_minor": 0,
 "worksheets": [
  {
   "cells": [
    {
     "cell_type": "markdown",
     "metadata": {},
     "source": [
      "In this problem you'll be given a chance to practice writing some while loops.  Answers are given below, convert them to code before running."
     ]
    },
    {
     "cell_type": "code",
     "collapsed": false,
     "input": [
      "#Question1\n",
      "#Convert the following code into code that uses a while loop.\n",
      "print 2\n",
      "print 4\n",
      "print 6\n",
      "print 8\n",
      "print 10\n",
      "print \"Goodbye!\""
     ],
     "language": "python",
     "metadata": {},
     "outputs": []
    },
    {
     "cell_type": "markdown",
     "metadata": {},
     "source": [
      "#Answer1\n",
      "a = 1\n",
      "while (a <= 5):\n",
      "    print a * 2\n",
      "    a += 1\n",
      "print (\"Goodbye!\")"
     ]
    },
    {
     "cell_type": "code",
     "collapsed": false,
     "input": [
      "#Question2\n",
      "#Convert the following code into code that uses a while loop.\n",
      "print \"Hello!\"\n",
      "print 10\n",
      "print 8\n",
      "print 6\n",
      "print 4\n",
      "print 2"
     ],
     "language": "python",
     "metadata": {},
     "outputs": []
    },
    {
     "cell_type": "markdown",
     "metadata": {},
     "source": [
      "#Answer2\n",
      "print \"Hello!\"\n",
      "a = 5\n",
      "while (a >= 1):\n",
      "    print (a * 2)\n",
      "    a -= 1"
     ]
    },
    {
     "cell_type": "markdown",
     "metadata": {},
     "source": [
      "#Question3\n",
      "Write a while loop that sums the values 1 through end, inclusive. end is a variable that we define for you. So, for example, if we define end to be 6, your code should print out \"21\", which is 1 + 2 + 3 + 4 + 5 + 6."
     ]
    },
    {
     "cell_type": "markdown",
     "metadata": {},
     "source": [
      "#Answer3\n",
      "# Here is one of a few ways to solve this problem:\n",
      "total = 0\n",
      "current = 1\n",
      "end = 6\n",
      "while current <= end:\n",
      "    total += current\n",
      "    current += 1\n",
      "\n",
      "print total"
     ]
    }
   ],
   "metadata": {}
  }
 ]
}
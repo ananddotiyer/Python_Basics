{
 "metadata": {
  "name": "",
  "signature": "sha256:251fec23c13c90851fa0ff7b9c5eb6c59f24ccda2b0b3c37cac9973865f1d225"
 },
 "nbformat": 3,
 "nbformat_minor": 0,
 "worksheets": [
  {
   "cells": [
    {
     "cell_type": "markdown",
     "metadata": {},
     "source": [
      "Below are some short Python programs. For each program, answer the associated questions.\n",
      "\n",
      "Try to answer the questions without running the code. Check your answers, then run the code for the ones you get wrong. You'll learn the most this way, by figuring things out, instead of just running the code and reading off the answers."
     ]
    },
    {
     "cell_type": "code",
     "collapsed": false,
     "input": [
      "myStr = '6.00x'\n",
      "\n",
      "for char in myStr:\n",
      "    print char\n",
      "print 'done' "
     ],
     "language": "python",
     "metadata": {},
     "outputs": []
    },
    {
     "cell_type": "raw",
     "metadata": {},
     "source": [
      "Answer the following questions:\n",
      "\n",
      "1. How many times does\u00a06\u00a0print out?\n",
      "2. How many times does\u00a0.\u00a0print out?\n",
      "3. How many times does\u00a00\u00a0print out?\n",
      "4. How many times does\u00a0x\u00a0print out?\n",
      "5. How many times does\u00a0done\u00a0print out?"
     ]
    },
    {
     "cell_type": "code",
     "collapsed": false,
     "input": [
      "greeting = 'Hello!'\n",
      "count = 0\n",
      "\n",
      "for letter in greeting:\n",
      "    count += 1\n",
      "    if count % 2 == 0:\n",
      "        print letter \n",
      "    print letter\n",
      "\n",
      "print 'done'"
     ],
     "language": "python",
     "metadata": {},
     "outputs": []
    },
    {
     "cell_type": "raw",
     "metadata": {},
     "source": [
      "Answer the following questions:\n",
      "\n",
      "1. How many times does\u00a0H\u00a0print out?\n",
      "2. How many times does\u00a0e\u00a0print out?\n",
      "3. How many times does\u00a0l\u00a0print out?\n",
      "4. How many times does\u00a0o\u00a0print out?\n",
      "5. How many times does\u00a0!\u00a0print out?\n",
      "6. How many times does\u00a0done\u00a0print out?\n"
     ]
    },
    {
     "cell_type": "code",
     "collapsed": false,
     "input": [
      "school = 'Massachusetts Institute of Technology'\n",
      "numVowels = 0\n",
      "numCons = 0\n",
      "\n",
      "for char in school:\n",
      "    if char == 'a' or char == 'e' or char == 'i' \\\n",
      "        or char == 'o' or char == 'u':\n",
      "        numVowels += 1\n",
      "    elif char == 'o' or char == 'M':\n",
      "        print char\n",
      "    else:\n",
      "        numCons -= 1\n",
      "\n",
      "print 'numVowels is: ' + str(numVowels)\n",
      "print 'numCons is: ' + str(numCons) "
     ],
     "language": "python",
     "metadata": {},
     "outputs": []
    },
    {
     "cell_type": "raw",
     "metadata": {},
     "source": [
      "Answer the following questions:\n",
      "\n",
      "1. How many times does\u00a0o\u00a0print out?\n",
      "2. How many times does\u00a0M\u00a0print out?\n",
      "3. What will the value of the variable\u00a0numVowels\u00a0be?"
     ]
    }
   ],
   "metadata": {}
  }
 ]
}
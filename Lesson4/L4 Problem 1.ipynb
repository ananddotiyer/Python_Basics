{
 "metadata": {
  "name": "",
  "signature": "sha256:776c235f3ba2c94b44ab6323e16f11ac7583afd4b406e12eceee318f270cf1aa"
 },
 "nbformat": 3,
 "nbformat_minor": 0,
 "worksheets": [
  {
   "cells": [
    {
     "cell_type": "raw",
     "metadata": {},
     "source": [
      "Part 1: Function Types\n",
      "\n",
      "For each of the following functions, specify the type of its\u00a0output. You can assume each function is called with an appropriate argument, as specified by its docstring.\n",
      "\n",
      "If the output can be either an int or a float, select num, which isn't a real Python type, but which we'll use to indicate that either basic numeric type is legal.\n",
      "\n",
      "In fact, in Python, booleans True and False can be operated on as if they were the integers 1 and 0; but it is ugly and confusing to take advantage of this fact, and we will resolutely pretend that it isn't true."
     ]
    },
    {
     "cell_type": "code",
     "collapsed": false,
     "input": [
      "#returns number\n",
      "def a(x):\n",
      "    '''\n",
      "    x: int or float.\n",
      "    '''\n",
      "    return x + 1"
     ],
     "language": "python",
     "metadata": {},
     "outputs": []
    },
    {
     "cell_type": "code",
     "collapsed": false,
     "input": [
      "#returns float\n",
      "def b(x):\n",
      "    '''\n",
      "    x: int or float.\n",
      "    '''\n",
      "    return x + 1.0"
     ],
     "language": "python",
     "metadata": {},
     "outputs": []
    },
    {
     "cell_type": "code",
     "collapsed": false,
     "input": [
      "#returns number\n",
      "def c(x, y):\n",
      "    '''\n",
      "    x: int or float. \n",
      "    y: int or float.\n",
      "    '''\n",
      "    return x + y"
     ],
     "language": "python",
     "metadata": {},
     "outputs": []
    },
    {
     "cell_type": "code",
     "collapsed": false,
     "input": [
      "#return boolean\n",
      "def d(x, y):\n",
      "    '''\n",
      "    x: Can be of any type.\n",
      "    y: Can be of any type.\n",
      "    '''\n",
      "    return x > y"
     ],
     "language": "python",
     "metadata": {},
     "outputs": []
    },
    {
     "cell_type": "code",
     "collapsed": false,
     "input": [
      "#returns boolean\n",
      "def e(x, y, z):\n",
      "    '''\n",
      "    x: Can be of any type.\n",
      "    y: Can be of any type.\n",
      "    z: Can be of any type.\n",
      "    '''\n",
      "    return x >= y and x <= z"
     ],
     "language": "python",
     "metadata": {},
     "outputs": []
    },
    {
     "cell_type": "code",
     "collapsed": false,
     "input": [
      "#returns NoneType\n",
      "def f(x, y):\n",
      "    '''\n",
      "    x: int or float.\n",
      "    y: int or float\n",
      "    '''\n",
      "    x + y - 2"
     ],
     "language": "python",
     "metadata": {},
     "outputs": []
    },
    {
     "cell_type": "markdown",
     "metadata": {},
     "source": [
      "Part 2: Transcript\n",
      "\n",
      "Below is a transcript of a session with the Python shell. Assume the functions from Part 1 (above) have been defined. Provide the type and value of the expressions being evaluated. If evaluating an expression would cause an error, select NoneType and write 'error' in the box. \n",
      "\n",
      "If the value of an expression is a function, select function as the type and write 'function' in the box."
     ]
    },
    {
     "cell_type": "code",
     "collapsed": false,
     "input": [
      "a(6)"
     ],
     "language": "python",
     "metadata": {},
     "outputs": []
    },
    {
     "cell_type": "code",
     "collapsed": false,
     "input": [
      "a(-5.3)"
     ],
     "language": "python",
     "metadata": {},
     "outputs": []
    },
    {
     "cell_type": "code",
     "collapsed": false,
     "input": [
      "a(a(a(6)))"
     ],
     "language": "python",
     "metadata": {},
     "outputs": []
    },
    {
     "cell_type": "code",
     "collapsed": false,
     "input": [
      "c(a(1), b(1))"
     ],
     "language": "python",
     "metadata": {},
     "outputs": []
    },
    {
     "cell_type": "code",
     "collapsed": false,
     "input": [
      "d('apple', 11.1)"
     ],
     "language": "python",
     "metadata": {},
     "outputs": []
    },
    {
     "cell_type": "code",
     "collapsed": false,
     "input": [
      "e(a(3), b(4), c(3, 4))"
     ],
     "language": "python",
     "metadata": {},
     "outputs": []
    },
    {
     "cell_type": "code",
     "collapsed": false,
     "input": [
      "f"
     ],
     "language": "python",
     "metadata": {},
     "outputs": []
    }
   ],
   "metadata": {}
  }
 ]
}
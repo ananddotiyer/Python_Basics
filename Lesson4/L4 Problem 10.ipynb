{
 "metadata": {
  "name": "",
  "signature": "sha256:91e82b34b46d8f3826391d1190548d5f590ad3f8f9afbc55306098ab9f982250"
 },
 "nbformat": 3,
 "nbformat_minor": 0,
 "worksheets": [
  {
   "cells": [
    {
     "cell_type": "markdown",
     "metadata": {},
     "source": [
      "Define a function\u00a0isVowel(char)\u00a0that returns True if\u00a0char\u00a0is a vowel ('a', 'e', 'i', 'o', or 'u'), and False otherwise. You can assume that\u00a0char\u00a0is a single letter of any case (ie,\u00a0'A'\u00a0and\u00a0'a'\u00a0are both valid).\n",
      "Do not use the keyword\u00a0in. Your function should take in a single string and return a boolean."
     ]
    },
    {
     "cell_type": "markdown",
     "metadata": {},
     "source": [
      "#Answer\n",
      "def isVowel(char):\n",
      "    '''\n",
      "    char: a single letter of any case\n",
      "\n",
      "    returns: True if char is a vowel and False otherwise.\n",
      "    '''\n",
      "    return ((char.lower() == 'a') or (char.lower() == 'e') or (char.lower() == 'i') \n",
      "    or (char.lower() == 'o') or (char.lower() == 'u'))"
     ]
    }
   ],
   "metadata": {}
  }
 ]
}
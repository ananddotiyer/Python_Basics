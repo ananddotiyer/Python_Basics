{
 "metadata": {
  "name": "",
  "signature": "sha256:05a42bb67c50c3e1740f4f6ef2104d82be4a61edd84b7102810abdb1235fab49"
 },
 "nbformat": 3,
 "nbformat_minor": 0,
 "worksheets": [
  {
   "cells": [
    {
     "cell_type": "markdown",
     "metadata": {},
     "source": [
      "Write a Python function,\u00a0fourthPower, that takes in one number and returns that value raised to the fourth power.\n",
      "\n",
      "You should use the\u00a0square\u00a0procedure that you defined in Problem 3 of these lecture exercises (you don't need to redefine\u00a0square\u00a0in this box; when you call\u00a0square, the tutor will use our definition).  This function takes in one number and returns one number."
     ]
    },
    {
     "cell_type": "markdown",
     "metadata": {},
     "source": [
      "#Answer\n",
      "def fourthPower(x):\n",
      "    '''\n",
      "    x: int or float.\n",
      "    '''\n",
      "    return (square(square(x)))"
     ]
    }
   ],
   "metadata": {}
  }
 ]
}
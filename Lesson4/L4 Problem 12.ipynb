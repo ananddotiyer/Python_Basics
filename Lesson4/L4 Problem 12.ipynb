{
 "metadata": {
  "name": "",
  "signature": "sha256:1c83708d6b151df502586daf05103053b50833005109aba083cb2736657eabae"
 },
 "nbformat": 3,
 "nbformat_minor": 0,
 "worksheets": [
  {
   "cells": [
    {
     "cell_type": "markdown",
     "metadata": {},
     "source": [
      "As we'll see in subsequent lectures, everything in Python is an\u00a0object. Objects are special because we can associate special functions, referred to as\u00a0object methods, with the object. In this problem you'll be working with string objects, and their built-in methods.\n",
      "\n",
      "A complete description of the methods available to string objects can be found in the\u00a0Python library reference on string methods. Another useful resource about string methods\u00a0can be found here.\n",
      "\n",
      "In this exercise, we want you to get some experience in using methods as functions. The convention for object methods is to use the \"dot\" notation, so that if\u00a0s\u00a0is a string, evaluating\u00a0s.upper\u00a0will return the actual function, and evaluating\u00a0s.upper()\u00a0will cause the function itself to be evaluated (in this case it returns a new string, since strings are immutable) with every character now in upper case. An example of this follows:"
     ]
    },
    {
     "cell_type": "code",
     "collapsed": false,
     "input": [
      ">>> s = 'abc'\n",
      ">>> s.capitalize"
     ],
     "language": "python",
     "metadata": {},
     "outputs": []
    },
    {
     "cell_type": "code",
     "collapsed": false,
     "input": [
      ">>> s.capitalize()"
     ],
     "language": "python",
     "metadata": {},
     "outputs": []
    },
    {
     "cell_type": "markdown",
     "metadata": {},
     "source": [
      "For each of the expressions in this problem, specify its type and value. If it generates an error, select type 'NoneType' and put the word 'error' in the box for the value. If it would be a function, select type 'function' and put the word 'function' in the box for the value.\n",
      "Assume we've made the following assignments:"
     ]
    },
    {
     "cell_type": "code",
     "collapsed": false,
     "input": [
      "str1 = 'exterminate!' \n",
      "str2 = 'number one - the larch'"
     ],
     "language": "python",
     "metadata": {},
     "outputs": []
    },
    {
     "cell_type": "markdown",
     "metadata": {},
     "source": [
      "Assume that the expressions are evaluated in the order shown - that is, each problem part is evaluated directly after the previous problem part(s)."
     ]
    },
    {
     "cell_type": "code",
     "collapsed": false,
     "input": [
      "str1.upper"
     ],
     "language": "python",
     "metadata": {},
     "outputs": []
    },
    {
     "cell_type": "code",
     "collapsed": false,
     "input": [
      "str1.upper()"
     ],
     "language": "python",
     "metadata": {},
     "outputs": []
    },
    {
     "cell_type": "code",
     "collapsed": false,
     "input": [
      "str1"
     ],
     "language": "python",
     "metadata": {},
     "outputs": []
    },
    {
     "cell_type": "code",
     "collapsed": false,
     "input": [
      "str1.isupper()"
     ],
     "language": "python",
     "metadata": {},
     "outputs": []
    },
    {
     "cell_type": "code",
     "collapsed": false,
     "input": [
      "str1.islower()"
     ],
     "language": "python",
     "metadata": {},
     "outputs": []
    },
    {
     "cell_type": "code",
     "collapsed": false,
     "input": [
      "str2 = str2.capitalize()\n",
      "print str2"
     ],
     "language": "python",
     "metadata": {},
     "outputs": []
    },
    {
     "cell_type": "code",
     "collapsed": false,
     "input": [
      "str2.swapcase()"
     ],
     "language": "python",
     "metadata": {},
     "outputs": []
    },
    {
     "cell_type": "code",
     "collapsed": false,
     "input": [
      "str1.index('e')"
     ],
     "language": "python",
     "metadata": {},
     "outputs": []
    },
    {
     "cell_type": "code",
     "collapsed": false,
     "input": [
      "str2.index('n')"
     ],
     "language": "python",
     "metadata": {},
     "outputs": []
    },
    {
     "cell_type": "markdown",
     "metadata": {},
     "source": [
      "Following two snippets of code illustrates difference between the\u00a0find\u00a0and\u00a0index\u00a0string methods..."
     ]
    },
    {
     "cell_type": "code",
     "collapsed": false,
     "input": [
      "str2.find('n')"
     ],
     "language": "python",
     "metadata": {},
     "outputs": []
    },
    {
     "cell_type": "code",
     "collapsed": false,
     "input": [
      "str2.index('!')"
     ],
     "language": "python",
     "metadata": {},
     "outputs": []
    },
    {
     "cell_type": "code",
     "collapsed": false,
     "input": [
      "str1.count('e')"
     ],
     "language": "python",
     "metadata": {},
     "outputs": []
    },
    {
     "cell_type": "code",
     "collapsed": false,
     "input": [
      "str1 = str1.replace('e', '*')\n",
      "print str1"
     ],
     "language": "python",
     "metadata": {},
     "outputs": []
    },
    {
     "cell_type": "code",
     "collapsed": false,
     "input": [
      "str2 = str2.replace('one', 'seven')\n",
      "print str2"
     ],
     "language": "python",
     "metadata": {},
     "outputs": []
    }
   ],
   "metadata": {}
  }
 ]
}
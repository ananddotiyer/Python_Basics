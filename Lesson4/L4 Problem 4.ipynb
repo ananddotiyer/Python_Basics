{
 "metadata": {
  "name": "",
  "signature": "sha256:465898e307741c3b3c1329fd6ebf24e58b3524ec9fd6662d660c5461068bf92d"
 },
 "nbformat": 3,
 "nbformat_minor": 0,
 "worksheets": [
  {
   "cells": [
    {
     "cell_type": "markdown",
     "metadata": {},
     "source": [
      "Write a Python function,\u00a0evalQuadratic(a, b, c, x), that returns the value of the quadratic\u00a0a\u22c5x2+b\u22c5x+c.  This function takes in four numbers and returns a single number."
     ]
    },
    {
     "cell_type": "markdown",
     "metadata": {},
     "source": [
      "#Answer\n",
      "def evalQuadratic(a, b, c, x):\n",
      "    '''\n",
      "    a, b, c: numerical values for the coefficients of a quadratic equation\n",
      "    x: numerical value at which to evaluate the quadratic.\n",
      "    '''\n",
      "    return a * x * x + b * x + c"
     ]
    }
   ],
   "metadata": {}
  }
 ]
}
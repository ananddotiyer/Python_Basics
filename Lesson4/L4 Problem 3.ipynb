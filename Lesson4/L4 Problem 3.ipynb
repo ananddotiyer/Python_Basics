{
 "metadata": {
  "name": "",
  "signature": "sha256:527893058211166b26676ef783d21f0e0c1be7dfe40477e70f7a7d34a8b71c77"
 },
 "nbformat": 3,
 "nbformat_minor": 0,
 "worksheets": [
  {
   "cells": [
    {
     "cell_type": "markdown",
     "metadata": {},
     "source": [
      "Write a Python function,\u00a0square, that takes in one number and returns the square of that number.  This function takes in one number and returns one number."
     ]
    },
    {
     "cell_type": "markdown",
     "metadata": {},
     "source": [
      "#Answer\n",
      "def square(x):\n",
      "    '''\n",
      "    x: int or float.\n",
      "    '''\n",
      "    return x * x"
     ]
    }
   ],
   "metadata": {}
  }
 ]
}
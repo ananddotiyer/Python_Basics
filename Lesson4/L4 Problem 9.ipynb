{
 "cells": [
  {
   "cell_type": "markdown",
   "metadata": {},
   "source": [
    "[![Open In Colab](https://colab.research.google.com/assets/colab-badge.svg)](https://colab.research.google.com/github/ananddotiyer/Python_Basics/blob/master/Lesson4/L4%20Problem%209.ipynb)"
   ]
  },
  {
   "cell_type": "markdown",
   "metadata": {},
   "source": [
    "Write a Python function, odd, that takes in one number and returns True when the number is odd and False otherwise.\n",
    "You should use the % (mod) operator, not if.\n",
    "\n",
    "This function takes in one number and returns a boolean."
   ]
  },
  {
   "cell_type": "markdown",
   "metadata": {},
   "source": [
    "#Answer\n",
    "def odd(x):\n",
    "    '''\n",
    "    x: int or float.\n",
    "\n",
    "    returns: True if x is odd, False otherwise\n",
    "    '''\n",
    "    return (x % 2 <> 0)"
   ]
  }
 ],
 "metadata": {
  "kernelspec": {
   "display_name": "Python 3",
   "language": "python",
   "name": "python3"
  },
  "language_info": {
   "codemirror_mode": {
    "name": "ipython",
    "version": 3
   },
   "file_extension": ".py",
   "mimetype": "text/x-python",
   "name": "python",
   "nbconvert_exporter": "python",
   "pygments_lexer": "ipython3",
   "version": "3.7.4"
  }
 },
 "nbformat": 4,
 "nbformat_minor": 1
}

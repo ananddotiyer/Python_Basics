{
 "metadata": {
  "name": "",
  "signature": "sha256:1524ec23712c7627eed84aca16b9e17e510c275860e656727b13c544d0b499bd"
 },
 "nbformat": 3,
 "nbformat_minor": 0,
 "worksheets": [
  {
   "cells": [
    {
     "cell_type": "markdown",
     "metadata": {},
     "source": [
      "Write a Python function,\u00a0odd, that takes in one number and returns\u00a0True\u00a0when the number is odd and False\u00a0otherwise.\n",
      "You should use the\u00a0%\u00a0(mod) operator, not\u00a0if.\n",
      "\n",
      "This function takes in one number and returns a boolean."
     ]
    },
    {
     "cell_type": "markdown",
     "metadata": {},
     "source": [
      "#Answer\n",
      "def odd(x):\n",
      "    '''\n",
      "    x: int or float.\n",
      "\n",
      "    returns: True if x is odd, False otherwise\n",
      "    '''\n",
      "    return (x % 2 <> 0)"
     ]
    }
   ],
   "metadata": {}
  }
 ]
}
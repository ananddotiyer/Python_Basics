{
 "metadata": {
  "name": "",
  "signature": "sha256:37f663e9d828cf666e21a92efc5ea8d3d335e9aaa4ca5d42685de9b21d7efbd3"
 },
 "nbformat": 3,
 "nbformat_minor": 0,
 "worksheets": [
  {
   "cells": [
    {
     "cell_type": "markdown",
     "metadata": {},
     "source": [
      "Below is a transcript of a session with the Python shell. Provide the type and value of the expressions being evaluated. If evaluating an expression would cause an error, select NoneType and write 'error' in the box. If the result is a function, select function and write 'function' in the box.\n",
      "\n",
      "To get the most out of this problem, try to figure out the answers by reading the code, not running it. Run the code in your interpreter only after you've checked your answers a few times.\n",
      "\n",
      "Hint:\u00a0If you are confused, you may find it helpful to draw out an environment diagram similar to what was presented in lecture."
     ]
    },
    {
     "cell_type": "code",
     "collapsed": false,
     "input": [
      ">>> a = 10\n",
      ">>> def f(x):\n",
      "        return x + a\n",
      ">>> a = 3\n",
      ">>> f(1)"
     ],
     "language": "python",
     "metadata": {},
     "outputs": []
    },
    {
     "cell_type": "code",
     "collapsed": false,
     "input": [
      ">>> x = 12\n",
      ">>> def g(x):\n",
      "        x = x + 1\n",
      "        def h(y):\n",
      "            return x + y\n",
      "        return h(6)\n",
      ">>> g(x)"
     ],
     "language": "python",
     "metadata": {},
     "outputs": []
    }
   ],
   "metadata": {}
  }
 ]
}
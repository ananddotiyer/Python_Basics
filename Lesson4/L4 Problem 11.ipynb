{
 "metadata": {
  "name": "",
  "signature": "sha256:fb09ecbc24334759ad80500b9a5e45088dd307384ce184ce6b60b39a8cf65b3a"
 },
 "nbformat": 3,
 "nbformat_minor": 0,
 "worksheets": [
  {
   "cells": [
    {
     "cell_type": "markdown",
     "metadata": {},
     "source": [
      "Define a function\u00a0isVowel2(char)\u00a0that returns True if\u00a0char\u00a0is a vowel ('a', 'e', 'i', 'o', or 'u'), and False otherwise. You can assume that\u00a0char\u00a0is a single letter of any case (ie,\u00a0'A'\u00a0and\u00a0'a'\u00a0are both valid).\n",
      "\n",
      "This function is similar to the previous problem - but this time,\u00a0do\u00a0use the keyword\u00a0in. Your function should take in a single string and return a boolean."
     ]
    },
    {
     "cell_type": "markdown",
     "metadata": {},
     "source": [
      "#Answer\n",
      "def isVowel2(char):\n",
      "    '''\n",
      "    char: a single letter of any case\n",
      "\n",
      "    returns: True if char is a vowel and False otherwise.\n",
      "    '''\n",
      "    return (char.lower () in ('a', 'e', 'i', 'o', 'u'))"
     ]
    }
   ],
   "metadata": {}
  }
 ]
}
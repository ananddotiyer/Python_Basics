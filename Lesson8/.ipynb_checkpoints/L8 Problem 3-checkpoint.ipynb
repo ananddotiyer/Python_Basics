{
 "metadata": {
  "name": "",
  "signature": "sha256:d9b11dde370196d993be7a01fa5562398d77e36d1d6e4cb071cf488fb14107ad"
 },
 "nbformat": 3,
 "nbformat_minor": 0,
 "worksheets": [
  {
   "cells": [
    {
     "cell_type": "markdown",
     "metadata": {},
     "source": [
      "Suppose we rewrite the FancyDivide function to use a helper function."
     ]
    },
    {
     "cell_type": "code",
     "collapsed": false,
     "input": [
      "def FancyDivide(list_of_numbers, index):\n",
      "   denom = list_of_numbers[index]\n",
      "   return [SimpleDivide(item, denom)\n",
      "               for item in list_of_numbers]\n",
      "\n",
      "\n",
      "def SimpleDivide(item, denom):\n",
      "   return item / denom"
     ],
     "language": "python",
     "metadata": {},
     "outputs": [],
     "prompt_number": 1
    },
    {
     "cell_type": "markdown",
     "metadata": {},
     "source": [
      "This code raises a ZeroDivisionError exception for the following call: \n",
      "\n",
      ">FancyDivide([0, 2, 4], 0)\n",
      "\n",
      "Your task is to change the definition of SimpleDivide so that the call does not raise an exception. When dividing by 0, FancyDivide should return a list with all 0 elements. Any other error cases should still raise exceptions. You should only handle the ZeroDivisionError. "
     ]
    },
    {
     "cell_type": "code",
     "collapsed": false,
     "input": [
      "def SimpleDivide(item, denom):\n",
      "   try:\n",
      "       return item / denom\n",
      "   except ZeroDivisionError:\n",
      "       return 0"
     ],
     "language": "python",
     "metadata": {},
     "outputs": []
    }
   ],
   "metadata": {}
  }
 ]
}
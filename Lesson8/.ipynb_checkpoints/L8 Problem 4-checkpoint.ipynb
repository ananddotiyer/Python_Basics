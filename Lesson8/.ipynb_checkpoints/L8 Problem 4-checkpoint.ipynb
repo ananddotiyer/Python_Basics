{
 "metadata": {
  "name": "",
  "signature": "sha256:a02e3db5aef6cfd44c18828974fd09c8ac801e3a808683372046106c1c55540f"
 },
 "nbformat": 3,
 "nbformat_minor": 0,
 "worksheets": [
  {
   "cells": [
    {
     "cell_type": "markdown",
     "metadata": {},
     "source": [
      "Consider the function Normalize that takes as input a list of positive numbers numbers and returns a list of numbers that are a fraction of the maximum element in the list. Try to answer the questions without running the code. Check your answers, then run the code for the ones you get wrong. You'll learn the most this way, by figuring things out, instead of just running the code and reading off the answers. "
     ]
    },
    {
     "cell_type": "code",
     "collapsed": false,
     "input": [
      "def Normalize(numbers):\n",
      "    max_number = max(numbers)\n",
      "    for i in range(len(numbers)):\n",
      "        numbers[i] /= float(max_number)\n",
      "    return numbers "
     ],
     "language": "python",
     "metadata": {},
     "outputs": []
    },
    {
     "cell_type": "markdown",
     "metadata": {},
     "source": [
      "The code below tries to call Normalize with one particular input. Answer the next 5 questions based on the following code."
     ]
    },
    {
     "cell_type": "code",
     "collapsed": false,
     "input": [
      "try:\n",
      "      Normalize([0, 0, 0])\n",
      "except ZeroDivisionError, e:\n",
      "      print 'Invalid maximum element'"
     ],
     "language": "python",
     "metadata": {},
     "outputs": []
    },
    {
     "cell_type": "raw",
     "metadata": {},
     "source": [
      "1. Does the try block throw (also known as raise) an exception?\n",
      "\n",
      "2. What is the name of the exception the code is trying to catch?\n",
      "\n",
      "3. What is the output? "
     ]
    },
    {
     "cell_type": "markdown",
     "metadata": {},
     "source": [
      "Now assume the definition of the function Normalize is rewritten as follows"
     ]
    },
    {
     "cell_type": "code",
     "collapsed": false,
     "input": [
      "def Normalize(numbers):\n",
      "    max_number = max(numbers)\n",
      "    assert(max_number != 0), \"Cannot divide by 0\"\n",
      "    for i in range(len(numbers)):\n",
      "        numbers[i]  /= float(max_number)\n",
      "        assert(0.0 <= numbers[i] <= 1.0), \"output not between 0 and 1\"\n",
      "    return numbers "
     ],
     "language": "python",
     "metadata": {},
     "outputs": []
    },
    {
     "cell_type": "raw",
     "metadata": {},
     "source": [
      "1. Which condition does the line assert(max_number != 0) correspond to?\n",
      "\n",
      "2. Which condition does the line assert(0.0 <= numbers[i] <= 1.0) correspond to?\n",
      "\n",
      "3. What does the function call Normalize([0, 0, 0]) print out?"
     ]
    }
   ],
   "metadata": {}
  }
 ]
}
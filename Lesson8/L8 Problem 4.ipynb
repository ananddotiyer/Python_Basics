{
 "cells": [
  {
   "cell_type": "markdown",
   "metadata": {},
   "source": [
    "Consider the function Normalize that takes as input a list of positive numbers and returns a list of numbers that are a fraction of the maximum element in the list. Try to answer the questions without running the code. Check your answers, then run the code for the ones you get wrong. You'll learn the most this way, by figuring things out, instead of just running the code and reading off the answers. "
   ]
  },
  {
   "cell_type": "code",
   "execution_count": null,
   "metadata": {},
   "outputs": [],
   "source": [
    "def Normalize(numbers):\n",
    "    max_number = max(numbers)\n",
    "    for i in range(len(numbers)):\n",
    "        numbers[i] /= float(max_number)\n",
    "    return numbers "
   ]
  },
  {
   "cell_type": "markdown",
   "metadata": {},
   "source": [
    "The code below tries to call Normalize with one particular input. Answer the next 5 questions based on the following code."
   ]
  },
  {
   "cell_type": "code",
   "execution_count": null,
   "metadata": {},
   "outputs": [],
   "source": [
    "try:\n",
    "      print (Normalize([0, 0, 0]))\n",
    "except ZeroDivisionError as e:\n",
    "      print ('Invalid maximum element')"
   ]
  },
  {
   "cell_type": "raw",
   "metadata": {},
   "source": [
    "1. Does the try block throw (also known as raise) an exception?\n",
    "\n",
    "2. What is the name of the exception the code is trying to catch?\n",
    "\n",
    "3. What is the output? "
   ]
  },
  {
   "cell_type": "markdown",
   "metadata": {},
   "source": [
    "Now assume the definition of the function Normalize is rewritten as follows"
   ]
  },
  {
   "cell_type": "code",
   "execution_count": null,
   "metadata": {},
   "outputs": [],
   "source": [
    "def Normalize(numbers):\n",
    "    max_number = max(numbers)\n",
    "    assert(max_number != 0), \"Cannot divide by 0\"\n",
    "    for i in range(len(numbers)):\n",
    "        numbers[i]  /= float(max_number)\n",
    "        assert(0.0 <= numbers[i] <= 1.0), \"output not between 0 and 1\"\n",
    "    return numbers "
   ]
  },
  {
   "cell_type": "code",
   "execution_count": null,
   "metadata": {},
   "outputs": [],
   "source": [
    "try:\n",
    "      print (Normalize([4, 0, 1]))\n",
    "except ZeroDivisionError as e:\n",
    "      print ('Invalid maximum element')"
   ]
  },
  {
   "cell_type": "raw",
   "metadata": {},
   "source": [
    "1. Which condition does the line assert(max_number != 0) correspond to?\n",
    "\n",
    "2. Which condition does the line assert(0.0 <= numbers[i] <= 1.0) correspond to?\n",
    "\n",
    "3. What does the function call Normalize([0, 0, 0]) print out?"
   ]
  }
 ],
 "metadata": {
  "kernelspec": {
   "display_name": "Python 3",
   "language": "python",
   "name": "python3"
  },
  "language_info": {
   "codemirror_mode": {
    "name": "ipython",
    "version": 3
   },
   "file_extension": ".py",
   "mimetype": "text/x-python",
   "name": "python",
   "nbconvert_exporter": "python",
   "pygments_lexer": "ipython3",
   "version": "3.6.5"
  }
 },
 "nbformat": 4,
 "nbformat_minor": 1
}

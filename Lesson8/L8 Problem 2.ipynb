{
 "metadata": {
  "name": "",
  "signature": "sha256:b893d90af4eb7696a775c2ebbde17abca3f310e15524a70c5e4063f1599fe244"
 },
 "nbformat": 3,
 "nbformat_minor": 0,
 "worksheets": [
  {
   "cells": [
    {
     "cell_type": "markdown",
     "metadata": {},
     "source": [
      "Below are some short Python programs. For each program, answer the associated question. \n",
      "\n",
      "Try to answer the questions without running the code. Check your answers, then run the code for the ones you get wrong. \n",
      "\n",
      "These questions will ask you to write what the code prints out. If an exception is raised that is not handled by the code write \"error\" (no quotes), in addition to any other text that is output.\n",
      "\n",
      "The function in the following questions takes a list of integers numbersand a position index, and divides each entry in the list of numbers by the value at entry index.\n",
      "\n",
      "Write what it prints out, separating what appears on a new line by a comma and a space. "
     ]
    },
    {
     "cell_type": "code",
     "collapsed": false,
     "input": [
      "def FancyDivide(numbers,index):\n",
      "    try:\n",
      "        denom = numbers[index]\n",
      "        for i in range(len(numbers)):\n",
      "            numbers[i] /= denom\n",
      "    except IndexError, e:\n",
      "        print \"-1\"\n",
      "    else:\n",
      "        print \"1\"\n",
      "    finally:\n",
      "          print \"0\""
     ],
     "language": "python",
     "metadata": {},
     "outputs": []
    },
    {
     "cell_type": "code",
     "collapsed": false,
     "input": [
      "FancyDivide([0, 2, 4], 1)"
     ],
     "language": "python",
     "metadata": {},
     "outputs": []
    },
    {
     "cell_type": "code",
     "collapsed": false,
     "input": [
      "FancyDivide([0, 2, 4], 4)"
     ],
     "language": "python",
     "metadata": {},
     "outputs": []
    },
    {
     "cell_type": "code",
     "collapsed": false,
     "input": [
      "FancyDivide([0, 2, 4], 0)"
     ],
     "language": "python",
     "metadata": {},
     "outputs": []
    },
    {
     "cell_type": "code",
     "collapsed": false,
     "input": [
      "def FancyDivide(numbers, index):\n",
      "    try:\n",
      "        denom = numbers[index]\n",
      "        for i in range(len(numbers)):\n",
      "            numbers[i] /= denom\n",
      "    except IndexError, e:\n",
      "        FancyDivide(numbers, len(numbers) - 1)\n",
      "    except ZeroDivisionError, e:\n",
      "        print \"-2\"\n",
      "    else:\n",
      "        print \"1\"\n",
      "    finally:\n",
      "        print \"0\""
     ],
     "language": "python",
     "metadata": {},
     "outputs": []
    },
    {
     "cell_type": "code",
     "collapsed": false,
     "input": [
      "FancyDivide([0, 2, 4], 1)"
     ],
     "language": "python",
     "metadata": {},
     "outputs": []
    },
    {
     "cell_type": "code",
     "collapsed": false,
     "input": [
      "FancyDivide([0, 2, 4], 4)"
     ],
     "language": "python",
     "metadata": {},
     "outputs": []
    },
    {
     "cell_type": "code",
     "collapsed": false,
     "input": [
      "FancyDivide([0, 2, 4], 0)"
     ],
     "language": "python",
     "metadata": {},
     "outputs": []
    },
    {
     "cell_type": "code",
     "collapsed": false,
     "input": [
      "def FancyDivide(numbers, index):\n",
      "    try:\n",
      "        try:\n",
      "            denom = numbers[index]\n",
      "            for i in range(len(numbers)):\n",
      "                numbers[i] /= denom\n",
      "        except IndexError, e:\n",
      "            FancyDivide(numbers, len(numbers) - 1)\n",
      "        else:\n",
      "            print \"1\"\n",
      "        finally:\n",
      "            print \"0\"\n",
      "    except ZeroDivisionError, e:\n",
      "        print \"-2\""
     ],
     "language": "python",
     "metadata": {},
     "outputs": []
    },
    {
     "cell_type": "code",
     "collapsed": false,
     "input": [
      "FancyDivide([0, 2, 4], 1)"
     ],
     "language": "python",
     "metadata": {},
     "outputs": []
    },
    {
     "cell_type": "code",
     "collapsed": false,
     "input": [
      "FancyDivide([0, 2, 4], 4)"
     ],
     "language": "python",
     "metadata": {},
     "outputs": []
    },
    {
     "cell_type": "code",
     "collapsed": false,
     "input": [
      "FancyDivide([0, 2, 4], 0)"
     ],
     "language": "python",
     "metadata": {},
     "outputs": []
    },
    {
     "cell_type": "code",
     "collapsed": false,
     "input": [
      "def FancyDivide(list_of_numbers, index):\n",
      "    try:\n",
      "        try:\n",
      "            raise Exception(\"0\")\n",
      "        finally:\n",
      "            denom = list_of_numbers[index]\n",
      "            for i in range(len(list_of_numbers)):\n",
      "                list_of_numbers[i] /= denom\n",
      "    except Exception, e:\n",
      "        print e"
     ],
     "language": "python",
     "metadata": {},
     "outputs": []
    },
    {
     "cell_type": "code",
     "collapsed": false,
     "input": [
      "FancyDivide([0, 2, 4], 0) #prints exception raised in finally block"
     ],
     "language": "python",
     "metadata": {},
     "outputs": []
    },
    {
     "cell_type": "code",
     "collapsed": false,
     "input": [
      "def FancyDivide(list_of_numbers, index):\n",
      "    try:\n",
      "        try:\n",
      "            denom = list_of_numbers[index]\n",
      "            for i in range(len(list_of_numbers)):\n",
      "                list_of_numbers[i] /= denom\n",
      "        finally:\n",
      "            raise Exception(\"0\")\n",
      "    except Exception, e:\n",
      "        print e"
     ],
     "language": "python",
     "metadata": {},
     "outputs": []
    },
    {
     "cell_type": "code",
     "collapsed": false,
     "input": [
      "FancyDivide([0, 2, 4], 0) #overrides exception raised in inner try block"
     ],
     "language": "python",
     "metadata": {},
     "outputs": []
    }
   ],
   "metadata": {}
  }
 ]
}
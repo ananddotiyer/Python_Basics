{
 "cells": [
  {
   "cell_type": "markdown",
   "metadata": {},
   "source": [
    "Suppose we rewrite the FancyDivide function to use a helper function."
   ]
  },
  {
   "cell_type": "code",
   "execution_count": null,
   "metadata": {},
   "outputs": [],
   "source": [
    "def FancyDivide(list_of_numbers, index):\n",
    "   denom = list_of_numbers[index]\n",
    "   return [SimpleDivide(item, denom)\n",
    "               for item in list_of_numbers]\n",
    "\n",
    "\n",
    "def SimpleDivide(item, denom):\n",
    "   return item / denom"
   ]
  },
  {
   "cell_type": "code",
   "execution_count": null,
   "metadata": {},
   "outputs": [],
   "source": [
    "FancyDivide([0, 2, 4], 0)  # raises a ZeroDivisionError exception"
   ]
  },
  {
   "cell_type": "markdown",
   "metadata": {},
   "source": [
    "Your task is to change the definition of SimpleDivide so that the call does not raise an exception. When dividing by 0, FancyDivide should return a list with all 0 elements. Any other error cases should still raise exceptions. You should only handle the ZeroDivisionError. "
   ]
  },
  {
   "cell_type": "code",
   "execution_count": null,
   "metadata": {},
   "outputs": [],
   "source": [
    "def FancyDivide(list_of_numbers, index):\n",
    "   denom = list_of_numbers[index]\n",
    "   return [SimpleDivide(item, denom)\n",
    "               for item in list_of_numbers]\n",
    "\n",
    "def SimpleDivide(item, denom):\n",
    "   try:\n",
    "       return item / denom\n",
    "   except ZeroDivisionError:\n",
    "       return 0"
   ]
  },
  {
   "cell_type": "code",
   "execution_count": null,
   "metadata": {},
   "outputs": [],
   "source": [
    "FancyDivide([0, 2, 4], 0)  # raises a ZeroDivisionError exception"
   ]
  }
 ],
 "metadata": {
  "kernelspec": {
   "display_name": "Python 3",
   "language": "python",
   "name": "python3"
  },
  "language_info": {
   "codemirror_mode": {
    "name": "ipython",
    "version": 3
   },
   "file_extension": ".py",
   "mimetype": "text/x-python",
   "name": "python",
   "nbconvert_exporter": "python",
   "pygments_lexer": "ipython3",
   "version": "3.6.5"
  }
 },
 "nbformat": 4,
 "nbformat_minor": 1
}

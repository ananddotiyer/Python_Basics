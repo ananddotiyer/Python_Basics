{
 "metadata": {
  "name": "",
  "signature": "sha256:55a33a1b2c5c2972a990a59dbb99d6402747d94278eb8ec40ddf2969591faf22"
 },
 "nbformat": 3,
 "nbformat_minor": 0,
 "worksheets": [
  {
   "cells": [
    {
     "cell_type": "markdown",
     "metadata": {},
     "source": [
      "Try to answer the following questions by just reading the code. Reading code is a very good skill to have (and will help you both in your programming career and on your exams!). It is okay to check your answers that you obtain from just reading the code, then in your interpreter run the code for the ones you got wrong on your first attempt. \n",
      "\n",
      "What error (if any) is raised when the following code snippets are attempted?  Which ones raises TypeError, ValueError, NameError?"
     ]
    },
    {
     "cell_type": "code",
     "collapsed": false,
     "input": [
      "'1' / '2' "
     ],
     "language": "python",
     "metadata": {},
     "outputs": []
    },
    {
     "cell_type": "code",
     "collapsed": false,
     "input": [
      "'1' / 2 "
     ],
     "language": "python",
     "metadata": {},
     "outputs": []
    },
    {
     "cell_type": "code",
     "collapsed": false,
     "input": [
      "int('1') / 2.0 "
     ],
     "language": "python",
     "metadata": {},
     "outputs": []
    },
    {
     "cell_type": "code",
     "collapsed": false,
     "input": [
      "mylist = [10, 20, 30] \n",
      "mylist.index(11) "
     ],
     "language": "python",
     "metadata": {},
     "outputs": []
    },
    {
     "cell_type": "code",
     "collapsed": false,
     "input": [
      "A=2 \n",
      "3*a"
     ],
     "language": "python",
     "metadata": {},
     "outputs": []
    }
   ],
   "metadata": {}
  }
 ]
}
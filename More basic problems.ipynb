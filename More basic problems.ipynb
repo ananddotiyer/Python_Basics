{
 "cells": [
  {
   "cell_type": "markdown",
   "metadata": {},
   "source": [
    "#### 1.  Write a function that takes an exam score from 0 to 100 and returns the corresponding letter grade. Use the same grading scale your professor does for this class."
   ]
  },
  {
   "cell_type": "markdown",
   "metadata": {},
   "source": [
    "#### 2. Given the age of 10 students in your class, find the mean age of the class.  If you add your teacher to the list, find the new mean?  What about the median?  Don't use the statistics module to solve"
   ]
  },
  {
   "cell_type": "markdown",
   "metadata": {},
   "source": [
    "#### 3. Transportation (rail fence) cipher/decipher"
   ]
  },
  {
   "cell_type": "markdown",
   "metadata": {},
   "source": [
    "Split the original string to odd and even indexes, and concatenate them to construct the ciphered string."
   ]
  },
  {
   "cell_type": "markdown",
   "metadata": {},
   "source": [
    "#### 4. Substitution cipher/decipher"
   ]
  },
  {
   "cell_type": "markdown",
   "metadata": {},
   "source": [
    "26-letter key defines how each english alphabet is substituted."
   ]
  }
 ],
 "metadata": {
  "kernelspec": {
   "display_name": "Python 3",
   "language": "python",
   "name": "python3"
  },
  "language_info": {
   "codemirror_mode": {
    "name": "ipython",
    "version": 3
   },
   "file_extension": ".py",
   "mimetype": "text/x-python",
   "name": "python",
   "nbconvert_exporter": "python",
   "pygments_lexer": "ipython3",
   "version": "3.7.4"
  }
 },
 "nbformat": 4,
 "nbformat_minor": 2
}

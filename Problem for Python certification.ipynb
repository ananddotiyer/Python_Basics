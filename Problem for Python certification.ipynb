{
 "cells": [
  {
   "cell_type": "markdown",
   "metadata": {},
   "source": [
    "I. Write a Python program to implement the Heron's algorithm to find square root of a given whole number.\n",
    "\n",
    "Reference: http://www.quickermaths.com/herons-method-of-finding-roots/"
   ]
  },
  {
   "cell_type": "markdown",
   "metadata": {},
   "source": [
    "II. Design and implement a shopping bill algorithm.\n",
    "\n",
    "Should support a pre-determined set of items, with pre-set prices for each.   Allow the user to select the items in a sequence, and print out the the total bill.  Allow adding same item multiple times.  Allow the shop-keeper to add/modify items to the existing list."
   ]
  },
  {
   "cell_type": "markdown",
   "metadata": {},
   "source": [
    "III.Design and implement \"Guess the secret number\" game \n",
    "\n",
    "Reference: https://www.theproblemsite.com/games/secret-number-game-design"
   ]
  },
  {
   "cell_type": "markdown",
   "metadata": {},
   "source": [
    "IV. Design and implement the \"master-mind\" game\n",
    "\n",
    "Reference: http://www.web-games-online.com/mastermind/rules.php"
   ]
  },
  {
   "cell_type": "markdown",
   "metadata": {},
   "source": [
    "V. Solve problems 1-10 from http://www.projecteuler.net"
   ]
  }
 ],
 "metadata": {
  "kernelspec": {
   "display_name": "Python 2",
   "language": "python",
   "name": "python2"
  },
  "language_info": {
   "codemirror_mode": {
    "name": "ipython",
    "version": 2
   },
   "file_extension": ".py",
   "mimetype": "text/x-python",
   "name": "python",
   "nbconvert_exporter": "python",
   "pygments_lexer": "ipython2",
   "version": "2.7.13"
  }
 },
 "nbformat": 4,
 "nbformat_minor": 2
}

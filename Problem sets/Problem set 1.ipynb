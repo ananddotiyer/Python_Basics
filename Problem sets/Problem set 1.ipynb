{
 "metadata": {
  "name": "",
  "signature": "sha256:061ab9120b65c75faec21199147623c1e7ed8a2489d47727b86b84c83bd895de"
 },
 "nbformat": 3,
 "nbformat_minor": 0,
 "worksheets": [
  {
   "cells": [
    {
     "cell_type": "markdown",
     "metadata": {},
     "source": [
      "#Problem1:\n",
      "\n",
      "Assume\u00a0s\u00a0is a string of lower case characters.\n",
      "\n",
      "Write a program that prints the longest substring of\u00a0s\u00a0in which the letters occur in alphabetical order. For example, if\u00a0s = 'azcbobobegghakl', then your program should print\n",
      "\n",
      ">Longest substring in alphabetical order is: beggh\n",
      "\n",
      "In the case of ties, print the first substring. For example, if\u00a0s = 'abcbcd', then your program should print\n",
      "\n",
      ">Longest substring in alphabetical order is: abc"
     ]
    },
    {
     "cell_type": "markdown",
     "metadata": {},
     "source": [
      "#Problem2:\n",
      "\n",
      "Assume\u00a0s\u00a0is a string of lower case characters.\n",
      "\n",
      "Write a program that prints the number of times the string\u00a0'bob'\u00a0occurs in\u00a0s. For example, ifs = 'azcbobobegghakl', then your program should print\n",
      "\n",
      ">Number of times bob occurs is: 2"
     ]
    },
    {
     "cell_type": "markdown",
     "metadata": {},
     "source": [
      "#Problem3:\n",
      "    \n",
      "Assume\u00a0s\u00a0is a string of lower case characters.\n",
      "\n",
      "Write a program that counts up the number of vowels contained in the string\u00a0s. Valid vowels are: 'a', 'e', 'i', 'o', and 'u'. For example, if\u00a0s = 'azcbobobegghakl', your program should print:\n",
      "\n",
      ">Number of vowels: 5"
     ]
    }
   ],
   "metadata": {}
  }
 ]
}
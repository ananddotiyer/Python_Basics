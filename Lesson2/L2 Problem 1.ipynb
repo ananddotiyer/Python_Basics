{
 "metadata": {
  "name": "",
  "signature": "sha256:60229ca6e9a080cee17378adb01a5272daf2ae64c5ad5d3e32c6cfeed99b87f1"
 },
 "nbformat": 3,
 "nbformat_minor": 0,
 "worksheets": [
  {
   "cells": [
    {
     "cell_type": "code",
     "collapsed": false,
     "input": [
      "3.14"
     ],
     "language": "python",
     "metadata": {},
     "outputs": []
    },
    {
     "cell_type": "raw",
     "metadata": {},
     "source": [
      "a. NoneType\n",
      "b. Int\n",
      "c. Float\n",
      "d. Bool"
     ]
    },
    {
     "cell_type": "code",
     "collapsed": false,
     "input": [
      "-34"
     ],
     "language": "python",
     "metadata": {},
     "outputs": []
    },
    {
     "cell_type": "raw",
     "metadata": {},
     "source": [
      "a. NoneType\n",
      "b. Int\n",
      "c. Float\n",
      "d. Bool"
     ]
    },
    {
     "cell_type": "code",
     "collapsed": false,
     "input": [
      "True"
     ],
     "language": "python",
     "metadata": {},
     "outputs": []
    },
    {
     "cell_type": "raw",
     "metadata": {},
     "source": [
      "a. NoneType\n",
      "b. Int\n",
      "c. Float\n",
      "d. Bool"
     ]
    },
    {
     "cell_type": "code",
     "collapsed": false,
     "input": [
      "None"
     ],
     "language": "python",
     "metadata": {},
     "outputs": []
    },
    {
     "cell_type": "raw",
     "metadata": {},
     "source": [
      "a. NoneType\n",
      "b. Int\n",
      "c. Float\n",
      "d. Bool"
     ]
    },
    {
     "cell_type": "code",
     "collapsed": false,
     "input": [
      "3.0"
     ],
     "language": "python",
     "metadata": {},
     "outputs": []
    },
    {
     "cell_type": "raw",
     "metadata": {},
     "source": [
      "a. NoneType\n",
      "b. Int\n",
      "c. Float\n",
      "d. Bool"
     ]
    }
   ],
   "metadata": {}
  }
 ]
}
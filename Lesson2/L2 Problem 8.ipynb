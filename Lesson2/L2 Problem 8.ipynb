{
 "metadata": {
  "name": "",
  "signature": "sha256:85f0ea3f35aa87a90f5c65186b261c5949e7fd094777197354db7deee0d95128"
 },
 "nbformat": 3,
 "nbformat_minor": 0,
 "worksheets": [
  {
   "cells": [
    {
     "cell_type": "markdown",
     "metadata": {},
     "source": [
      "Write a piece of Python code that prints out the string 'hello world'"
     ]
    },
    {
     "cell_type": "code",
     "collapsed": false,
     "input": [],
     "language": "python",
     "metadata": {},
     "outputs": []
    }
   ],
   "metadata": {}
  }
 ]
}
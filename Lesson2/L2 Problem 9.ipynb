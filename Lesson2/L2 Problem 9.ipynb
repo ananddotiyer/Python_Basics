{
 "cells": [
  {
   "cell_type": "markdown",
   "metadata": {},
   "source": [
    "For each of the following expressions, indicate the value that prints out when the expression is evaluated. If the evaluation would lead to an error, write the word 'error'; if nothing would print out, write the word 'blank'. \n",
    "\n",
    "While you could simply type these expressions into an IDLE or Canopy shell, we encourage you to answer them directly since this will help reinforce your understanding of basic Python expressions. \n",
    "PS: If the temperatures seem weird to you, like most of the world, you probably use the Celsius system. Some parts of the world (Americas) still use crazy Farenheit system."
   ]
  },
  {
   "cell_type": "code",
   "execution_count": null,
   "metadata": {},
   "outputs": [],
   "source": [
    "if 6 > 7:\n",
    "   print (\"Yep\")"
   ]
  },
  {
   "cell_type": "code",
   "execution_count": null,
   "metadata": {},
   "outputs": [],
   "source": [
    "if 6 > 7:\n",
    "   print (\"Yep\")\n",
    "else:\n",
    "   print (\"Nope\")"
   ]
  },
  {
   "cell_type": "code",
   "execution_count": null,
   "metadata": {},
   "outputs": [],
   "source": [
    "var = 'Panda'\n",
    "if var == \"panda\":\n",
    "   print (\"Cute!\")\n",
    "elif var == \"Panda\":\n",
    "   print (\"Regal!\")\n",
    "else:\n",
    "   print (\"Ugly...\")"
   ]
  },
  {
   "cell_type": "code",
   "execution_count": null,
   "metadata": {},
   "outputs": [],
   "source": [
    "# How to make the following code work?\n",
    "temp = '32'\n",
    "if temp > 85:\n",
    "   print (\"Hot\")\n",
    "elif temp > 62:\n",
    "   print (\"Comfortable\")\n",
    "else:\n",
    "   print (\"Cold\")"
   ]
  },
  {
   "cell_type": "code",
   "execution_count": null,
   "metadata": {},
   "outputs": [],
   "source": [
    "temp = 120\n",
    "if temp > 85:\n",
    "   print (\"Hot\")\n",
    "elif temp > 100:\n",
    "   print (\"REALLY HOT!\")\n",
    "elif temp > 60:\n",
    "   print (\"Comfortable\" )\n",
    "else:\n",
    "   print (\"Cold\")"
   ]
  },
  {
   "cell_type": "code",
   "execution_count": null,
   "metadata": {},
   "outputs": [],
   "source": [
    "temp = 50\n",
    "if temp > 85:\n",
    "   print (\"Hot\")\n",
    "elif temp > 100:\n",
    "   print (\"REALLY HOT!\")\n",
    "elif temp > 60:\n",
    "   print (\"Comfortable\")\n",
    "else:\n",
    "   print (\"Cold\")"
   ]
  }
 ],
 "metadata": {
  "kernelspec": {
   "display_name": "Python 3",
   "language": "python",
   "name": "python3"
  },
  "language_info": {
   "codemirror_mode": {
    "name": "ipython",
    "version": 3
   },
   "file_extension": ".py",
   "mimetype": "text/x-python",
   "name": "python",
   "nbconvert_exporter": "python",
   "pygments_lexer": "ipython3",
   "version": "3.6.5"
  }
 },
 "nbformat": 4,
 "nbformat_minor": 1
}

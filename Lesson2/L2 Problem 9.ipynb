{
 "metadata": {
  "name": "",
  "signature": "sha256:9a439fc55d08b0d677483300da6caf8fc3f7d6b0b337438deca5199863126b21"
 },
 "nbformat": 3,
 "nbformat_minor": 0,
 "worksheets": [
  {
   "cells": [
    {
     "cell_type": "markdown",
     "metadata": {},
     "source": [
      "For each of the following expressions, indicate the value that prints out when the expression is evaluated. If the evaluation would lead to an error, write the word 'error'; if nothing would print out, write the word 'blank'. \n",
      "\n",
      "While you could simply type these expressions into an IDLE or Canopy shell, we encourage you to answer them directly since this will help reinforce your understanding of basic Python expressions. \n",
      "PS: If the temperatures seem weird to you, like most of the world, you probably use the Celsius system. Some parts of the world (Americas) still use crazy Farenheit system."
     ]
    },
    {
     "cell_type": "code",
     "collapsed": false,
     "input": [
      "if 6 > 7:\n",
      "   print \"Yep\""
     ],
     "language": "python",
     "metadata": {},
     "outputs": []
    },
    {
     "cell_type": "code",
     "collapsed": false,
     "input": [
      "if 6 > 7:\n",
      "   print \"Yep\"\n",
      "else:\n",
      "   print \"Nope\""
     ],
     "language": "python",
     "metadata": {},
     "outputs": []
    },
    {
     "cell_type": "code",
     "collapsed": false,
     "input": [
      "var = 'Panda'\n",
      "if var == \"panda\":\n",
      "   print \"Cute!\"\n",
      "elif var == \"Panda\":\n",
      "   print \"Regal!\"\n",
      "else:\n",
      "   print \"Ugly...\""
     ],
     "language": "python",
     "metadata": {},
     "outputs": []
    },
    {
     "cell_type": "code",
     "collapsed": false,
     "input": [
      "temp = '32'\n",
      "if temp > 85:\n",
      "   print \"Hot\"\n",
      "elif temp > 62:\n",
      "   print \"Comfortable\" \n",
      "else:\n",
      "   print \"Cold\""
     ],
     "language": "python",
     "metadata": {},
     "outputs": []
    },
    {
     "cell_type": "code",
     "collapsed": false,
     "input": [
      "temp = 120\n",
      "if temp > 85:\n",
      "   print \"Hot\"\n",
      "elif temp > 100:\n",
      "   print \"REALLY HOT!\"\n",
      "elif temp > 60:\n",
      "   print \"Comfortable\" \n",
      "else:\n",
      "   print \"Cold\""
     ],
     "language": "python",
     "metadata": {},
     "outputs": []
    },
    {
     "cell_type": "code",
     "collapsed": false,
     "input": [
      "temp = 50\n",
      "if temp > 85:\n",
      "   print \"Hot\"\n",
      "elif temp > 100:\n",
      "   print \"REALLY HOT!\"\n",
      "elif temp > 60:\n",
      "   print \"Comfortable\"\n",
      "else:\n",
      "   print \"Cold\""
     ],
     "language": "python",
     "metadata": {},
     "outputs": []
    }
   ],
   "metadata": {}
  }
 ]
}
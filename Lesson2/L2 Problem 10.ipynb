{
 "metadata": {
  "name": "",
  "signature": "sha256:58101d4a458fa9860371349fca49c9a11b0a1f1f7ef5bdea57afb615aee7a09e"
 },
 "nbformat": 3,
 "nbformat_minor": 0,
 "worksheets": [
  {
   "cells": [
    {
     "cell_type": "markdown",
     "metadata": {},
     "source": [
      "Write a piece of Python code that prints out the string 'hello world' if the value of an integer variable, happy, is strictly greater than 2."
     ]
    }
   ],
   "metadata": {}
  }
 ]
}
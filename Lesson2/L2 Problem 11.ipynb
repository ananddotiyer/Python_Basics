{
 "cells": [
  {
   "cell_type": "markdown",
   "metadata": {},
   "source": [
    "[![Open In Colab](https://colab.research.google.com/assets/colab-badge.svg)](https://colab.research.google.com/github/ananddotiyer/Python_Basics/blob/master/Lesson2/L2%20Problem%2011.ipynb)"
   ]
  },
  {
   "cell_type": "markdown",
   "metadata": {},
   "source": [
    "Assume that two variables, varA and varB, are assigned values, either numbers or strings. \n",
    "\n",
    "Write a piece of Python code that prints out one of the following messages: \n",
    "\n",
    "\"string involved\" if either varA or varB are strings \n",
    "\n",
    "\"bigger\" if varA is larger than varB \n",
    "\n",
    "\"equal\" if varA is equal to varB \n",
    "\n",
    "\"smaller\" if varA is smaller than varB"
   ]
  },
  {
   "cell_type": "markdown",
   "metadata": {},
   "source": [
    "Answer is in the following cell.  Convert to code and run."
   ]
  },
  {
   "cell_type": "markdown",
   "metadata": {},
   "source": [
    "varA = raw_input (\"Enter value for varA\")\n",
    "varB = raw_input (\"Enter value for varB\")\n",
    "\n",
    "#why does it always print 'string involved', even when you enter numbers for input?\n",
    "if type(varA) == str or type(varB) == str:\n",
    "    print 'string involved'\n",
    "elif varA > varB:\n",
    "    print 'bigger'\n",
    "elif varA == varB:\n",
    "    print 'equal'\n",
    "else:\n",
    "    print 'smaller'"
   ]
  }
 ],
 "metadata": {
  "kernelspec": {
   "display_name": "Python 3",
   "language": "python",
   "name": "python3"
  },
  "language_info": {
   "codemirror_mode": {
    "name": "ipython",
    "version": 3
   },
   "file_extension": ".py",
   "mimetype": "text/x-python",
   "name": "python",
   "nbconvert_exporter": "python",
   "pygments_lexer": "ipython3",
   "version": "3.7.4"
  }
 },
 "nbformat": 4,
 "nbformat_minor": 1
}

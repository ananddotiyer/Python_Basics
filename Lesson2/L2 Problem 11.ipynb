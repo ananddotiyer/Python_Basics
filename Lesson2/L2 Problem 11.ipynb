{
 "metadata": {
  "name": "",
  "signature": "sha256:6e176fed373be519e143749bf0b9a5c5794ecc0927d5d2d6ff379fb21c02048a"
 },
 "nbformat": 3,
 "nbformat_minor": 0,
 "worksheets": [
  {
   "cells": [
    {
     "cell_type": "markdown",
     "metadata": {},
     "source": [
      "Assume that two variables, varA and varB, are assigned values, either numbers or strings. \n",
      "\n",
      "Write a piece of Python code that prints out one of the following messages: \n",
      "\n",
      "\"string involved\" if either varA or varB are strings \n",
      "\n",
      "\"bigger\" if varA is larger than varB \n",
      "\n",
      "\"equal\" if varA is equal to varB \n",
      "\n",
      "\"smaller\" if varA is smaller than varB"
     ]
    },
    {
     "cell_type": "markdown",
     "metadata": {},
     "source": [
      "Answer is in the following cell.  Convert to code and run."
     ]
    },
    {
     "cell_type": "markdown",
     "metadata": {},
     "source": [
      "varA = raw_input (\"Enter value for varA\")\n",
      "varB = raw_input (\"Enter value for varB\")\n",
      "\n",
      "#why does it always print 'string involved', even when you enter numbers for input?\n",
      "if type(varA) == str or type(varB) == str:\n",
      "    print 'string involved'\n",
      "elif varA > varB:\n",
      "    print 'bigger'\n",
      "elif varA == varB:\n",
      "    print 'equal'\n",
      "else:\n",
      "    print 'smaller'"
     ]
    }
   ],
   "metadata": {}
  }
 ]
}
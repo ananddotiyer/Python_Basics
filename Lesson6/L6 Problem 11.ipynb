{
 "metadata": {
  "name": "",
  "signature": "sha256:c7677f5f31ee8dbffdf3e59ac0d464123d83682b9ee195d8dc137444b8bcd449"
 },
 "nbformat": 3,
 "nbformat_minor": 0,
 "worksheets": [
  {
   "cells": [
    {
     "cell_type": "markdown",
     "metadata": {},
     "source": [
      "Consider the following sequence of expressions: "
     ]
    },
    {
     "cell_type": "code",
     "collapsed": false,
     "input": [
      "animals = { 'a': ['aardvark'], 'b': ['baboon'], 'c': ['coati']}\n",
      "\n",
      "animals['d'] = ['donkey']\n",
      "animals['d'].append('dog')\n",
      "animals['d'].append('dingo')"
     ],
     "language": "python",
     "metadata": {},
     "outputs": [],
     "prompt_number": 1
    },
    {
     "cell_type": "markdown",
     "metadata": {},
     "source": [
      "We want to write some simple procedures that work on dictionaries to return information. \n",
      "This time, write a procedure, called biggest, which returns the key corresponding to the entry with the largest number of values associated with it. If there is more than one such entry, return any one of the matching keys.\n",
      "Example usage: \n",
      "\n",
      "> biggest(animals)\n",
      "\n",
      ">'d'\n",
      "\n",
      "If there are no values in the dictionary, biggest should return None. "
     ]
    },
    {
     "cell_type": "markdown",
     "metadata": {},
     "source": [
      "#Answer\n",
      "def biggest(aDict):\n",
      "    '''\n",
      "    aDict: A dictionary, where all the values are lists.\n",
      "\n",
      "    returns: The key with the largest number of values associated with it\n",
      "    '''\n",
      "    result = None\n",
      "    biggestValue = 0\n",
      "    for key in aDict.keys():\n",
      "        if len(aDict[key]) >= biggestValue:\n",
      "            result = key\n",
      "            biggestValue = len(aDict[key])\n",
      "    return result"
     ]
    }
   ],
   "metadata": {}
  }
 ]
}
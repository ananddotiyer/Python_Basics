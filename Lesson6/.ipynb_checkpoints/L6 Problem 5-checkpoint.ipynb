{
 "metadata": {
  "name": "",
  "signature": "sha256:09347b1f5d8f95c895d47b15780c85a1626d0df366d6676b9bff5055359d6ff9"
 },
 "nbformat": 3,
 "nbformat_minor": 0,
 "worksheets": [
  {
   "cells": [
    {
     "cell_type": "markdown",
     "metadata": {},
     "source": [
      "For the last expression in each question below, specify its type and value. If it generates an error, select type 'NoneType' and put the word 'error' in the box for the value. "
     ]
    },
    {
     "cell_type": "code",
     "collapsed": false,
     "input": [
      ">>> aList = range(1, 6)\n",
      ">>> bList = aList\n",
      ">>> aList[2] = 'hello'\n",
      ">>> aList == bList"
     ],
     "language": "python",
     "metadata": {},
     "outputs": []
    },
    {
     "cell_type": "code",
     "collapsed": false,
     "input": [
      ">>> aList is bList"
     ],
     "language": "python",
     "metadata": {},
     "outputs": []
    },
    {
     "cell_type": "code",
     "collapsed": false,
     "input": [
      ">>> aList"
     ],
     "language": "python",
     "metadata": {},
     "outputs": []
    },
    {
     "cell_type": "code",
     "collapsed": false,
     "input": [
      ">>> bList"
     ],
     "language": "python",
     "metadata": {},
     "outputs": []
    },
    {
     "cell_type": "code",
     "collapsed": false,
     "input": [
      ">>> cList = range(6, 1, -1)\n",
      ">>> dList = []\n",
      ">>> for num in cList:\n",
      "        dList.append(num)\n",
      ">>> cList == dList"
     ],
     "language": "python",
     "metadata": {},
     "outputs": []
    },
    {
     "cell_type": "code",
     "collapsed": false,
     "input": [
      ">>> cList is dList"
     ],
     "language": "python",
     "metadata": {},
     "outputs": []
    },
    {
     "cell_type": "code",
     "collapsed": false,
     "input": [
      ">>> cList[2] = 20\n",
      ">>> cList"
     ],
     "language": "python",
     "metadata": {},
     "outputs": []
    },
    {
     "cell_type": "code",
     "collapsed": false,
     "input": [
      ">>> dList"
     ],
     "language": "python",
     "metadata": {},
     "outputs": []
    }
   ],
   "metadata": {}
  }
 ]
}
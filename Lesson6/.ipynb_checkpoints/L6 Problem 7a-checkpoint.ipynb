{
 "metadata": {
  "name": "",
  "signature": "sha256:3df45f1001da8c42c32fa944ed53be0df8d5df6aea2b2c1dd0c8555859a98eb9"
 },
 "nbformat": 3,
 "nbformat_minor": 0,
 "worksheets": [
  {
   "cells": [
    {
     "cell_type": "markdown",
     "metadata": {},
     "source": [
      "Here is the code for a function applyToEach: "
     ]
    },
    {
     "cell_type": "code",
     "collapsed": false,
     "input": [
      "def applyToEach(L, f):\n",
      "    for i in range(len(L)):\n",
      "        L[i] = f(L[i])"
     ],
     "language": "python",
     "metadata": {},
     "outputs": []
    },
    {
     "cell_type": "markdown",
     "metadata": {},
     "source": [
      "Assume that:"
     ]
    },
    {
     "cell_type": "code",
     "collapsed": false,
     "input": [
      "testList = [1, -4, 8, -9]"
     ],
     "language": "python",
     "metadata": {},
     "outputs": []
    },
    {
     "cell_type": "markdown",
     "metadata": {},
     "source": [
      "For each of the following questions (which you may assume is evaluated independently of the previous questions, so that testList has the value indicated above), provide an expression using applyToEach, so that after evaluation testList has the indicated value. You may need to write a simple procedure in each question to help with this process. \n",
      "  >print testList\n",
      "  \n",
      "  >[1, 4, 8, 9]"
     ]
    },
    {
     "cell_type": "code",
     "collapsed": false,
     "input": [
      "applyToEach (testList, abs)\n",
      "print testList"
     ],
     "language": "python",
     "metadata": {},
     "outputs": []
    }
   ],
   "metadata": {}
  }
 ]
}
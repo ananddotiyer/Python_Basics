{
 "metadata": {
  "name": "",
  "signature": "sha256:6e3a9c267920796415c4caca3b2e101fa2408c81fc8b23f9c1d1243d0e5853eb"
 },
 "nbformat": 3,
 "nbformat_minor": 0,
 "worksheets": [
  {
   "cells": [
    {
     "cell_type": "markdown",
     "metadata": {},
     "source": [
      "Write a procedure called oddTuples, which takes a tuple as input, and returns a new tuple as output, where every other element of the input tuple is copied, starting with the first one. So if test is the tuple ('I', 'am', 'a', 'test', 'tuple'), then evaluating oddTuples on this input would return the tuple ('I', 'a', 'tuple')."
     ]
    },
    {
     "cell_type": "markdown",
     "metadata": {},
     "source": [
      "#Answer\n",
      "def oddTuples(aTup):\n",
      "    '''\n",
      "    aTup: a tuple\n",
      "    \n",
      "    returns: tuple, every other element of aTup. \n",
      "    '''\n",
      "    newTuple = ()\n",
      "    Index = 0\n",
      "    for i in aTup:\n",
      "        if (not (Index % 2)):\n",
      "            newTuple += (i, )\n",
      "        Index = Index + 1\n",
      "    \n",
      "    return newTuple"
     ]
    }
   ],
   "metadata": {}
  }
 ]
}
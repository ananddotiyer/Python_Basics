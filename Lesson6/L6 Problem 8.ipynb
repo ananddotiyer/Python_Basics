{
 "metadata": {
  "name": "",
  "signature": "sha256:ad7c895a146eab01c4de832274c4c811e68ce3d218dc38c0c2a96c5f2d74202d"
 },
 "nbformat": 3,
 "nbformat_minor": 0,
 "worksheets": [
  {
   "cells": [
    {
     "cell_type": "markdown",
     "metadata": {},
     "source": [
      "Here is a different piece of code for working with lists: "
     ]
    },
    {
     "cell_type": "code",
     "collapsed": false,
     "input": [
      "def applyEachTo(L, x):\n",
      "    result = []\n",
      "    for i in range(len(L)):\n",
      "        result.append(L[i](x))\n",
      "    return result"
     ],
     "language": "python",
     "metadata": {},
     "outputs": []
    },
    {
     "cell_type": "markdown",
     "metadata": {},
     "source": [
      "Suppose that you are given the following functions: "
     ]
    },
    {
     "cell_type": "code",
     "collapsed": false,
     "input": [
      "def square(a):\n",
      "    return a*a\n",
      "\n",
      "def halve(a):\n",
      "    return a/2\n",
      "\n",
      "def inc(a):\n",
      "    return a+1"
     ],
     "language": "python",
     "metadata": {},
     "outputs": []
    },
    {
     "cell_type": "markdown",
     "metadata": {},
     "source": [
      "For each of the following questions, indicate what value is returned. If you believe that an error will occur, write the word 'error'. "
     ]
    },
    {
     "cell_type": "code",
     "collapsed": false,
     "input": [
      "print applyEachTo([inc, square, halve, abs], -3)"
     ],
     "language": "python",
     "metadata": {},
     "outputs": []
    },
    {
     "cell_type": "code",
     "collapsed": false,
     "input": [
      "print applyEachTo([inc, square, halve, abs], 3.0)"
     ],
     "language": "python",
     "metadata": {},
     "outputs": []
    },
    {
     "cell_type": "code",
     "collapsed": false,
     "input": [
      "print applyEachTo([inc, max, int], -3)"
     ],
     "language": "python",
     "metadata": {},
     "outputs": []
    }
   ],
   "metadata": {}
  }
 ]
}
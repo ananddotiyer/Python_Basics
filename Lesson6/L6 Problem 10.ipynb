{
 "metadata": {
  "name": "",
  "signature": "sha256:67d5a37723ef3ac3102ada8f22ee5a59225b6e7f00e0def7ee1e2710a3f3659c"
 },
 "nbformat": 3,
 "nbformat_minor": 0,
 "worksheets": [
  {
   "cells": [
    {
     "cell_type": "markdown",
     "metadata": {},
     "source": [
      "Consider the following sequence of expressions: "
     ]
    },
    {
     "cell_type": "code",
     "collapsed": false,
     "input": [
      "animals = { 'a': ['aardvark'], 'b': ['baboon'], 'c': ['coati']}\n",
      "\n",
      "animals['d'] = ['donkey']\n",
      "animals['d'].append('dog')\n",
      "animals['d'].append('dingo')"
     ],
     "language": "python",
     "metadata": {},
     "outputs": []
    },
    {
     "cell_type": "markdown",
     "metadata": {},
     "source": [
      "We want to write some simple procedures that work on dictionaries to return information. \n",
      "First, write a procedure, called howMany, which returns the sum of the number of values associated with a dictionary. For example: \n",
      "\n",
      ">print howMany(animals)\n",
      "\n",
      ">6"
     ]
    },
    {
     "cell_type": "code",
     "collapsed": false,
     "input": [
      "#Answer\n",
      "def howMany(aDict):\n",
      "    '''\n",
      "    aDict: A dictionary, where all the values are lists.\n",
      "\n",
      "    returns: int, how many values are in the dictionary.\n",
      "    '''\n",
      "    counter = 0\n",
      "    for AnimalList in aDict.values():\n",
      "        for Animal in AnimalList:\n",
      "            counter += 1\n",
      "            \n",
      "    return counter"
     ],
     "language": "python",
     "metadata": {},
     "outputs": []
    },
    {
     "cell_type": "code",
     "collapsed": false,
     "input": [
      "print howMany (animals)"
     ],
     "language": "python",
     "metadata": {},
     "outputs": []
    }
   ],
   "metadata": {}
  }
 ]
}
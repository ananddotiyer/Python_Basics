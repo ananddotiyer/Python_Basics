{
 "metadata": {
  "name": "",
  "signature": "sha256:d7113955e94b301e21253c433329c7cb661bcf21ccf5b88998ee0e55bff53c84"
 },
 "nbformat": 3,
 "nbformat_minor": 0,
 "worksheets": [
  {
   "cells": [
    {
     "cell_type": "markdown",
     "metadata": {},
     "source": [
      "Consider the following function definition: "
     ]
    },
    {
     "cell_type": "code",
     "collapsed": false,
     "input": [
      "def f(n):\n",
      "   \"\"\"\n",
      "   n: integer, n >= 0.\n",
      "   \"\"\"\n",
      "   if n == 0:\n",
      "      return n\n",
      "   else:\n",
      "      return n * f(n-1)"
     ],
     "language": "python",
     "metadata": {},
     "outputs": []
    },
    {
     "cell_type": "markdown",
     "metadata": {},
     "source": [
      "When we call f(3) we expect the result 6, but we get 0. \n",
      "\n",
      "When we call f(1) we expect the result 1, but we get 0. \n",
      "\n",
      "When we call f(0) we expect the result 1, but we get 0. \n",
      "\n",
      "Using this information, how should the function be rewritten?"
     ]
    },
    {
     "cell_type": "markdown",
     "metadata": {},
     "source": [
      "#Answer\n",
      "def f(n):\n",
      "   \"\"\"\n",
      "   n: integer, n >= 0.\n",
      "   \"\"\"\n",
      "   if n == 1:\n",
      "      return n\n",
      "   else:\n",
      "      return n * f(n-1)"
     ]
    }
   ],
   "metadata": {}
  }
 ]
}
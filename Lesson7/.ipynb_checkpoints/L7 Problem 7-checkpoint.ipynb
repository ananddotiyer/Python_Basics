{
 "metadata": {
  "name": "",
  "signature": "sha256:b114e0fe0679ca37b25a431f18855b3090f4390d50bc0380fa69e2f76080b85d"
 },
 "nbformat": 3,
 "nbformat_minor": 0,
 "worksheets": [
  {
   "cells": [
    {
     "cell_type": "markdown",
     "metadata": {},
     "source": [
      "Consider the following function definition: "
     ]
    },
    {
     "cell_type": "code",
     "collapsed": false,
     "input": [
      "def rem(x, a):\n",
      "    \"\"\"\n",
      "    x: a non-negative integer argument\n",
      "    a: a positive integer argument\n",
      "\n",
      "    returns: integer, the remainder when x is divided by a.\n",
      "    \"\"\"\n",
      "    if x == a:\n",
      "        return 0\n",
      "    elif x < a:\n",
      "        return x\n",
      "    else:\n",
      "        rem(x-a, a)"
     ],
     "language": "python",
     "metadata": {},
     "outputs": []
    },
    {
     "cell_type": "code",
     "collapsed": false,
     "input": [
      "rem(2, 5) #returns 2"
     ],
     "language": "python",
     "metadata": {},
     "outputs": []
    },
    {
     "cell_type": "code",
     "collapsed": false,
     "input": [
      "rem (5,5) #returns 0"
     ],
     "language": "python",
     "metadata": {},
     "outputs": []
    },
    {
     "cell_type": "code",
     "collapsed": false,
     "input": [
      "rem (7,5) #returns nothing!"
     ],
     "language": "python",
     "metadata": {},
     "outputs": []
    },
    {
     "cell_type": "markdown",
     "metadata": {},
     "source": [
      "How should above function be rewritten, so that rem(7,5) prints appropriate value?"
     ]
    },
    {
     "cell_type": "markdown",
     "metadata": {},
     "source": [
      "#Answer\n",
      "def rem(x, a):\n",
      "    \"\"\"\n",
      "    x: a non-negative integer argument\n",
      "    a: a positive integer argument\n",
      "\n",
      "    returns: integer, the remainder when x is divided by a.\n",
      "    \"\"\"\n",
      "    if x == a:\n",
      "        return 0\n",
      "    elif x < a:\n",
      "        return x\n",
      "    else:\n",
      "        return rem(x-a, a)"
     ]
    }
   ],
   "metadata": {}
  }
 ]
}
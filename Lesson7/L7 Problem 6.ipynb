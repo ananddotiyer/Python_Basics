{
 "metadata": {
  "name": "",
  "signature": "sha256:ac9167516adfa3f6f594ad7306a0ab3d4e5a93b2d7fefd88bd261d73cf369b2f"
 },
 "nbformat": 3,
 "nbformat_minor": 0,
 "worksheets": [
  {
   "cells": [
    {
     "cell_type": "markdown",
     "metadata": {},
     "source": [
      "Consider the following code specification: "
     ]
    },
    {
     "cell_type": "markdown",
     "metadata": {},
     "source": [
      "Consider the following function definition: "
     ]
    },
    {
     "cell_type": "code",
     "collapsed": false,
     "input": [
      "def integerDivision(x, a):\n",
      "    \"\"\"\n",
      "    x: a non-negative integer argument\n",
      "    a: a positive integer argument\n",
      "\n",
      "    returns: integer, the integer division of x divided by a.\n",
      "    \"\"\"\n",
      "    while x >= a:\n",
      "        count += 1\n",
      "        x = x - a\n",
      "    return count"
     ],
     "language": "python",
     "metadata": {},
     "outputs": []
    },
    {
     "cell_type": "code",
     "collapsed": false,
     "input": [
      "#Results in error\n",
      "print integerDivision(5, 3)"
     ],
     "language": "python",
     "metadata": {},
     "outputs": []
    },
    {
     "cell_type": "markdown",
     "metadata": {},
     "source": [
      "Note the error in the previous command. Your task is to modify the code for integerDivision so that the above error does not occur. "
     ]
    },
    {
     "cell_type": "code",
     "collapsed": false,
     "input": [
      "#Answer\n",
      "def integerDivision(x, a):\n",
      "    \"\"\"\n",
      "    x: a non-negative integer argument\n",
      "    a: a positive integer argument\n",
      "\n",
      "    returns: integer, the integer division of x divided by a.\n",
      "    \"\"\"\n",
      "    count = 0\n",
      "    while x >= a:\n",
      "        count += 1\n",
      "        x = x - a\n",
      "    return count"
     ],
     "language": "python",
     "metadata": {},
     "outputs": []
    }
   ],
   "metadata": {}
  }
 ]
}
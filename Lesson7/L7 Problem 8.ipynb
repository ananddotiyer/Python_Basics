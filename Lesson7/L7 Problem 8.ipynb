{
 "cells": [
  {
   "cell_type": "markdown",
   "metadata": {},
   "source": [
    "[![Open In Colab](https://colab.research.google.com/assets/colab-badge.svg)](https://colab.research.google.com/github/ananddotiyer/Python_Basics/blob/master/Lesson7/L7%20Problem%208.ipynb)"
   ]
  },
  {
   "cell_type": "markdown",
   "metadata": {},
   "source": [
    "Consider the following function definition: "
   ]
  },
  {
   "cell_type": "code",
   "execution_count": null,
   "metadata": {},
   "outputs": [],
   "source": [
    "def f(n):\n",
    "   \"\"\"\n",
    "   n: integer, n >= 0.\n",
    "   \"\"\"\n",
    "   if n == 0:\n",
    "      return n\n",
    "   else:\n",
    "      return n * f(n-1)"
   ]
  },
  {
   "cell_type": "markdown",
   "metadata": {},
   "source": [
    "When we call f(3) we expect the result 6, but we get 0. \n",
    "\n",
    "When we call f(1) we expect the result 1, but we get 0. \n",
    "\n",
    "When we call f(0) we expect the result 1, but we get 0. \n",
    "\n",
    "Using this information, how should the function be rewritten?"
   ]
  },
  {
   "cell_type": "markdown",
   "metadata": {},
   "source": [
    "#Answer\n",
    "def f(n):\n",
    "   \"\"\"\n",
    "   n: integer, n >= 0.\n",
    "   \"\"\"\n",
    "   if n == 1:\n",
    "      return n\n",
    "   else:\n",
    "      return n * f(n-1)"
   ]
  }
 ],
 "metadata": {
  "kernelspec": {
   "display_name": "Python 3",
   "language": "python",
   "name": "python3"
  },
  "language_info": {
   "codemirror_mode": {
    "name": "ipython",
    "version": 3
   },
   "file_extension": ".py",
   "mimetype": "text/x-python",
   "name": "python",
   "nbconvert_exporter": "python",
   "pygments_lexer": "ipython3",
   "version": "3.7.4"
  }
 },
 "nbformat": 4,
 "nbformat_minor": 1
}

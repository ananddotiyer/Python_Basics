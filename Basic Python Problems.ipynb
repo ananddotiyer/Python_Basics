{
 "cells": [
  {
   "cell_type": "markdown",
   "metadata": {},
   "source": [
    "### How much do you weigh in moon? "
   ]
  },
  {
   "cell_type": "code",
   "execution_count": null,
   "metadata": {},
   "outputs": [],
   "source": [
    "factor = 0.165\n",
    "weight_on_earth = int(input(\"Weight on the earth?\"))\n",
    "\n",
    "weight_on_moon = factor * weight_on_earth\n",
    "print(weight_on_moon)"
   ]
  },
  {
   "cell_type": "markdown",
   "metadata": {},
   "source": [
    "### How many cookies is half of one cookie?  "
   ]
  },
  {
   "cell_type": "code",
   "execution_count": null,
   "metadata": {},
   "outputs": [],
   "source": [
    "import math\n",
    "cookies = int(input(\"How many cookies you've?\"))\n",
    "half_cookies = cookies / 2\n",
    "\n",
    "print(f\"You're left with {math.ceil(half_cookies)} cookies\")"
   ]
  },
  {
   "cell_type": "markdown",
   "metadata": {},
   "source": [
    "### How much is the temperature?"
   ]
  },
  {
   "cell_type": "code",
   "execution_count": null,
   "metadata": {},
   "outputs": [],
   "source": [
    "# Convert between Celcius and Kelvin\n",
    "temp_celcius = float(input(\"Celcius Temperature?\"))\n",
    "temp_kelvin = temp_celcius + 273.15\n",
    "print(temp_kelvin)\n",
    "\n",
    "#Convert between Fareheit and Celsius\n",
    "temp_farenheit = (9/5) * temp_celcius + 32\n",
    "print(temp_farenheit)"
   ]
  },
  {
   "cell_type": "markdown",
   "metadata": {},
   "source": [
    "### What is your age?"
   ]
  },
  {
   "cell_type": "code",
   "execution_count": null,
   "metadata": {},
   "outputs": [],
   "source": [
    "age = float(input(\"Current age?\"))\n",
    "\n",
    "days = age * 365\n",
    "years = int(age)\n",
    "\n",
    "remaining_days = days - years * 365\n",
    "months = remaining_days // 30\n",
    "\n",
    "remaining_days = remaining_days - months * 30\n",
    "\n",
    "print(f\"Your age is {years} years, {months} months, {remaining_days} days\")"
   ]
  },
  {
   "cell_type": "markdown",
   "metadata": {},
   "source": [
    "### GCD "
   ]
  },
  {
   "cell_type": "code",
   "execution_count": null,
   "metadata": {},
   "outputs": [],
   "source": [
    "# reduce the fraction 8/52\n",
    "gcd = math.gcd(8, 52)\n",
    "print(gcd)"
   ]
  },
  {
   "cell_type": "markdown",
   "metadata": {},
   "source": [
    "### What is the angle?"
   ]
  },
  {
   "cell_type": "code",
   "execution_count": null,
   "metadata": {},
   "outputs": [],
   "source": [
    "# Convert between radians and degrees.\n",
    "\n",
    "degrees_in_radians = 180/(math.pi)\n",
    "\n",
    "radians = float(input(\"Angle in radians?\"))\n",
    "print(degrees_in_radians * radians)"
   ]
  },
  {
   "cell_type": "markdown",
   "metadata": {},
   "source": [
    "### Heads or Tails"
   ]
  },
  {
   "cell_type": "code",
   "execution_count": null,
   "metadata": {},
   "outputs": [],
   "source": [
    "import random\n",
    "decider = random.randrange(0,2)\n",
    "if decider == 0:\n",
    "    print('HEADS')\n",
    "else:\n",
    "    print('TAILS')"
   ]
  },
  {
   "cell_type": "markdown",
   "metadata": {},
   "source": [
    "### Roll the dice"
   ]
  },
  {
   "cell_type": "code",
   "execution_count": null,
   "metadata": {},
   "outputs": [],
   "source": [
    "import random\n",
    "random.randrange(1,7)"
   ]
  },
  {
   "cell_type": "markdown",
   "metadata": {},
   "source": [
    "### Who are the lottery winners?"
   ]
  },
  {
   "cell_type": "code",
   "execution_count": null,
   "metadata": {},
   "outputs": [],
   "source": [
    "import random\n",
    "random.sample(range(100), 5)"
   ]
  },
  {
   "cell_type": "markdown",
   "metadata": {},
   "source": [
    "### Which is your pet?"
   ]
  },
  {
   "cell_type": "code",
   "execution_count": null,
   "metadata": {},
   "outputs": [],
   "source": [
    "import random\n",
    "pets = ['cat', 'dog', 'fish']\n",
    "random.choice(pets)"
   ]
  },
  {
   "cell_type": "markdown",
   "metadata": {},
   "source": [
    "### Shuffling the cards"
   ]
  },
  {
   "cell_type": "code",
   "execution_count": null,
   "metadata": {},
   "outputs": [],
   "source": [
    "cards = [\"Jack\", \"Ace\", \"King\", \"Queen\"]\n",
    "random.shuffle(cards)\n",
    "print(cards)"
   ]
  },
  {
   "cell_type": "markdown",
   "metadata": {},
   "source": [
    "### How much do you weight on other planets?"
   ]
  },
  {
   "cell_type": "code",
   "execution_count": null,
   "metadata": {},
   "outputs": [],
   "source": [
    "factors = {\n",
    "\"Mercury\": 0.38,\n",
    "\"Venus\": 0.91,\n",
    "\"Earth\": 1.00,\n",
    "\"Mars\": 0.38,\n",
    "\"Jupiter\": 2.34,\n",
    "\"Saturn\": 1.06,\n",
    "\"Uranus\": 0.92,\n",
    "\"Neptune\": 1.19,\n",
    "\"Pluto\": 0.06\n",
    "}\n",
    "\n",
    "weight_on_earth = int(input(\"Weight on the earth?\"))\n",
    "weight_on_mercury = weight_on_earth * factors[\"Mercury\"]\n",
    "print(weight_on_mercury)"
   ]
  },
  {
   "cell_type": "code",
   "execution_count": null,
   "metadata": {},
   "outputs": [],
   "source": [
    "for factor in factors:\n",
    "    print(f\"Weight on {factor} is {factors[factor] * weight_on_earth}\")"
   ]
  },
  {
   "cell_type": "markdown",
   "metadata": {},
   "source": [
    "### What is the average age of the class?"
   ]
  },
  {
   "cell_type": "code",
   "execution_count": null,
   "metadata": {},
   "outputs": [],
   "source": [
    "ages = [10,10,11,12,13,12,14,11,12,13]\n",
    "\n",
    "import statistics\n",
    "print(statistics.mean(ages))\n",
    "print(statistics.median(ages))\n",
    "print(statistics.mode(ages))"
   ]
  },
  {
   "cell_type": "markdown",
   "metadata": {},
   "source": [
    "### How many ways can we schedule subjects to create a time-table?"
   ]
  },
  {
   "cell_type": "code",
   "execution_count": null,
   "metadata": {},
   "outputs": [],
   "source": [
    "subjects = ['Maths', 'Physics', 'Chem', 'Bio', 'English', 'History', 'Geo']\n",
    "\n",
    "from itertools import permutations\n",
    "count = 0\n",
    "for permutation in permutations(subjects):\n",
    "    print(permutation)\n",
    "    count += 1\n",
    "\n",
    "# How many permutations?\n",
    "print(\"There are \" + str(count) + \" possible permutations of subjects\")"
   ]
  },
  {
   "cell_type": "markdown",
   "metadata": {},
   "source": [
    "### How many ways can we pick two subjects to learn, after school?"
   ]
  },
  {
   "cell_type": "code",
   "execution_count": null,
   "metadata": {},
   "outputs": [],
   "source": [
    "subjects = ['Maths', 'Physics', 'Chem', 'Bio', 'English', 'History', 'Geo']\n",
    "\n",
    "from itertools import combinations\n",
    "count = 0\n",
    "for combination in combinations(subjects, 2):\n",
    "    print(combination)\n",
    "    count += 1\n",
    "\n",
    "# How many combinations?\n",
    "print(\"There are \" + str(count) + \" possible pairs of subjects\")"
   ]
  },
  {
   "cell_type": "markdown",
   "metadata": {},
   "source": [
    "### Which day of the week were you born?  "
   ]
  },
  {
   "cell_type": "code",
   "execution_count": null,
   "metadata": {},
   "outputs": [],
   "source": [
    "import calendar\n",
    "\n",
    "from datetime import datetime, timedelta\n",
    "\n",
    "date = \"01-03-1990\"\n",
    "\n",
    "date = datetime.strptime(date, \"%d-%m-%Y\")\n",
    "\n",
    "calendar.weekday(date.year, date.month, date.day)"
   ]
  },
  {
   "cell_type": "markdown",
   "metadata": {},
   "source": [
    "### Which day of the week will you attain voting age?  "
   ]
  },
  {
   "cell_type": "code",
   "execution_count": null,
   "metadata": {
    "scrolled": true
   },
   "outputs": [],
   "source": [
    "date = date.replace(year = date.year + 21)\n",
    "\n",
    "calendar.weekday(date.year, date.month, date.day)"
   ]
  },
  {
   "cell_type": "markdown",
   "metadata": {},
   "source": [
    "### Creating a count-down timer"
   ]
  },
  {
   "cell_type": "code",
   "execution_count": null,
   "metadata": {},
   "outputs": [],
   "source": [
    "import time\n",
    "\n",
    "start = int(input(\"Start value (Timer starts as soon as you hit Enter key):\"))\n",
    "\n",
    "for counter in range(start, 0, -1):\n",
    "    print(str(counter) + \"..\", end='')\n",
    "    time.sleep(1)\n",
    "\n",
    "print (\"GO!\")"
   ]
  }
 ],
 "metadata": {
  "kernelspec": {
   "display_name": "Python 3",
   "language": "python",
   "name": "python3"
  },
  "language_info": {
   "codemirror_mode": {
    "name": "ipython",
    "version": 3
   },
   "file_extension": ".py",
   "mimetype": "text/x-python",
   "name": "python",
   "nbconvert_exporter": "python",
   "pygments_lexer": "ipython3",
   "version": "3.7.4"
  }
 },
 "nbformat": 4,
 "nbformat_minor": 2
}
